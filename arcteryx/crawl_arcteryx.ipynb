{
 "cells": [
  {
   "cell_type": "code",
   "execution_count": 28,
   "id": "91522b3d",
   "metadata": {},
   "outputs": [
    {
     "name": "stdout",
     "output_type": "stream",
     "text": [
      "Requirement already satisfied: chromedriver-autoinstaller in c:\\users\\jjssk\\anaconda3\\lib\\site-packages (0.6.2)\n",
      "Note: you may need to restart the kernel to use updated packages.\n"
     ]
    }
   ],
   "source": [
    "pip install chromedriver-autoinstaller"
   ]
  },
  {
   "cell_type": "code",
   "execution_count": 29,
   "id": "f687649f",
   "metadata": {},
   "outputs": [
    {
     "name": "stdout",
     "output_type": "stream",
     "text": [
      "Requirement already satisfied: selenium in c:\\users\\jjssk\\anaconda3\\lib\\site-packages (4.13.0)\n",
      "Requirement already satisfied: urllib3[socks]<3,>=1.26 in c:\\users\\jjssk\\anaconda3\\lib\\site-packages (from selenium) (1.26.4)\n",
      "Requirement already satisfied: trio~=0.17 in c:\\users\\jjssk\\anaconda3\\lib\\site-packages (from selenium) (0.22.2)\n",
      "Requirement already satisfied: trio-websocket~=0.9 in c:\\users\\jjssk\\anaconda3\\lib\\site-packages (from selenium) (0.10.3)\n",
      "Requirement already satisfied: certifi>=2021.10.8 in c:\\users\\jjssk\\anaconda3\\lib\\site-packages (from selenium) (2023.7.22)\n",
      "Requirement already satisfied: attrs>=20.1.0 in c:\\users\\jjssk\\anaconda3\\lib\\site-packages (from trio~=0.17->selenium) (20.3.0)\n",
      "Requirement already satisfied: sortedcontainers in c:\\users\\jjssk\\anaconda3\\lib\\site-packages (from trio~=0.17->selenium) (2.3.0)\n",
      "Requirement already satisfied: idna in c:\\users\\jjssk\\anaconda3\\lib\\site-packages (from trio~=0.17->selenium) (2.10)\n",
      "Requirement already satisfied: outcome in c:\\users\\jjssk\\anaconda3\\lib\\site-packages (from trio~=0.17->selenium) (1.2.0)\n",
      "Requirement already satisfied: sniffio in c:\\users\\jjssk\\anaconda3\\lib\\site-packages (from trio~=0.17->selenium) (1.2.0)\n",
      "Requirement already satisfied: cffi>=1.14 in c:\\users\\jjssk\\anaconda3\\lib\\site-packages (from trio~=0.17->selenium) (1.14.5)\n",
      "Requirement already satisfied: exceptiongroup>=1.0.0rc9 in c:\\users\\jjssk\\anaconda3\\lib\\site-packages (from trio~=0.17->selenium) (1.1.3)\n",
      "Requirement already satisfied: wsproto>=0.14 in c:\\users\\jjssk\\anaconda3\\lib\\site-packages (from trio-websocket~=0.9->selenium) (1.2.0)\n",
      "Requirement already satisfied: PySocks!=1.5.7,<2.0,>=1.5.6 in c:\\users\\jjssk\\anaconda3\\lib\\site-packages (from urllib3[socks]<3,>=1.26->selenium) (1.7.1)\n",
      "Requirement already satisfied: pycparser in c:\\users\\jjssk\\anaconda3\\lib\\site-packages (from cffi>=1.14->trio~=0.17->selenium) (2.20)\n",
      "Requirement already satisfied: h11<1,>=0.9.0 in c:\\users\\jjssk\\anaconda3\\lib\\site-packages (from wsproto>=0.14->trio-websocket~=0.9->selenium) (0.14.0)\n",
      "Note: you may need to restart the kernel to use updated packages.\n"
     ]
    }
   ],
   "source": [
    "pip install selenium"
   ]
  },
  {
   "cell_type": "code",
   "execution_count": 30,
   "id": "451bb7dd",
   "metadata": {},
   "outputs": [],
   "source": [
    "import chromedriver_autoinstaller\n",
    "from selenium import webdriver\n",
    "import time\n",
    "\n",
    "class Driver:\n",
    "    @staticmethod\n",
    "    def driver_init():\n",
    "        chromedriver_autoinstaller.install()\n",
    "        options = webdriver.ChromeOptions()\n",
    "#         options.add_argument('headless') # jupyter notebook 환경에서 주석처리\n",
    "        options.add_argument('lang=ko_KR')\n",
    "        options.add_argument(\"user-agent=Mozilla/5.0 (Windows NT 10.0; Win64; x64) AppleWebKit/537.36 (KHTML, like Gecko) Chrome/104.0.0.0 Safari/537.36\")\n",
    "        options.add_argument('--no-sandbox')\n",
    "        options.add_argument('--disable-notifications')\n",
    "        options.add_argument('--disable-popup-blocking')\n",
    "        options.add_argument('--disable-dev-shm-usage')\n",
    "        options.add_argument('--disable-browser-side-navigation')\n",
    "        options.add_argument('disable-gpu')\n",
    "\n",
    "        driver = webdriver.Chrome(options=options)\n",
    "        driver.set_window_size(1600, 1100)\n",
    "\n",
    "        return driver"
   ]
  },
  {
   "cell_type": "code",
   "execution_count": 31,
   "id": "1c0c7463",
   "metadata": {},
   "outputs": [
    {
     "name": "stderr",
     "output_type": "stream",
     "text": [
      "WARNING:root:Can not find chromedriver for currently installed chrome version.\n"
     ]
    }
   ],
   "source": [
    "driver = Driver.driver_init()"
   ]
  },
  {
   "cell_type": "code",
   "execution_count": 32,
   "id": "037a7af5",
   "metadata": {},
   "outputs": [],
   "source": [
    "def get_paths(gender, url, men, women):\n",
    "    product_paths = []\n",
    "    category_str = ''\n",
    "    page_list = []\n",
    "    \n",
    "    if gender == 1:\n",
    "        category_str = '&category=00010001000'\n",
    "        page_list = men\n",
    "    elif gender == 2:\n",
    "        category_str = '&category=00020001000'\n",
    "        page_list = women\n",
    "\n",
    "    ## 카테고리 분류 루프\n",
    "    for category_cnt in range(len(page_list)):\n",
    "        pages_cnt = page_list[category_cnt][0]\n",
    "        cat = page_list[category_cnt][1]\n",
    "        ## 각 옷 분류의 페이지 갯수 루프\n",
    "        for page_num in range(pages_cnt):\n",
    "            try:\n",
    "                page = url + \"?page=\" + str(page_num+1) + category_str + str(category_cnt+1)\n",
    "                driver.get(page)\n",
    "                time.sleep(1)\n",
    "            except:\n",
    "                continue\n",
    "\n",
    "            products = driver.find_elements('xpath', '//div[@id=\"searchedItemDisplay\"]/ul/li')\n",
    "            products_cnt = len(products)\n",
    "\n",
    "            ## 각 product의 path를 product_paths 리스트에 저장\n",
    "            for i in range(products_cnt):\n",
    "                product = driver.find_elements('xpath', '//div[@class=\"searched_item_display\"]/ul/li')[i]\n",
    "                product_path = product.find_element('xpath', './div/div/a').get_attribute('href')\n",
    "                product_paths.append((product_path, cat, gender))\n",
    "\n",
    "    print(len(product_paths))\n",
    "    \n",
    "    return product_paths\n",
    "    \n",
    "        \n",
    "        "
   ]
  },
  {
   "cell_type": "code",
   "execution_count": 33,
   "id": "b297f36b",
   "metadata": {},
   "outputs": [],
   "source": [
    "def crawl_pages(product_paths):\n",
    "    \n",
    "    base_dict= {\"baseCat\":[], \"baseName\": [], \"baseCode\": [], \"baseUrl\": [], \"colorName\": [],\n",
    "            \"baseGender\": [], \"price\": [], \"basePrice\": [], \"colorFabric\": [], \"imageUrl\": [],\n",
    "            \"size\": [], \"isAvailable\": []\n",
    "            }\n",
    "    \n",
    "    ## 드라이버 초기화\n",
    "    driver = Driver.driver_init()\n",
    "    ## 각 product에 대한 정보 추출\n",
    "    for product_path, cat, gender in product_paths:\n",
    "        try:\n",
    "            driver.get(product_path)\n",
    "        except:\n",
    "            continue\n",
    "        \n",
    "        imageURL = []\n",
    "        imageURL_list = driver.find_elements('xpath', '//div[@class=\"slides_container hide\"]/div[@class=\"viewImgWrap\"]/img')\n",
    "        for image_element in imageURL_list:\n",
    "            imageURL.append(image_element.get_attribute(\"src\"))\n",
    "            \n",
    "        color_fabric = driver.find_element('xpath','//div[@id=\"materials\"]').get_attribute(\"textContent\")\n",
    "\n",
    "        \n",
    "        baseURL = product_path\n",
    "        base_gender = gender\n",
    "        text_info = driver.find_element('xpath', '//div[@class=\"goods_thumbs_spec\"]')\n",
    "\n",
    "        base_name = text_info.find_element('xpath', '//div[@class=\"detail_title_area\"]/h3').get_attribute(\"textContent\")\n",
    "        base_code = base_name\n",
    "        \n",
    "        try:\n",
    "            if len(text_info.find_elements('xpath', '//p[@class=\"sale_price sale_txt\"]')) == 0:\n",
    "                price = text_info.find_element('xpath', '//p[@class=\"sale_price\"]/span[@class=\"num\"]').get_attribute(\"textContent\")\n",
    "                base_price = price\n",
    "            else:\n",
    "                price = text_info.find_element('xpath', '//p[@class=\"sale_price sale_txt\"]/span[@class=\"num\"]').get_attribute(\"textContent\")\n",
    "                base_price = text_info.find_element('xpath', '//p[@class=\"org_price\"]/span[@class=\"dst_th_size\"]/s/span[@class=\"num\"]').get_attribute(\"textContent\")\n",
    "        except:\n",
    "            continue\n",
    "            \n",
    "        colors_list = text_info.find_elements('xpath','//ul[@class=\"optionBox color\"]/li')\n",
    "        \n",
    "        for color_element in colors_list:\n",
    "            color_name = color_element.get_attribute(\"data-value\")\n",
    "            try:\n",
    "                color_element.click()\n",
    "            except:\n",
    "                continue\n",
    "            \n",
    "            size_list = text_info.find_elements('xpath','//ul[@class=\"optionBox size\"]/li')\n",
    "            for size_element in size_list:\n",
    "                size = size_element.get_attribute(\"data-value\")\n",
    "                try:\n",
    "                    size_element.click()\n",
    "                except:\n",
    "                    continue\n",
    "                if size_element.get_attribute(\"class\") == \"soldout\":\n",
    "                    is_available = False\n",
    "                else:\n",
    "                    is_available = True\n",
    "                    \n",
    "            \n",
    "                base_dict[\"baseCat\"].append(cat)\n",
    "                base_dict[\"baseName\"].append(base_name)\n",
    "                base_dict[\"baseCode\"].append(base_code)\n",
    "                base_dict[\"baseUrl\"].append(baseURL)\n",
    "                base_dict[\"colorName\"].append(color_name)\n",
    "                base_dict[\"baseGender\"].append(base_gender)\n",
    "                base_dict[\"price\"].append(price)\n",
    "                base_dict[\"basePrice\"].append(base_price)\n",
    "                base_dict[\"colorFabric\"].append(color_fabric)\n",
    "                base_dict[\"imageUrl\"].append(imageURL)\n",
    "                base_dict[\"size\"].append(size)\n",
    "                base_dict[\"isAvailable\"].append(is_available)\n",
    "    return base_dict"
   ]
  },
  {
   "cell_type": "code",
   "execution_count": 34,
   "id": "c185af1f",
   "metadata": {},
   "outputs": [
    {
     "name": "stdout",
     "output_type": "stream",
     "text": [
      "248\n",
      "215\n",
      "463\n"
     ]
    }
   ],
   "source": [
    "men = [(2,'top'), (1,'top'), (2,'bottom'), (1,'top'), (1,'top'), (2,'top'), (1,'bottom')]\n",
    "women = [(2, 'top'), (1, 'top'), (1, 'bottom'), (1, 'top'), (1, 'top'), (2, 'top'), (1, 'other'), (1, 'bottom')]\n",
    "\n",
    "url = 'https://arcteryx.co.kr/goods/catalog'\n",
    "\n",
    "product_paths = get_paths(1, url, men, women) + get_paths(2, url, men, women)\n",
    "print(len(product_paths))"
   ]
  },
  {
   "cell_type": "code",
   "execution_count": 35,
   "id": "ebcaf130",
   "metadata": {},
   "outputs": [],
   "source": [
    "import pandas as pd"
   ]
  },
  {
   "cell_type": "code",
   "execution_count": 36,
   "id": "6bc684d3",
   "metadata": {},
   "outputs": [
    {
     "name": "stderr",
     "output_type": "stream",
     "text": [
      "WARNING:root:Can not find chromedriver for currently installed chrome version.\n"
     ]
    },
    {
     "name": "stdout",
     "output_type": "stream",
     "text": [
      "     baseCat            baseName            baseCode  \\\n",
      "0        top  [FW23] 알파 SV 재킷 남성  [FW23] 알파 SV 재킷 남성   \n",
      "1        top  [FW23] 알파 SV 재킷 남성  [FW23] 알파 SV 재킷 남성   \n",
      "2        top  [FW23] 알파 SV 재킷 남성  [FW23] 알파 SV 재킷 남성   \n",
      "3        top  [FW23] 알파 SV 재킷 남성  [FW23] 알파 SV 재킷 남성   \n",
      "4        top  [FW23] 알파 SV 재킷 남성  [FW23] 알파 SV 재킷 남성   \n",
      "...      ...                 ...                 ...   \n",
      "3719     top     [SS23] 코막 후디 남성     [SS23] 코막 후디 남성   \n",
      "3720     top     [SS23] 코막 후디 남성     [SS23] 코막 후디 남성   \n",
      "3721     top     [SS23] 코막 후디 남성     [SS23] 코막 후디 남성   \n",
      "3722     top     [SS23] 코막 후디 남성     [SS23] 코막 후디 남성   \n",
      "3723     top     [SS23] 코막 후디 남성     [SS23] 코막 후디 남성   \n",
      "\n",
      "                                          baseUrl       colorName  baseGender  \\\n",
      "0     https://arcteryx.co.kr/goods/view?no=683538      BLUE TETRA           1   \n",
      "1     https://arcteryx.co.kr/goods/view?no=683538      BLUE TETRA           1   \n",
      "2     https://arcteryx.co.kr/goods/view?no=683538      BLUE TETRA           1   \n",
      "3     https://arcteryx.co.kr/goods/view?no=683538      BLUE TETRA           1   \n",
      "4     https://arcteryx.co.kr/goods/view?no=683538      BLUE TETRA           1   \n",
      "...                                           ...             ...         ...   \n",
      "3719  https://arcteryx.co.kr/goods/view?no=683227  SPRINT HEATHER           1   \n",
      "3720  https://arcteryx.co.kr/goods/view?no=683227  SPRINT HEATHER           1   \n",
      "3721  https://arcteryx.co.kr/goods/view?no=683227  SPRINT HEATHER           1   \n",
      "3722  https://arcteryx.co.kr/goods/view?no=683227  SPRINT HEATHER           1   \n",
      "3723  https://arcteryx.co.kr/goods/view?no=683227  SPRINT HEATHER           1   \n",
      "\n",
      "          price  basePrice                                        colorFabric  \\\n",
      "0     1,250,000  1,250,000  \\n                            Materials\\n     ...   \n",
      "1     1,250,000  1,250,000  \\n                            Materials\\n     ...   \n",
      "2     1,250,000  1,250,000  \\n                            Materials\\n     ...   \n",
      "3     1,250,000  1,250,000  \\n                            Materials\\n     ...   \n",
      "4     1,250,000  1,250,000  \\n                            Materials\\n     ...   \n",
      "...         ...        ...                                                ...   \n",
      "3719    170,000    170,000  \\n                            Materials\\n     ...   \n",
      "3720    170,000    170,000  \\n                            Materials\\n     ...   \n",
      "3721    170,000    170,000  \\n                            Materials\\n     ...   \n",
      "3722    170,000    170,000  \\n                            Materials\\n     ...   \n",
      "3723    170,000    170,000  \\n                            Materials\\n     ...   \n",
      "\n",
      "                                               imageUrl size  isAvailable  \n",
      "0     [https://img.arcteryx.co.kr/38/683538/AJNFMX75...   XS        False  \n",
      "1     [https://img.arcteryx.co.kr/38/683538/AJNFMX75...   SM        False  \n",
      "2     [https://img.arcteryx.co.kr/38/683538/AJNFMX75...   MD        False  \n",
      "3     [https://img.arcteryx.co.kr/38/683538/AJNFMX75...   LG        False  \n",
      "4     [https://img.arcteryx.co.kr/38/683538/AJNFMX75...  1XL        False  \n",
      "...                                                 ...  ...          ...  \n",
      "3719  [https://img.arcteryx.co.kr/27/683227/ATNSMX63...   SM        False  \n",
      "3720  [https://img.arcteryx.co.kr/27/683227/ATNSMX63...   MD        False  \n",
      "3721  [https://img.arcteryx.co.kr/27/683227/ATNSMX63...   LG        False  \n",
      "3722  [https://img.arcteryx.co.kr/27/683227/ATNSMX63...  1XL        False  \n",
      "3723  [https://img.arcteryx.co.kr/27/683227/ATNSMX63...  2XL         True  \n",
      "\n",
      "[3724 rows x 12 columns]\n"
     ]
    }
   ],
   "source": [
    "dict1 = crawl_pages(product_paths[:200])\n",
    "df1 = pd.DataFrame.from_dict(dict1)\n",
    "\n",
    "print(df1)\n"
   ]
  },
  {
   "cell_type": "code",
   "execution_count": 37,
   "id": "4f28f270",
   "metadata": {},
   "outputs": [
    {
     "name": "stderr",
     "output_type": "stream",
     "text": [
      "WARNING:root:Can not find chromedriver for currently installed chrome version.\n"
     ]
    },
    {
     "name": "stdout",
     "output_type": "stream",
     "text": [
      "     baseCat                     baseName                     baseCode  \\\n",
      "0        top  [SS23] 스카이라인 SS 셔츠 남성 - 멜란지  [SS23] 스카이라인 SS 셔츠 남성 - 멜란지   \n",
      "1        top  [SS23] 스카이라인 SS 셔츠 남성 - 멜란지  [SS23] 스카이라인 SS 셔츠 남성 - 멜란지   \n",
      "2        top  [SS23] 스카이라인 SS 셔츠 남성 - 멜란지  [SS23] 스카이라인 SS 셔츠 남성 - 멜란지   \n",
      "3        top  [SS23] 스카이라인 SS 셔츠 남성 - 멜란지  [SS23] 스카이라인 SS 셔츠 남성 - 멜란지   \n",
      "4        top  [SS23] 스카이라인 SS 셔츠 남성 - 멜란지  [SS23] 스카이라인 SS 셔츠 남성 - 멜란지   \n",
      "...      ...                          ...                          ...   \n",
      "3438  bottom             [SS20] 카일라 롬퍼 여성             [SS20] 카일라 롬퍼 여성   \n",
      "3439  bottom             [SS20] 카일라 롬퍼 여성             [SS20] 카일라 롬퍼 여성   \n",
      "3440  bottom             [SS20] 카일라 롬퍼 여성             [SS20] 카일라 롬퍼 여성   \n",
      "3441  bottom             [SS20] 카일라 롬퍼 여성             [SS20] 카일라 롬퍼 여성   \n",
      "3442  bottom             [SS20] 카일라 롬퍼 여성             [SS20] 카일라 롬퍼 여성   \n",
      "\n",
      "                                          baseUrl       colorName  baseGender  \\\n",
      "0     https://arcteryx.co.kr/goods/view?no=683002  SERENE HEATHER           1   \n",
      "1     https://arcteryx.co.kr/goods/view?no=683002  SERENE HEATHER           1   \n",
      "2     https://arcteryx.co.kr/goods/view?no=683002  SERENE HEATHER           1   \n",
      "3     https://arcteryx.co.kr/goods/view?no=683002  SERENE HEATHER           1   \n",
      "4     https://arcteryx.co.kr/goods/view?no=683002  SERENE HEATHER           1   \n",
      "...                                           ...             ...         ...   \n",
      "3438  https://arcteryx.co.kr/goods/view?no=632406           BLACK           2   \n",
      "3439  https://arcteryx.co.kr/goods/view?no=632406           BLACK           2   \n",
      "3440  https://arcteryx.co.kr/goods/view?no=632406           BLACK           2   \n",
      "3441  https://arcteryx.co.kr/goods/view?no=632406           BLACK           2   \n",
      "3442  https://arcteryx.co.kr/goods/view?no=632406           BLACK           2   \n",
      "\n",
      "        price basePrice                                        colorFabric  \\\n",
      "0     150,000   150,000  \\n                            Materials\\n     ...   \n",
      "1     150,000   150,000  \\n                            Materials\\n     ...   \n",
      "2     150,000   150,000  \\n                            Materials\\n     ...   \n",
      "3     150,000   150,000  \\n                            Materials\\n     ...   \n",
      "4     150,000   150,000  \\n                            Materials\\n     ...   \n",
      "...       ...       ...                                                ...   \n",
      "3438   89,400   149,000  \\n                            Materials\\n     ...   \n",
      "3439   89,400   149,000  \\n                            Materials\\n     ...   \n",
      "3440   89,400   149,000  \\n                            Materials\\n     ...   \n",
      "3441   89,400   149,000  \\n                            Materials\\n     ...   \n",
      "3442   89,400   149,000  \\n                            Materials\\n     ...   \n",
      "\n",
      "                                               imageUrl size  isAvailable  \n",
      "0     [https://img.arcteryx.co.kr/2/683002/ATNSMX741...   SM        False  \n",
      "1     [https://img.arcteryx.co.kr/2/683002/ATNSMX741...   MD        False  \n",
      "2     [https://img.arcteryx.co.kr/2/683002/ATNSMX741...   LG        False  \n",
      "3     [https://img.arcteryx.co.kr/2/683002/ATNSMX741...  1XL        False  \n",
      "4     [https://img.arcteryx.co.kr/2/683002/ATNSMX741...  2XL        False  \n",
      "...                                                 ...  ...          ...  \n",
      "3438  [https://img.arcteryx.co.kr/6/632406/goods_632...    6        False  \n",
      "3439  [https://img.arcteryx.co.kr/6/632406/goods_632...    8        False  \n",
      "3440  [https://img.arcteryx.co.kr/6/632406/goods_632...   10        False  \n",
      "3441  [https://img.arcteryx.co.kr/6/632406/goods_632...   12        False  \n",
      "3442  [https://img.arcteryx.co.kr/6/632406/goods_632...   14        False  \n",
      "\n",
      "[3443 rows x 12 columns]\n"
     ]
    }
   ],
   "source": [
    "dict2 = crawl_pages(product_paths[200:])\n",
    "df2 = pd.DataFrame.from_dict(dict2)\n",
    "\n",
    "print(df2)\n"
   ]
  },
  {
   "cell_type": "code",
   "execution_count": 38,
   "id": "75528201",
   "metadata": {},
   "outputs": [],
   "source": [
    "df_final = pd.concat([df1, df2])"
   ]
  },
  {
   "cell_type": "code",
   "execution_count": 39,
   "id": "e841b0af",
   "metadata": {},
   "outputs": [],
   "source": [
    "df_final.to_csv('result.csv',index=False)"
   ]
  },
  {
   "cell_type": "code",
   "execution_count": null,
   "id": "7ed6422e",
   "metadata": {},
   "outputs": [],
   "source": []
  }
 ],
 "metadata": {
  "kernelspec": {
   "display_name": "Python 3",
   "language": "python",
   "name": "python3"
  },
  "language_info": {
   "codemirror_mode": {
    "name": "ipython",
    "version": 3
   },
   "file_extension": ".py",
   "mimetype": "text/x-python",
   "name": "python",
   "nbconvert_exporter": "python",
   "pygments_lexer": "ipython3",
   "version": "3.8.8"
  }
 },
 "nbformat": 4,
 "nbformat_minor": 5
}
