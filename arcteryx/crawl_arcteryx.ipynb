{
 "cells": [
  {
   "cell_type": "code",
   "execution_count": 28,
   "id": "91522b3d",
   "metadata": {},
   "outputs": [
    {
     "name": "stdout",
     "output_type": "stream",
     "text": [
      "Requirement already satisfied: chromedriver-autoinstaller in c:\\users\\jjssk\\anaconda3\\lib\\site-packages (0.6.2)\n",
      "Note: you may need to restart the kernel to use updated packages.\n"
     ]
    }
   ],
   "source": [
    "pip install chromedriver-autoinstaller"
   ]
  },
  {
   "cell_type": "code",
   "execution_count": 29,
   "id": "f687649f",
   "metadata": {},
   "outputs": [
    {
     "name": "stdout",
     "output_type": "stream",
     "text": [
      "Requirement already satisfied: selenium in c:\\users\\jjssk\\anaconda3\\lib\\site-packages (4.11.2)\n",
      "Requirement already satisfied: trio-websocket~=0.9 in c:\\users\\jjssk\\anaconda3\\lib\\site-packages (from selenium) (0.10.3)\n",
      "Requirement already satisfied: urllib3[socks]<3,>=1.26 in c:\\users\\jjssk\\anaconda3\\lib\\site-packages (from selenium) (1.26.4)\n",
      "Requirement already satisfied: certifi>=2021.10.8 in c:\\users\\jjssk\\anaconda3\\lib\\site-packages (from selenium) (2023.7.22)\n",
      "Requirement already satisfied: trio~=0.17 in c:\\users\\jjssk\\anaconda3\\lib\\site-packages (from selenium) (0.22.2)\n",
      "Requirement already satisfied: sniffio in c:\\users\\jjssk\\anaconda3\\lib\\site-packages (from trio~=0.17->selenium) (1.2.0)\n",
      "Requirement already satisfied: sortedcontainers in c:\\users\\jjssk\\anaconda3\\lib\\site-packages (from trio~=0.17->selenium) (2.3.0)\n",
      "Requirement already satisfied: cffi>=1.14 in c:\\users\\jjssk\\anaconda3\\lib\\site-packages (from trio~=0.17->selenium) (1.14.5)\n",
      "Requirement already satisfied: exceptiongroup>=1.0.0rc9 in c:\\users\\jjssk\\anaconda3\\lib\\site-packages (from trio~=0.17->selenium) (1.1.3)\n",
      "Requirement already satisfied: attrs>=20.1.0 in c:\\users\\jjssk\\anaconda3\\lib\\site-packages (from trio~=0.17->selenium) (20.3.0)\n",
      "Requirement already satisfied: outcome in c:\\users\\jjssk\\anaconda3\\lib\\site-packages (from trio~=0.17->selenium) (1.2.0)\n",
      "Requirement already satisfied: idna in c:\\users\\jjssk\\anaconda3\\lib\\site-packages (from trio~=0.17->selenium) (2.10)\n",
      "Requirement already satisfied: pycparser in c:\\users\\jjssk\\anaconda3\\lib\\site-packages (from cffi>=1.14->trio~=0.17->selenium) (2.20)\n",
      "Requirement already satisfied: wsproto>=0.14 in c:\\users\\jjssk\\anaconda3\\lib\\site-packages (from trio-websocket~=0.9->selenium) (1.2.0)\n",
      "Requirement already satisfied: PySocks!=1.5.7,<2.0,>=1.5.6 in c:\\users\\jjssk\\anaconda3\\lib\\site-packages (from urllib3[socks]<3,>=1.26->selenium) (1.7.1)\n",
      "Requirement already satisfied: h11<1,>=0.9.0 in c:\\users\\jjssk\\anaconda3\\lib\\site-packages (from wsproto>=0.14->trio-websocket~=0.9->selenium) (0.14.0)\n",
      "Note: you may need to restart the kernel to use updated packages.\n"
     ]
    }
   ],
   "source": [
    "pip install selenium"
   ]
  },
  {
   "cell_type": "code",
   "execution_count": 30,
   "id": "451bb7dd",
   "metadata": {},
   "outputs": [],
   "source": [
    "import chromedriver_autoinstaller\n",
    "from selenium import webdriver\n",
    "import time\n",
    "\n",
    "class Driver:\n",
    "    @staticmethod\n",
    "    def driver_init():\n",
    "        chromedriver_autoinstaller.install()\n",
    "        options = webdriver.ChromeOptions()\n",
    "#         options.add_argument('headless') # jupyter notebook 환경에서 주석처리\n",
    "        options.add_argument('lang=ko_KR')\n",
    "        options.add_argument(\"user-agent=Mozilla/5.0 (Windows NT 10.0; Win64; x64) AppleWebKit/537.36 (KHTML, like Gecko) Chrome/104.0.0.0 Safari/537.36\")\n",
    "        options.add_argument('--no-sandbox')\n",
    "        options.add_argument('--disable-notifications')\n",
    "        options.add_argument('--disable-popup-blocking')\n",
    "        options.add_argument('--disable-dev-shm-usage')\n",
    "        options.add_argument('--disable-browser-side-navigation')\n",
    "        options.add_argument('disable-gpu')\n",
    "\n",
    "        driver = webdriver.Chrome(options=options)\n",
    "        driver.set_window_size(1600, 1100)\n",
    "\n",
    "        return driver"
   ]
  },
  {
   "cell_type": "code",
   "execution_count": 31,
   "id": "1c0c7463",
   "metadata": {},
   "outputs": [
    {
     "name": "stderr",
     "output_type": "stream",
     "text": [
      "WARNING:root:Can not find chromedriver for currently installed chrome version.\n"
     ]
    }
   ],
   "source": [
    "driver = Driver.driver_init()"
   ]
  },
  {
   "cell_type": "code",
   "execution_count": 32,
   "id": "b0a91355",
   "metadata": {},
   "outputs": [],
   "source": [
    "product_paths = []"
   ]
  },
  {
   "cell_type": "code",
   "execution_count": 33,
   "id": "4b09df4f",
   "metadata": {},
   "outputs": [],
   "source": [
    "men = [2, 1, 2, 1, 1, 2, 1]\n",
    "women = [2, 1, 1, 1, 1, 2, 1, 1]\n",
    "\n",
    "url = 'https://arcteryx.co.kr/goods/catalog'    "
   ]
  },
  {
   "cell_type": "code",
   "execution_count": 34,
   "id": "c5df096f",
   "metadata": {},
   "outputs": [
    {
     "name": "stdout",
     "output_type": "stream",
     "text": [
      "56\n",
      "89\n",
      "133\n",
      "145\n",
      "151\n",
      "202\n",
      "213\n"
     ]
    }
   ],
   "source": [
    "## 남성\n",
    "## 카테고리 분류 루프\n",
    "for category_cnt in range(len(men)):\n",
    "    pages_cnt = men[category_cnt]\n",
    "    ## 각 옷 분류의 페이지 갯수 루프\n",
    "    for page_num in range(pages_cnt):\n",
    "        try:\n",
    "            page = url + \"?page=\" + str(page_num+1) + '&category=00010001000' + str(category_cnt+1)\n",
    "            driver.get(page)\n",
    "            time.sleep(1)\n",
    "        except:\n",
    "            continue\n",
    "\n",
    "        products = driver.find_elements('xpath', '//div[@id=\"searchedItemDisplay\"]/ul/li')\n",
    "        products_cnt = len(products)\n",
    "        \n",
    "        ## 각 product의 path를 product_paths 리스트에 저장\n",
    "        for i in range(products_cnt):\n",
    "            product = driver.find_elements('xpath', '//div[@class=\"searched_item_display\"]/ul/li')[i]\n",
    "            product_path = product.find_element('xpath', './div/div/a').get_attribute('href')\n",
    "            product_paths.append(product_path)\n",
    "    print(len(product_paths))"
   ]
  },
  {
   "cell_type": "code",
   "execution_count": 35,
   "id": "d40dd4e9",
   "metadata": {},
   "outputs": [
    {
     "name": "stdout",
     "output_type": "stream",
     "text": [
      "263\n",
      "299\n",
      "329\n",
      "337\n",
      "350\n",
      "391\n",
      "398\n",
      "407\n"
     ]
    }
   ],
   "source": [
    "## 여성    \n",
    "## 카테고리 분류 루프\n",
    "for category_cnt in range(len(women)):\n",
    "    pages_cnt = women[category_cnt]\n",
    "    ## 각 옷 분류의 페이지 갯수 루프\n",
    "    for page_num in range(pages_cnt):\n",
    "        try:\n",
    "            page = url + \"?page=\" + str(page_num+1) + '&category=00020001000' + str(category_cnt+1)\n",
    "            driver.get(page)\n",
    "            time.sleep(1)\n",
    "        except:\n",
    "            continue\n",
    "\n",
    "        products = driver.find_elements('xpath', '//div[@id=\"searchedItemDisplay\"]/ul/li')\n",
    "        products_cnt = len(products)\n",
    "        \n",
    "        ## 각 product의 path를 product_paths 리스트에 저장\n",
    "        for i in range(products_cnt):\n",
    "            product = driver.find_elements('xpath', '//div[@class=\"searched_item_display\"]/ul/li')[i]\n",
    "            product_path = product.find_element('xpath', './div/div/a').get_attribute('href')\n",
    "            product_paths.append(product_path)\n",
    "    print(len(product_paths))"
   ]
  },
  {
   "cell_type": "code",
   "execution_count": null,
   "id": "b297f36b",
   "metadata": {},
   "outputs": [],
   "source": []
  },
  {
   "cell_type": "code",
   "execution_count": null,
   "id": "c185af1f",
   "metadata": {},
   "outputs": [],
   "source": []
  },
  {
   "cell_type": "code",
   "execution_count": null,
   "id": "6bc684d3",
   "metadata": {},
   "outputs": [],
   "source": []
  },
  {
   "cell_type": "code",
   "execution_count": null,
   "id": "4f28f270",
   "metadata": {},
   "outputs": [],
   "source": []
  },
  {
   "cell_type": "code",
   "execution_count": null,
   "id": "75528201",
   "metadata": {},
   "outputs": [],
   "source": []
  }
 ],
 "metadata": {
  "kernelspec": {
   "display_name": "Python 3",
   "language": "python",
   "name": "python3"
  },
  "language_info": {
   "codemirror_mode": {
    "name": "ipython",
    "version": 3
   },
   "file_extension": ".py",
   "mimetype": "text/x-python",
   "name": "python",
   "nbconvert_exporter": "python",
   "pygments_lexer": "ipython3",
   "version": "3.8.8"
  }
 },
 "nbformat": 4,
 "nbformat_minor": 5
}
