{
 "cells": [
  {
   "cell_type": "code",
   "execution_count": 1,
   "metadata": {
    "colab": {
     "base_uri": "https://localhost:8080/"
    },
    "id": "jn65f86N_Z4U",
    "outputId": "9c216cf7-5aec-4990-d5ab-f5460cc3ccc0"
   },
   "outputs": [
    {
     "name": "stdout",
     "output_type": "stream",
     "text": [
      "\n",
      "C:\\Users\\User\\Web_Crawling\\frizmworks>doskey defects4j=perl C:\\Users\\User\\defects4j\\framework\\bin\\defects4j $* \n",
      "Requirement already satisfied: chromedriver-autoinstaller in c:\\users\\user\\anaconda3\\lib\\site-packages (0.6.2)\n",
      "Note: you may need to restart the kernel to use updated packages.\n"
     ]
    },
    {
     "name": "stderr",
     "output_type": "stream",
     "text": [
      "WARNING: There was an error checking the latest version of pip.\n"
     ]
    }
   ],
   "source": [
    "pip install chromedriver-autoinstaller"
   ]
  },
  {
   "cell_type": "code",
   "execution_count": 2,
   "metadata": {
    "colab": {
     "base_uri": "https://localhost:8080/"
    },
    "id": "Nj08Ryw__q9Q",
    "outputId": "1a807eb8-7d33-4bf9-a02a-c03e5f275287"
   },
   "outputs": [
    {
     "name": "stdout",
     "output_type": "stream",
     "text": [
      "\n",
      "C:\\Users\\User\\Web_Crawling\\frizmworks>doskey defects4j=perl C:\\Users\\User\\defects4j\\framework\\bin\\defects4j $* \n",
      "Requirement already satisfied: selenium in c:\\users\\user\\anaconda3\\lib\\site-packages (4.11.2)\n",
      "Requirement already satisfied: urllib3[socks]<3,>=1.26 in c:\\users\\user\\anaconda3\\lib\\site-packages (from selenium) (1.26.6)\n",
      "Requirement already satisfied: trio-websocket~=0.9 in c:\\users\\user\\anaconda3\\lib\\site-packages (from selenium) (0.10.3)\n",
      "Note: you may need to restart the kernel to use updated packages.Requirement already satisfied: certifi>=2021.10.8 in c:\\users\\user\\anaconda3\\lib\\site-packages (from selenium) (2023.7.22)\n",
      "Requirement already satisfied: trio~=0.17 in c:\\users\\user\\anaconda3\\lib\\site-packages (from selenium) (0.22.2)\n",
      "Requirement already satisfied: cffi>=1.14 in c:\\users\\user\\anaconda3\\lib\\site-packages (from trio~=0.17->selenium) (1.14.6)\n",
      "Requirement already satisfied: sortedcontainers in c:\\users\\user\\anaconda3\\lib\\site-packages (from trio~=0.17->selenium) (2.4.0)\n",
      "Requirement already satisfied: exceptiongroup>=1.0.0rc9 in c:\\users\\user\\anaconda3\\lib\\site-packages (from trio~=0.17->selenium) (1.1.3)\n",
      "Requirement already satisfied: attrs>=20.1.0 in c:\\users\\user\\anaconda3\\lib\\site-packages (from trio~=0.17->selenium) (21.2.0)\n",
      "Requirement already satisfied: idna in c:\\users\\user\\anaconda3\\lib\\site-packages (from trio~=0.17->selenium) (3.2)\n",
      "Requirement already satisfied: outcome in c:\\users\\user\\anaconda3\\lib\\site-packages (from trio~=0.17->selenium) (1.2.0)\n",
      "Requirement already satisfied: sniffio in c:\\users\\user\\anaconda3\\lib\\site-packages (from trio~=0.17->selenium) (1.2.0)\n",
      "Requirement already satisfied: wsproto>=0.14 in c:\\users\\user\\anaconda3\\lib\\site-packages (from trio-websocket~=0.9->selenium) (1.2.0)\n",
      "Requirement already satisfied: PySocks!=1.5.7,<2.0,>=1.5.6 in c:\\users\\user\\anaconda3\\lib\\site-packages (from urllib3[socks]<3,>=1.26->selenium) (1.7.1)\n",
      "Requirement already satisfied: pycparser in c:\\users\\user\\anaconda3\\lib\\site-packages (from cffi>=1.14->trio~=0.17->selenium) (2.20)\n",
      "Requirement already satisfied: h11<1,>=0.9.0 in c:\\users\\user\\anaconda3\\lib\\site-packages (from wsproto>=0.14->trio-websocket~=0.9->selenium) (0.14.0)\n"
     ]
    },
    {
     "name": "stderr",
     "output_type": "stream",
     "text": [
      "WARNING: There was an error checking the latest version of pip.\n"
     ]
    },
    {
     "name": "stdout",
     "output_type": "stream",
     "text": [
      "\n"
     ]
    }
   ],
   "source": [
    "pip install selenium"
   ]
  },
  {
   "cell_type": "code",
   "execution_count": 3,
   "metadata": {
    "id": "shZmszAA_txc"
   },
   "outputs": [],
   "source": [
    "import chromedriver_autoinstaller\n",
    "from selenium import webdriver\n",
    "import time\n",
    "\n",
    "class Driver:\n",
    "    @staticmethod\n",
    "    def driver_init():\n",
    "        chromedriver_autoinstaller.install()\n",
    "        options = webdriver.ChromeOptions()\n",
    "#         options.add_argument('headless') # jupyter notebook 환경에서 주석처리\n",
    "        options.add_argument('lang=ko_KR')\n",
    "        options.add_argument(\"user-agent=Mozilla/5.0 (Windows NT 10.0; Win64; x64) AppleWebKit/537.36 (KHTML, like Gecko) Chrome/104.0.0.0 Safari/537.36\")\n",
    "        options.add_argument('--no-sandbox')\n",
    "        options.add_argument('--disable-notifications')\n",
    "        options.add_argument('--disable-popup-blocking')\n",
    "        options.add_argument('--disable-dev-shm-usage')\n",
    "        options.add_argument('--disable-browser-side-navigation')\n",
    "        options.add_argument('disable-gpu')\n",
    "\n",
    "        driver = webdriver.Chrome(options=options)\n",
    "        driver.set_window_size(1600, 1100)\n",
    "\n",
    "        return driver"
   ]
  },
  {
   "cell_type": "code",
   "execution_count": 4,
   "metadata": {
    "id": "zGJEh9o1_5M-"
   },
   "outputs": [
    {
     "name": "stderr",
     "output_type": "stream",
     "text": [
      "WARNING:root:Can not find chromedriver for currently installed chrome version.\n"
     ]
    }
   ],
   "source": [
    "driver = Driver.driver_init()"
   ]
  },
  {
   "cell_type": "code",
   "execution_count": 5,
   "metadata": {
    "colab": {
     "base_uri": "https://localhost:8080/",
     "height": 434
    },
    "id": "gJSsRK4a_8BB",
    "outputId": "df5bcbb4-414c-48f9-da1a-03e17ae6959a"
   },
   "outputs": [],
   "source": [
    "def find_product_paths(urls):\n",
    "    product_paths = []\n",
    "    \n",
    "    ## 아우터/상의/하의 분류 루프\n",
    "    for (url, pages_cnt) in urls:\n",
    "        ## 각 옷 분류의 페이지 갯수 루프\n",
    "        for page_num in range(pages_cnt):\n",
    "            try:\n",
    "                driver.get(url + \"&page=\" + str(page_num+1))\n",
    "            except:\n",
    "                continue\n",
    "\n",
    "            products = driver.find_elements('xpath', '//ul[@class=\"prdList grid4\"]/li')\n",
    "            products_cnt = len(products)\n",
    "\n",
    "            ## 각 product의 path를 product_paths 리스트에 저장\n",
    "            for i in range(products_cnt):\n",
    "                product = driver.find_elements('xpath', '//ul[@class=\"prdList grid4\"]/li')[i]\n",
    "                product_path = product.find_element('xpath', './div[@class=\"thumbnail\"]/a').get_attribute('href')\n",
    "                product_paths.append(product_path)\n",
    "                \n",
    "    return product_paths"
   ]
  },
  {
   "cell_type": "code",
   "execution_count": 6,
   "metadata": {},
   "outputs": [],
   "source": [
    "def crawl_pages(product_paths):\n",
    "    \n",
    "    base_dict= {\"baseCat\":[], \"baseName\": [], \"baseCode\": [], \"baseUrl\": [], \"colorName\": [],\n",
    "            \"baseGender\": [], \"price\": [], \"basePrice\": [], \"colorFabric\": [], \"imageUrl\": [],\n",
    "            \"size\": [], \"isAvailable\": []\n",
    "            }\n",
    "    \n",
    "    ## 드라이버 초기화\n",
    "    driver = Driver.driver_init()\n",
    "    ## 각 product에 대한 정보 추출\n",
    "    for product_path in product_paths:\n",
    "        driver.get(product_path)\n",
    "\n",
    "        cat = 'top'\n",
    "        if \"category/24\" in product_path or \"category/52\" in product_path:\n",
    "            cat = 'top'\n",
    "        elif \"category/26\" in product_path:\n",
    "            cat = 'bottom'\n",
    "\n",
    "        baseURL = product_path\n",
    "        base_gender = 0\n",
    "        text_info = driver.find_element('xpath', '//div[@class=\"infoArea\"]')\n",
    "        imageURL = driver.find_element('xpath','//img[@class=\"BigImage \"]').get_attribute('src')\n",
    "\n",
    "        base_name = text_info.find_element('xpath', './div[@class=\"headingArea\"]/h2').text\n",
    "        base_code = \"\"\n",
    "        color_name = \"\"\n",
    "        ## color가 명시되지 않은 옷은 제외(패키지 상품)\n",
    "        if \"_\" in base_name:\n",
    "            base_code = base_name.split(\"_\")[0]\n",
    "            ## base_code 앞에 협업 브랜드 텍스트 제거\n",
    "            if \"] \" in base_code:\n",
    "                base_code = base_code.split(\"] \")[1]\n",
    "\n",
    "            ## color_name 뒤에 협업 브랜드 텍스트 제거\n",
    "            color_name = base_name.split(\"_\")[1]\n",
    "            if \"[\" in color_name:\n",
    "                color_name = color_name.split(\"[\")[0]\n",
    "        else:\n",
    "            continue\n",
    "\n",
    "        base_price = \"\"\n",
    "        price = \"\"\n",
    "        color_fabric = \"\"\n",
    "        trs = text_info.find_elements(\"xpath\",'./div[2]/table/tbody/tr') #body의 table 항목 갯수                       \n",
    "        if len(trs) == 5:\n",
    "            base_price = text_info.find_element(\"xpath\",'.//strong[@id=\"span_product_price_text\"]').text\n",
    "            price = text_info.find_element(\"xpath\",'.//span[@id=\"span_product_price_sale\"]').text\n",
    "            color_fabric = text_info.find_element(\"xpath\",'./div[2]/table/tbody/tr[5]/td/span').text\n",
    "        elif len(trs) == 4:\n",
    "            base_price = text_info.find_element(\"xpath\",'.//strong[@id=\"span_product_price_text\"]').text\n",
    "            price = base_price\n",
    "            color_fabric = text_info.find_element(\"xpath\",'./div[2]/table/tbody/tr[4]/td/span').text\n",
    "        elif len(trs) == 3:\n",
    "            base_price = text_info.find_element(\"xpath\",'.//strong[@id=\"span_product_price_text\"]').text\n",
    "            price = base_price\n",
    "            color_fabric = \"\"\n",
    "        elif len(trs) == 2:\n",
    "            base_price = \"\"\n",
    "            price = \"\"\n",
    "            color_fabric = \"\"\n",
    "            \n",
    "\n",
    "        size_elements = text_info.find_elements(\"xpath\",'.//optgroup[@label=\"사이즈\"]/option')\n",
    "        size = \"M\"\n",
    "        is_available = True\n",
    "\n",
    "        for element in size_elements:\n",
    "            size = element.text.replace(\" [품절]\",\"\")\n",
    "            if \"[품절]\" in element.text:\n",
    "                is_available = False\n",
    "            else:\n",
    "                is_available = True\n",
    "\n",
    "            base_dict[\"baseCat\"].append(cat)\n",
    "            base_dict[\"baseName\"].append(base_name)\n",
    "            base_dict[\"baseCode\"].append(base_code)\n",
    "            base_dict[\"baseUrl\"].append(baseURL)\n",
    "            base_dict[\"colorName\"].append(color_name)\n",
    "            base_dict[\"baseGender\"].append(0)\n",
    "            base_dict[\"price\"].append(price)\n",
    "            base_dict[\"basePrice\"].append(base_price)\n",
    "            base_dict[\"colorFabric\"].append(color_fabric)\n",
    "            base_dict[\"imageUrl\"].append(imageURL)\n",
    "            base_dict[\"size\"].append(size)\n",
    "            base_dict[\"isAvailable\"].append(is_available)\n",
    "            \n",
    "    return base_dict"
   ]
  },
  {
   "cell_type": "code",
   "execution_count": 7,
   "metadata": {},
   "outputs": [],
   "source": [
    "import pandas as pd"
   ]
  },
  {
   "cell_type": "code",
   "execution_count": 8,
   "metadata": {},
   "outputs": [
    {
     "name": "stdout",
     "output_type": "stream",
     "text": [
      "2641\n"
     ]
    }
   ],
   "source": [
    "urls = [\n",
    "        ('https://frizm.co.kr/product/list.html?cate_no=24',\n",
    "         17), #아우터\n",
    "        ('https://frizm.co.kr/product/list.html?cate_no=52',\n",
    "         37), #상의\n",
    "        ('https://frizm.co.kr/product/list.html?cate_no=26',\n",
    "         14), #하의\n",
    "         ]\n",
    "\n",
    "product_paths = find_product_paths(urls)\n",
    "print(len(product_paths))"
   ]
  },
  {
   "cell_type": "code",
   "execution_count": 9,
   "metadata": {},
   "outputs": [
    {
     "name": "stderr",
     "output_type": "stream",
     "text": [
      "WARNING:root:Can not find chromedriver for currently installed chrome version.\n"
     ]
    },
    {
     "name": "stdout",
     "output_type": "stream",
     "text": [
      "     baseCat                          baseName                     baseCode  \\\n",
      "0        top     Paulo drizzler jacket _ beige       Paulo drizzler jacket    \n",
      "1        top     Paulo drizzler jacket _ beige       Paulo drizzler jacket    \n",
      "2        top     Paulo drizzler jacket _ beige       Paulo drizzler jacket    \n",
      "3        top     Paulo drizzler jacket _ black       Paulo drizzler jacket    \n",
      "4        top     Paulo drizzler jacket _ black       Paulo drizzler jacket    \n",
      "...      ...                               ...                          ...   \n",
      "1486     top    Heavy frost down parka _ olive      Heavy frost down parka    \n",
      "1487     top    Heavy frost down parka _ olive      Heavy frost down parka    \n",
      "1488     top  Heavy flannel shirt jacket _ red  Heavy flannel shirt jacket    \n",
      "1489     top  Heavy flannel shirt jacket _ red  Heavy flannel shirt jacket    \n",
      "1490     top  Heavy flannel shirt jacket _ red  Heavy flannel shirt jacket    \n",
      "\n",
      "                                                baseUrl colorName  baseGender  \\\n",
      "0     https://frizm.co.kr/product/paulo-drizzler-jac...     beige           0   \n",
      "1     https://frizm.co.kr/product/paulo-drizzler-jac...     beige           0   \n",
      "2     https://frizm.co.kr/product/paulo-drizzler-jac...     beige           0   \n",
      "3     https://frizm.co.kr/product/paulo-drizzler-jac...     black           0   \n",
      "4     https://frizm.co.kr/product/paulo-drizzler-jac...     black           0   \n",
      "...                                                 ...       ...         ...   \n",
      "1486  https://frizm.co.kr/product/heavy-frost-down-p...     olive           0   \n",
      "1487  https://frizm.co.kr/product/heavy-frost-down-p...     olive           0   \n",
      "1488  https://frizm.co.kr/product/heavy-flannel-shir...       red           0   \n",
      "1489  https://frizm.co.kr/product/heavy-flannel-shir...       red           0   \n",
      "1490  https://frizm.co.kr/product/heavy-flannel-shir...       red           0   \n",
      "\n",
      "                    price    basePrice  \\\n",
      "0     KRW 150,100 5% SALE  KRW 158,000   \n",
      "1     KRW 150,100 5% SALE  KRW 158,000   \n",
      "2     KRW 150,100 5% SALE  KRW 158,000   \n",
      "3     KRW 150,100 5% SALE  KRW 158,000   \n",
      "4     KRW 150,100 5% SALE  KRW 158,000   \n",
      "...                   ...          ...   \n",
      "1486          KRW 258,000  KRW 258,000   \n",
      "1487          KRW 258,000  KRW 258,000   \n",
      "1488           KRW 82,000   KRW 82,000   \n",
      "1489           KRW 82,000   KRW 82,000   \n",
      "1490           KRW 82,000   KRW 82,000   \n",
      "\n",
      "                                            colorFabric  \\\n",
      "0     경쾌한 기장감의 블루종 자켓입니다. 고밀도로 이루어진 CN원단으로 제작되어 실루엣을...   \n",
      "1     경쾌한 기장감의 블루종 자켓입니다. 고밀도로 이루어진 CN원단으로 제작되어 실루엣을...   \n",
      "2     경쾌한 기장감의 블루종 자켓입니다. 고밀도로 이루어진 CN원단으로 제작되어 실루엣을...   \n",
      "3     경쾌한 기장감의 블루종 자켓입니다. 고밀도로 이루어진 CN원단으로 제작되어 실루엣을...   \n",
      "4     경쾌한 기장감의 블루종 자켓입니다. 고밀도로 이루어진 CN원단으로 제작되어 실루엣을...   \n",
      "...                                                 ...   \n",
      "1486                                                      \n",
      "1487                                                      \n",
      "1488  두께감 있는 헤비 플란넬 체크원단으로 제작한 셔츠재킷입니다. 가슴부분의 아웃포켓과 ...   \n",
      "1489  두께감 있는 헤비 플란넬 체크원단으로 제작한 셔츠재킷입니다. 가슴부분의 아웃포켓과 ...   \n",
      "1490  두께감 있는 헤비 플란넬 체크원단으로 제작한 셔츠재킷입니다. 가슴부분의 아웃포켓과 ...   \n",
      "\n",
      "                                               imageUrl size  isAvailable  \n",
      "0     https://frizm.co.kr/web/product/big/202308/cd0...    M         True  \n",
      "1     https://frizm.co.kr/web/product/big/202308/cd0...    L         True  \n",
      "2     https://frizm.co.kr/web/product/big/202308/cd0...   XL         True  \n",
      "3     https://frizm.co.kr/web/product/big/202308/f6b...    M         True  \n",
      "4     https://frizm.co.kr/web/product/big/202308/f6b...    L         True  \n",
      "...                                                 ...  ...          ...  \n",
      "1486  https://frizm.co.kr/web/product/big/201711/120...    L        False  \n",
      "1487  https://frizm.co.kr/web/product/big/201711/120...   XL        False  \n",
      "1488  https://frizm.co.kr/web/product/big/201810/251...    M        False  \n",
      "1489  https://frizm.co.kr/web/product/big/201810/251...    L        False  \n",
      "1490  https://frizm.co.kr/web/product/big/201810/251...   XL        False  \n",
      "\n",
      "[1491 rows x 12 columns]\n"
     ]
    }
   ],
   "source": [
    "dict1 = crawl_pages(product_paths[:500])\n",
    "df1 = pd.DataFrame.from_dict(dict1)\n",
    "\n",
    "print(df1)"
   ]
  },
  {
   "cell_type": "code",
   "execution_count": 10,
   "metadata": {},
   "outputs": [
    {
     "name": "stderr",
     "output_type": "stream",
     "text": [
      "WARNING:root:Can not find chromedriver for currently installed chrome version.\n"
     ]
    },
    {
     "name": "stdout",
     "output_type": "stream",
     "text": [
      "     baseCat                                           baseName  \\\n",
      "0        top                         M65 fishtail parka _ beige   \n",
      "1        top                         M65 fishtail parka _ beige   \n",
      "2        top                         M65 fishtail parka _ beige   \n",
      "3        top                        Karakoram down parka _ navy   \n",
      "4        top                        Karakoram down parka _ navy   \n",
      "...      ...                                                ...   \n",
      "1185     top  [PENFIELD X FRIZMWORKS] Forest logo sweatshirt...   \n",
      "1186     top  [PENFIELD X FRIZMWORKS] Forest logo sweatshirt...   \n",
      "1187     top  [PENFIELD X FRIZMWORKS] Forest logo sweatshirt...   \n",
      "1188     top  [PENFIELD X FRIZMWORKS] Forest logo sweatshirt...   \n",
      "1189     top  [PENFIELD X FRIZMWORKS] Forest logo sweatshirt...   \n",
      "\n",
      "                     baseCode  \\\n",
      "0         M65 fishtail parka    \n",
      "1         M65 fishtail parka    \n",
      "2         M65 fishtail parka    \n",
      "3       Karakoram down parka    \n",
      "4       Karakoram down parka    \n",
      "...                       ...   \n",
      "1185  Forest logo sweatshirt    \n",
      "1186  Forest logo sweatshirt    \n",
      "1187  Forest logo sweatshirt    \n",
      "1188  Forest logo sweatshirt    \n",
      "1189  Forest logo sweatshirt    \n",
      "\n",
      "                                                baseUrl colorName  baseGender  \\\n",
      "0     https://frizm.co.kr/product/m65-fishtail-parka...     beige           0   \n",
      "1     https://frizm.co.kr/product/m65-fishtail-parka...     beige           0   \n",
      "2     https://frizm.co.kr/product/m65-fishtail-parka...     beige           0   \n",
      "3     https://frizm.co.kr/product/karakoram-down-par...      navy           0   \n",
      "4     https://frizm.co.kr/product/karakoram-down-par...      navy           0   \n",
      "...                                                 ...       ...         ...   \n",
      "1185  https://frizm.co.kr/product/penfield-x-frizmwo...     beige           0   \n",
      "1186  https://frizm.co.kr/product/penfield-x-frizmwo...     beige           0   \n",
      "1187  https://frizm.co.kr/product/penfield-x-frizmwo...     black           0   \n",
      "1188  https://frizm.co.kr/product/penfield-x-frizmwo...     black           0   \n",
      "1189  https://frizm.co.kr/product/penfield-x-frizmwo...     black           0   \n",
      "\n",
      "            price    basePrice  \\\n",
      "0     KRW 168,000  KRW 168,000   \n",
      "1     KRW 168,000  KRW 168,000   \n",
      "2     KRW 168,000  KRW 168,000   \n",
      "3     KRW 238,000  KRW 238,000   \n",
      "4     KRW 238,000  KRW 238,000   \n",
      "...           ...          ...   \n",
      "1185   KRW 69,000   KRW 69,000   \n",
      "1186   KRW 69,000   KRW 69,000   \n",
      "1187   KRW 69,000   KRW 69,000   \n",
      "1188   KRW 69,000   KRW 69,000   \n",
      "1189   KRW 69,000   KRW 69,000   \n",
      "\n",
      "                                            colorFabric  \\\n",
      "0     M65 피쉬테일 필드 파카를 모티브로 제작한 제품입니다. 플랩 디테일이 있는 큼직한...   \n",
      "1     M65 피쉬테일 필드 파카를 모티브로 제작한 제품입니다. 플랩 디테일이 있는 큼직한...   \n",
      "2     M65 피쉬테일 필드 파카를 모티브로 제작한 제품입니다. 플랩 디테일이 있는 큼직한...   \n",
      "3                                                         \n",
      "4                                                         \n",
      "...                                                 ...   \n",
      "1185                                        3,400원 (5%)   \n",
      "1186                                        3,400원 (5%)   \n",
      "1187                                        3,400원 (5%)   \n",
      "1188                                        3,400원 (5%)   \n",
      "1189                                        3,400원 (5%)   \n",
      "\n",
      "                                               imageUrl size  isAvailable  \n",
      "0     https://frizm.co.kr/web/product/big/201802/126...    M        False  \n",
      "1     https://frizm.co.kr/web/product/big/201802/126...    L        False  \n",
      "2     https://frizm.co.kr/web/product/big/201802/126...   XL        False  \n",
      "3     https://frizm.co.kr/web/product/big/201711/120...    M        False  \n",
      "4     https://frizm.co.kr/web/product/big/201711/120...    L        False  \n",
      "...                                                 ...  ...          ...  \n",
      "1185  https://frizm.co.kr/web/product/big/202103/23e...    L         True  \n",
      "1186  https://frizm.co.kr/web/product/big/202103/23e...   XL        False  \n",
      "1187  https://frizm.co.kr/web/product/big/202103/cb7...    M         True  \n",
      "1188  https://frizm.co.kr/web/product/big/202103/cb7...    L         True  \n",
      "1189  https://frizm.co.kr/web/product/big/202103/cb7...   XL         True  \n",
      "\n",
      "[1190 rows x 12 columns]\n"
     ]
    }
   ],
   "source": [
    "dict2 = crawl_pages(product_paths[500:1000])\n",
    "df2 = pd.DataFrame.from_dict(dict2)\n",
    "\n",
    "print(df2)"
   ]
  },
  {
   "cell_type": "code",
   "execution_count": 11,
   "metadata": {},
   "outputs": [
    {
     "name": "stderr",
     "output_type": "stream",
     "text": [
      "WARNING:root:Can not find chromedriver for currently installed chrome version.\n"
     ]
    },
    {
     "name": "stdout",
     "output_type": "stream",
     "text": [
      "     baseCat                               baseName  \\\n",
      "0        top           Double layered hoody _ ivory   \n",
      "1        top           Double layered hoody _ ivory   \n",
      "2        top           Double layered hoody _ ivory   \n",
      "3        top       Double layered hoody _ dark gray   \n",
      "4        top       Double layered hoody _ dark gray   \n",
      "...      ...                                    ...   \n",
      "1490     top  Nylon fatigue shirt jacket _ charcoal   \n",
      "1491     top  Nylon fatigue shirt jacket _ charcoal   \n",
      "1492     top     Nylon fatigue shirt jacket _ black   \n",
      "1493     top     Nylon fatigue shirt jacket _ black   \n",
      "1494     top     Nylon fatigue shirt jacket _ black   \n",
      "\n",
      "                         baseCode  \\\n",
      "0           Double layered hoody    \n",
      "1           Double layered hoody    \n",
      "2           Double layered hoody    \n",
      "3           Double layered hoody    \n",
      "4           Double layered hoody    \n",
      "...                           ...   \n",
      "1490  Nylon fatigue shirt jacket    \n",
      "1491  Nylon fatigue shirt jacket    \n",
      "1492  Nylon fatigue shirt jacket    \n",
      "1493  Nylon fatigue shirt jacket    \n",
      "1494  Nylon fatigue shirt jacket    \n",
      "\n",
      "                                                baseUrl   colorName  \\\n",
      "0     https://frizm.co.kr/product/double-layered-hoo...       ivory   \n",
      "1     https://frizm.co.kr/product/double-layered-hoo...       ivory   \n",
      "2     https://frizm.co.kr/product/double-layered-hoo...       ivory   \n",
      "3     https://frizm.co.kr/product/double-layered-hoo...   dark gray   \n",
      "4     https://frizm.co.kr/product/double-layered-hoo...   dark gray   \n",
      "...                                                 ...         ...   \n",
      "1490  https://frizm.co.kr/product/nylon-fatigue-shir...    charcoal   \n",
      "1491  https://frizm.co.kr/product/nylon-fatigue-shir...    charcoal   \n",
      "1492  https://frizm.co.kr/product/nylon-fatigue-shir...       black   \n",
      "1493  https://frizm.co.kr/product/nylon-fatigue-shir...       black   \n",
      "1494  https://frizm.co.kr/product/nylon-fatigue-shir...       black   \n",
      "\n",
      "      baseGender                price   basePrice  \\\n",
      "0              0  KRW 44,500 50% SALE  KRW 89,000   \n",
      "1              0  KRW 44,500 50% SALE  KRW 89,000   \n",
      "2              0  KRW 44,500 50% SALE  KRW 89,000   \n",
      "3              0  KRW 44,500 50% SALE  KRW 89,000   \n",
      "4              0  KRW 44,500 50% SALE  KRW 89,000   \n",
      "...          ...                  ...         ...   \n",
      "1490           0           KRW 69,000  KRW 69,000   \n",
      "1491           0           KRW 69,000  KRW 69,000   \n",
      "1492           0           KRW 69,000  KRW 69,000   \n",
      "1493           0           KRW 69,000  KRW 69,000   \n",
      "1494           0           KRW 69,000  KRW 69,000   \n",
      "\n",
      "                                            colorFabric  \\\n",
      "0     yd당 900g 정도의 무게감을 가진 가진 헤비웨이트 원단으로 제작된 후디입니다. ...   \n",
      "1     yd당 900g 정도의 무게감을 가진 가진 헤비웨이트 원단으로 제작된 후디입니다. ...   \n",
      "2     yd당 900g 정도의 무게감을 가진 가진 헤비웨이트 원단으로 제작된 후디입니다. ...   \n",
      "3     yd당 900g 정도의 무게감을 가진 가진 헤비웨이트 원단으로 제작된 후디입니다. ...   \n",
      "4     yd당 900g 정도의 무게감을 가진 가진 헤비웨이트 원단으로 제작된 후디입니다. ...   \n",
      "...                                                 ...   \n",
      "1490  나일론 코튼의 교직 원단으로 염색상태에서 부터 고축 가공처리를 하여 특유의 자연스러...   \n",
      "1491  나일론 코튼의 교직 원단으로 염색상태에서 부터 고축 가공처리를 하여 특유의 자연스러...   \n",
      "1492  나일론 코튼의 교직 원단으로 염색상태에서 부터 고축 가공처리를 하여 특유의 자연스러...   \n",
      "1493  나일론 코튼의 교직 원단으로 염색상태에서 부터 고축 가공처리를 하여 특유의 자연스러...   \n",
      "1494  나일론 코튼의 교직 원단으로 염색상태에서 부터 고축 가공처리를 하여 특유의 자연스러...   \n",
      "\n",
      "                                               imageUrl size  isAvailable  \n",
      "0     https://frizm.co.kr/web/product/big/202103/c4f...    M         True  \n",
      "1     https://frizm.co.kr/web/product/big/202103/c4f...    L         True  \n",
      "2     https://frizm.co.kr/web/product/big/202103/c4f...   XL         True  \n",
      "3     https://frizm.co.kr/web/product/big/202103/290...    M         True  \n",
      "4     https://frizm.co.kr/web/product/big/202103/290...    L         True  \n",
      "...                                                 ...  ...          ...  \n",
      "1490  https://frizm.co.kr/web/product/big/20200313/1...    L        False  \n",
      "1491  https://frizm.co.kr/web/product/big/20200313/1...   XL        False  \n",
      "1492  https://frizm.co.kr/web/product/big/20200313/e...    M        False  \n",
      "1493  https://frizm.co.kr/web/product/big/20200313/e...    L        False  \n",
      "1494  https://frizm.co.kr/web/product/big/20200313/e...   XL        False  \n",
      "\n",
      "[1495 rows x 12 columns]\n"
     ]
    }
   ],
   "source": [
    "dict3 = crawl_pages(product_paths[1000:1500])\n",
    "df3 = pd.DataFrame.from_dict(dict3)\n",
    "\n",
    "print(df3)"
   ]
  },
  {
   "cell_type": "code",
   "execution_count": 12,
   "metadata": {},
   "outputs": [
    {
     "name": "stderr",
     "output_type": "stream",
     "text": [
      "WARNING:root:Can not find chromedriver for currently installed chrome version.\n"
     ]
    },
    {
     "name": "stdout",
     "output_type": "stream",
     "text": [
      "    baseCat                            baseName                      baseCode  \\\n",
      "0       top        NYCO Set-up pullover _ olive         NYCO Set-up pullover    \n",
      "1       top        NYCO Set-up pullover _ olive         NYCO Set-up pullover    \n",
      "2       top        NYCO Set-up pullover _ olive         NYCO Set-up pullover    \n",
      "3       top     NYCO Set-up pullover _ charcoal         NYCO Set-up pullover    \n",
      "4       top     NYCO Set-up pullover _ charcoal         NYCO Set-up pullover    \n",
      "..      ...                                 ...                           ...   \n",
      "920     top  FZ Pingpong club sweatshirt _ navy  FZ Pingpong club sweatshirt    \n",
      "921     top  FZ Pingpong club sweatshirt _ navy  FZ Pingpong club sweatshirt    \n",
      "922     top  FZ Pingpong club sweatshirt _ gray  FZ Pingpong club sweatshirt    \n",
      "923     top  FZ Pingpong club sweatshirt _ gray  FZ Pingpong club sweatshirt    \n",
      "924     top  FZ Pingpong club sweatshirt _ gray  FZ Pingpong club sweatshirt    \n",
      "\n",
      "                                               baseUrl  colorName  baseGender  \\\n",
      "0    https://frizm.co.kr/product/nyco-set-up-pullov...      olive           0   \n",
      "1    https://frizm.co.kr/product/nyco-set-up-pullov...      olive           0   \n",
      "2    https://frizm.co.kr/product/nyco-set-up-pullov...      olive           0   \n",
      "3    https://frizm.co.kr/product/nyco-set-up-pullov...   charcoal           0   \n",
      "4    https://frizm.co.kr/product/nyco-set-up-pullov...   charcoal           0   \n",
      "..                                                 ...        ...         ...   \n",
      "920  https://frizm.co.kr/product/fz-pingpong-club-s...       navy           0   \n",
      "921  https://frizm.co.kr/product/fz-pingpong-club-s...       navy           0   \n",
      "922  https://frizm.co.kr/product/fz-pingpong-club-s...       gray           0   \n",
      "923  https://frizm.co.kr/product/fz-pingpong-club-s...       gray           0   \n",
      "924  https://frizm.co.kr/product/fz-pingpong-club-s...       gray           0   \n",
      "\n",
      "          price   basePrice  \\\n",
      "0    KRW 68,000  KRW 68,000   \n",
      "1    KRW 68,000  KRW 68,000   \n",
      "2    KRW 68,000  KRW 68,000   \n",
      "3    KRW 68,000  KRW 68,000   \n",
      "4    KRW 68,000  KRW 68,000   \n",
      "..          ...         ...   \n",
      "920  KRW 54,000  KRW 54,000   \n",
      "921  KRW 54,000  KRW 54,000   \n",
      "922  KRW 54,000  KRW 54,000   \n",
      "923  KRW 54,000  KRW 54,000   \n",
      "924  KRW 54,000  KRW 54,000   \n",
      "\n",
      "                                           colorFabric  \\\n",
      "0    나일론 코튼의 교직 원단으로 염색상태에서 부터 고축 가공처리를 하여 특유의 자연스러...   \n",
      "1    나일론 코튼의 교직 원단으로 염색상태에서 부터 고축 가공처리를 하여 특유의 자연스러...   \n",
      "2    나일론 코튼의 교직 원단으로 염색상태에서 부터 고축 가공처리를 하여 특유의 자연스러...   \n",
      "3    나일론 코튼의 교직 원단으로 염색상태에서 부터 고축 가공처리를 하여 특유의 자연스러...   \n",
      "4    나일론 코튼의 교직 원단으로 염색상태에서 부터 고축 가공처리를 하여 특유의 자연스러...   \n",
      "..                                                 ...   \n",
      "920                                                      \n",
      "921                                                      \n",
      "922                                                      \n",
      "923                                                      \n",
      "924                                                      \n",
      "\n",
      "                                              imageUrl size  isAvailable  \n",
      "0    https://frizm.co.kr/web/product/big/20200313/0...    M        False  \n",
      "1    https://frizm.co.kr/web/product/big/20200313/0...    L        False  \n",
      "2    https://frizm.co.kr/web/product/big/20200313/0...   XL        False  \n",
      "3    https://frizm.co.kr/web/product/big/20200313/a...    M        False  \n",
      "4    https://frizm.co.kr/web/product/big/20200313/a...    L        False  \n",
      "..                                                 ...  ...          ...  \n",
      "920  https://frizm.co.kr/web/product/big/201709/113...    L        False  \n",
      "921  https://frizm.co.kr/web/product/big/201709/113...   XL        False  \n",
      "922  https://frizm.co.kr/web/product/big/201709/113...    M        False  \n",
      "923  https://frizm.co.kr/web/product/big/201709/113...    L        False  \n",
      "924  https://frizm.co.kr/web/product/big/201709/113...   XL        False  \n",
      "\n",
      "[925 rows x 12 columns]\n"
     ]
    }
   ],
   "source": [
    "dict4 = crawl_pages(product_paths[1500:2000])\n",
    "df4 = pd.DataFrame.from_dict(dict4)\n",
    "\n",
    "print(df4)"
   ]
  },
  {
   "cell_type": "code",
   "execution_count": 13,
   "metadata": {},
   "outputs": [
    {
     "name": "stderr",
     "output_type": "stream",
     "text": [
      "WARNING:root:Can not find chromedriver for currently installed chrome version.\n"
     ]
    },
    {
     "name": "stdout",
     "output_type": "stream",
     "text": [
      "     baseCat                          baseName                   baseCode  \\\n",
      "0        top          OG Cashmere knit _ ivory          OG Cashmere knit    \n",
      "1        top          OG Cashmere knit _ ivory          OG Cashmere knit    \n",
      "2        top          OG Cashmere knit _ ivory          OG Cashmere knit    \n",
      "3        top        OG Cashmere knit _ oatmeal          OG Cashmere knit    \n",
      "4        top        OG Cashmere knit _ oatmeal          OG Cashmere knit    \n",
      "...      ...                               ...                        ...   \n",
      "1215  bottom          Oxford half pants _ navy         Oxford half pants    \n",
      "1216  bottom          Oxford half pants _ navy         Oxford half pants    \n",
      "1217  bottom  Cotton set up half pants _ beige  Cotton set up half pants    \n",
      "1218  bottom  Cotton set up half pants _ beige  Cotton set up half pants    \n",
      "1219  bottom  Cotton set up half pants _ beige  Cotton set up half pants    \n",
      "\n",
      "                                                baseUrl colorName  baseGender  \\\n",
      "0     https://frizm.co.kr/product/og-cashmere-knit-i...     ivory           0   \n",
      "1     https://frizm.co.kr/product/og-cashmere-knit-i...     ivory           0   \n",
      "2     https://frizm.co.kr/product/og-cashmere-knit-i...     ivory           0   \n",
      "3     https://frizm.co.kr/product/og-cashmere-knit-o...   oatmeal           0   \n",
      "4     https://frizm.co.kr/product/og-cashmere-knit-o...   oatmeal           0   \n",
      "...                                                 ...       ...         ...   \n",
      "1215  https://frizm.co.kr/product/oxford-half-pants-...      navy           0   \n",
      "1216  https://frizm.co.kr/product/oxford-half-pants-...      navy           0   \n",
      "1217  https://frizm.co.kr/product/cotton-set-up-half...     beige           0   \n",
      "1218  https://frizm.co.kr/product/cotton-set-up-half...     beige           0   \n",
      "1219  https://frizm.co.kr/product/cotton-set-up-half...     beige           0   \n",
      "\n",
      "           price   basePrice  \\\n",
      "0     KRW 79,000  KRW 79,000   \n",
      "1     KRW 79,000  KRW 79,000   \n",
      "2     KRW 79,000  KRW 79,000   \n",
      "3     KRW 79,000  KRW 79,000   \n",
      "4     KRW 79,000  KRW 79,000   \n",
      "...          ...         ...   \n",
      "1215  KRW 48,000  KRW 48,000   \n",
      "1216  KRW 48,000  KRW 48,000   \n",
      "1217  KRW 39,000  KRW 39,000   \n",
      "1218  KRW 39,000  KRW 39,000   \n",
      "1219  KRW 39,000  KRW 39,000   \n",
      "\n",
      "                                            colorFabric  \\\n",
      "0     Original Garments ®라인 제품으로 고 품질의 캐시미어 원사로 제작된 ...   \n",
      "1     Original Garments ®라인 제품으로 고 품질의 캐시미어 원사로 제작된 ...   \n",
      "2     Original Garments ®라인 제품으로 고 품질의 캐시미어 원사로 제작된 ...   \n",
      "3     Original Garments ®라인 제품으로 고 품질의 캐시미어 원사로 제작된 ...   \n",
      "4     Original Garments ®라인 제품으로 고 품질의 캐시미어 원사로 제작된 ...   \n",
      "...                                                 ...   \n",
      "1215  가공 되지 않은 캔버스 원단 본연의 느낌을 살려 제작한 쇼트 팬츠 입니다. 은은한 ...   \n",
      "1216  가공 되지 않은 캔버스 원단 본연의 느낌을 살려 제작한 쇼트 팬츠 입니다. 은은한 ...   \n",
      "1217  30수 고밀도 원단으로 제작된 하프팬츠 입니다. 피치스킨 가공 (peach-skin...   \n",
      "1218  30수 고밀도 원단으로 제작된 하프팬츠 입니다. 피치스킨 가공 (peach-skin...   \n",
      "1219  30수 고밀도 원단으로 제작된 하프팬츠 입니다. 피치스킨 가공 (peach-skin...   \n",
      "\n",
      "                                               imageUrl size  isAvailable  \n",
      "0     https://frizm.co.kr/web/product/big/202106/059...    M        False  \n",
      "1     https://frizm.co.kr/web/product/big/202106/059...    L        False  \n",
      "2     https://frizm.co.kr/web/product/big/202106/059...   XL        False  \n",
      "3     https://frizm.co.kr/web/product/big/202106/965...    M        False  \n",
      "4     https://frizm.co.kr/web/product/big/202106/965...    L        False  \n",
      "...                                                 ...  ...          ...  \n",
      "1215  https://frizm.co.kr/web/product/big/201806/138...    L        False  \n",
      "1216  https://frizm.co.kr/web/product/big/201806/138...   XL        False  \n",
      "1217  https://frizm.co.kr/web/product/big/201806/138...    M        False  \n",
      "1218  https://frizm.co.kr/web/product/big/201806/138...    L        False  \n",
      "1219  https://frizm.co.kr/web/product/big/201806/138...   XL        False  \n",
      "\n",
      "[1220 rows x 12 columns]\n"
     ]
    }
   ],
   "source": [
    "dict5 = crawl_pages(product_paths[2000:2500])\n",
    "df5 = pd.DataFrame.from_dict(dict5)\n",
    "\n",
    "print(df5)"
   ]
  },
  {
   "cell_type": "code",
   "execution_count": 14,
   "metadata": {},
   "outputs": [
    {
     "name": "stderr",
     "output_type": "stream",
     "text": [
      "WARNING:root:Can not find chromedriver for currently installed chrome version.\n"
     ]
    },
    {
     "name": "stdout",
     "output_type": "stream",
     "text": [
      "    baseCat                            baseName                     baseCode  \\\n",
      "0    bottom    Cotton set up half pants _ black    Cotton set up half pants    \n",
      "1    bottom    Cotton set up half pants _ black    Cotton set up half pants    \n",
      "2    bottom    Cotton set up half pants _ black    Cotton set up half pants    \n",
      "3    bottom     Round shirt one piece _ mustard       Round shirt one piece    \n",
      "4    bottom     Round shirt one piece _ mustard       Round shirt one piece    \n",
      "..      ...                                 ...                          ...   \n",
      "137  bottom   OG Heavyweight sweat pants _ gray  OG Heavyweight sweat pants    \n",
      "138  bottom   OG Heavyweight sweat pants _ gray  OG Heavyweight sweat pants    \n",
      "139  bottom  OG Heavyweight sweat pants _ black  OG Heavyweight sweat pants    \n",
      "140  bottom  OG Heavyweight sweat pants _ black  OG Heavyweight sweat pants    \n",
      "141  bottom  OG Heavyweight sweat pants _ black  OG Heavyweight sweat pants    \n",
      "\n",
      "                                               baseUrl colorName  baseGender  \\\n",
      "0    https://frizm.co.kr/product/cotton-set-up-half...     black           0   \n",
      "1    https://frizm.co.kr/product/cotton-set-up-half...     black           0   \n",
      "2    https://frizm.co.kr/product/cotton-set-up-half...     black           0   \n",
      "3    https://frizm.co.kr/product/round-shirt-one-pi...   mustard           0   \n",
      "4    https://frizm.co.kr/product/round-shirt-one-pi...   mustard           0   \n",
      "..                                                 ...       ...         ...   \n",
      "137  https://frizm.co.kr/product/og-heavyweight-swe...      gray           0   \n",
      "138  https://frizm.co.kr/product/og-heavyweight-swe...      gray           0   \n",
      "139  https://frizm.co.kr/product/og-heavyweight-swe...     black           0   \n",
      "140  https://frizm.co.kr/product/og-heavyweight-swe...     black           0   \n",
      "141  https://frizm.co.kr/product/og-heavyweight-swe...     black           0   \n",
      "\n",
      "          price   basePrice  \\\n",
      "0    KRW 39,000  KRW 39,000   \n",
      "1    KRW 39,000  KRW 39,000   \n",
      "2    KRW 39,000  KRW 39,000   \n",
      "3    KRW 98,000  KRW 98,000   \n",
      "4    KRW 98,000  KRW 98,000   \n",
      "..          ...         ...   \n",
      "137  KRW 69,000  KRW 69,000   \n",
      "138  KRW 69,000  KRW 69,000   \n",
      "139  KRW 69,000  KRW 69,000   \n",
      "140  KRW 69,000  KRW 69,000   \n",
      "141  KRW 69,000  KRW 69,000   \n",
      "\n",
      "                                           colorFabric  \\\n",
      "0    30수 고밀도 원단으로 제작된 하프팬츠 입니다. 피치스킨 가공 (peach-skin...   \n",
      "1    30수 고밀도 원단으로 제작된 하프팬츠 입니다. 피치스킨 가공 (peach-skin...   \n",
      "2    30수 고밀도 원단으로 제작된 하프팬츠 입니다. 피치스킨 가공 (peach-skin...   \n",
      "3    여름철 입기 좋은 소재로 이루어진 셔츠 원피스 입니다. 소매는 7부정도의 기장감으로...   \n",
      "4    여름철 입기 좋은 소재로 이루어진 셔츠 원피스 입니다. 소매는 7부정도의 기장감으로...   \n",
      "..                                                 ...   \n",
      "137  Original Garments® 라인제품으로 YD당 960-1000g의 무게감을 ...   \n",
      "138  Original Garments® 라인제품으로 YD당 960-1000g의 무게감을 ...   \n",
      "139  Original Garments® 라인제품으로 YD당 960-1000g의 무게감을 ...   \n",
      "140  Original Garments® 라인제품으로 YD당 960-1000g의 무게감을 ...   \n",
      "141  Original Garments® 라인제품으로 YD당 960-1000g의 무게감을 ...   \n",
      "\n",
      "                                              imageUrl size  isAvailable  \n",
      "0    https://frizm.co.kr/web/product/big/201806/138...    M        False  \n",
      "1    https://frizm.co.kr/web/product/big/201806/138...    L        False  \n",
      "2    https://frizm.co.kr/web/product/big/201806/138...   XL        False  \n",
      "3    https://frizm.co.kr/web/product/big/201805/138...    S        False  \n",
      "4    https://frizm.co.kr/web/product/big/201805/138...    M        False  \n",
      "..                                                 ...  ...          ...  \n",
      "137  https://frizm.co.kr/web/product/big/202106/bc6...    L        False  \n",
      "138  https://frizm.co.kr/web/product/big/202106/bc6...   XL        False  \n",
      "139  https://frizm.co.kr/web/product/big/202106/01c...    M        False  \n",
      "140  https://frizm.co.kr/web/product/big/202106/01c...    L        False  \n",
      "141  https://frizm.co.kr/web/product/big/202106/01c...   XL        False  \n",
      "\n",
      "[142 rows x 12 columns]\n"
     ]
    }
   ],
   "source": [
    "dict6 = crawl_pages(product_paths[2500:])\n",
    "df6 = pd.DataFrame.from_dict(dict6)\n",
    "\n",
    "print(df6)"
   ]
  },
  {
   "cell_type": "code",
   "execution_count": 15,
   "metadata": {
    "id": "rBPZr4YtAV_M"
   },
   "outputs": [],
   "source": [
    "df_final = pd.concat([df1, df2, df3, df4, df5, df6])"
   ]
  },
  {
   "cell_type": "code",
   "execution_count": 16,
   "metadata": {
    "id": "2343h8-MAcZa"
   },
   "outputs": [],
   "source": [
    "df_final.to_csv('result.csv',index=False)"
   ]
  },
  {
   "cell_type": "code",
   "execution_count": null,
   "metadata": {
    "id": "JGsK0CqHAdI0"
   },
   "outputs": [],
   "source": []
  },
  {
   "cell_type": "code",
   "execution_count": null,
   "metadata": {
    "id": "X1asnJkRAgo3"
   },
   "outputs": [],
   "source": []
  },
  {
   "cell_type": "code",
   "execution_count": null,
   "metadata": {
    "id": "XGsQshzHAiPa"
   },
   "outputs": [],
   "source": []
  },
  {
   "cell_type": "code",
   "execution_count": null,
   "metadata": {
    "id": "KWF3nTXXAlwo"
   },
   "outputs": [],
   "source": []
  }
 ],
 "metadata": {
  "colab": {
   "provenance": []
  },
  "kernelspec": {
   "display_name": "Python 3",
   "language": "python",
   "name": "python3"
  },
  "language_info": {
   "codemirror_mode": {
    "name": "ipython",
    "version": 3
   },
   "file_extension": ".py",
   "mimetype": "text/x-python",
   "name": "python",
   "nbconvert_exporter": "python",
   "pygments_lexer": "ipython3",
   "version": "3.8.8"
  }
 },
 "nbformat": 4,
 "nbformat_minor": 1
}
