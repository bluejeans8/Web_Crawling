{
 "cells": [
  {
   "cell_type": "code",
   "execution_count": 1,
   "metadata": {
    "colab": {
     "base_uri": "https://localhost:8080/"
    },
    "id": "jn65f86N_Z4U",
    "outputId": "9c216cf7-5aec-4990-d5ab-f5460cc3ccc0"
   },
   "outputs": [
    {
     "name": "stdout",
     "output_type": "stream",
     "text": [
      "\n",
      "C:\\Users\\User\\Web_Crawling>doskey defects4j=perl C:\\Users\\User\\defects4j\\framework\\bin\\defects4j $* \n",
      "Requirement already satisfied: chromedriver-autoinstaller in c:\\users\\user\\anaconda3\\lib\\site-packages (0.6.2)\n",
      "Note: you may need to restart the kernel to use updated packages.\n"
     ]
    },
    {
     "name": "stderr",
     "output_type": "stream",
     "text": [
      "WARNING: There was an error checking the latest version of pip.\n"
     ]
    }
   ],
   "source": [
    "pip install chromedriver-autoinstaller"
   ]
  },
  {
   "cell_type": "code",
   "execution_count": 2,
   "metadata": {
    "colab": {
     "base_uri": "https://localhost:8080/"
    },
    "id": "Nj08Ryw__q9Q",
    "outputId": "1a807eb8-7d33-4bf9-a02a-c03e5f275287"
   },
   "outputs": [
    {
     "name": "stdout",
     "output_type": "stream",
     "text": [
      "\n",
      "C:\\Users\\User\\Web_Crawling>doskey defects4j=perl C:\\Users\\User\\defects4j\\framework\\bin\\defects4j $* \n",
      "Requirement already satisfied: selenium in c:\\users\\user\\anaconda3\\lib\\site-packages (4.11.2)\n",
      "Requirement already satisfied: certifi>=2021.10.8 in c:\\users\\user\\anaconda3\\lib\\site-packages (from selenium) (2023.7.22)\n",
      "Requirement already satisfied: trio-websocket~=0.9 in c:\\users\\user\\anaconda3\\lib\\site-packages (from selenium) (0.10.3)\n",
      "Requirement already satisfied: trio~=0.17 in c:\\users\\user\\anaconda3\\lib\\site-packages (from selenium) (0.22.2)\n",
      "Requirement already satisfied: urllib3[socks]<3,>=1.26 in c:\\users\\user\\anaconda3\\lib\\site-packages (from selenium) (1.26.6)\n",
      "Requirement already satisfied: cffi>=1.14 in c:\\users\\user\\anaconda3\\lib\\site-packages (from trio~=0.17->selenium) (1.14.6)\n",
      "Requirement already satisfied: idna in c:\\users\\user\\anaconda3\\lib\\site-packages (from trio~=0.17->selenium) (3.2)\n",
      "Requirement already satisfied: attrs>=20.1.0 in c:\\users\\user\\anaconda3\\lib\\site-packages (from trio~=0.17->selenium) (21.2.0)\n",
      "Requirement already satisfied: exceptiongroup>=1.0.0rc9 in c:\\users\\user\\anaconda3\\lib\\site-packages (from trio~=0.17->selenium) (1.1.3)\n",
      "Requirement already satisfied: sniffio in c:\\users\\user\\anaconda3\\lib\\site-packages (from trio~=0.17->selenium) (1.2.0)\n",
      "Requirement already satisfied: outcome in c:\\users\\user\\anaconda3\\lib\\site-packages (from trio~=0.17->selenium) (1.2.0)\n",
      "Requirement already satisfied: sortedcontainers in c:\\users\\user\\anaconda3\\lib\\site-packages (from trio~=0.17->selenium) (2.4.0)\n",
      "Requirement already satisfied: wsproto>=0.14 in c:\\users\\user\\anaconda3\\lib\\site-packages (from trio-websocket~=0.9->selenium) (1.2.0)\n",
      "Requirement already satisfied: PySocks!=1.5.7,<2.0,>=1.5.6 in c:\\users\\user\\anaconda3\\lib\\site-packages (from urllib3[socks]<3,>=1.26->selenium) (1.7.1)\n",
      "Requirement already satisfied: pycparser in c:\\users\\user\\anaconda3\\lib\\site-packages (from cffi>=1.14->trio~=0.17->selenium) (2.20)\n",
      "Requirement already satisfied: h11<1,>=0.9.0 in c:\\users\\user\\anaconda3\\lib\\site-packages (from wsproto>=0.14->trio-websocket~=0.9->selenium) (0.14.0)\n",
      "Note: you may need to restart the kernel to use updated packages.\n"
     ]
    },
    {
     "name": "stderr",
     "output_type": "stream",
     "text": [
      "WARNING: There was an error checking the latest version of pip.\n"
     ]
    }
   ],
   "source": [
    "pip install selenium"
   ]
  },
  {
   "cell_type": "code",
   "execution_count": 4,
   "metadata": {
    "id": "shZmszAA_txc"
   },
   "outputs": [],
   "source": [
    "import chromedriver_autoinstaller\n",
    "from selenium import webdriver\n",
    "import time\n",
    "\n",
    "class Driver:\n",
    "    @staticmethod\n",
    "    def driver_init():\n",
    "        chromedriver_autoinstaller.install()\n",
    "        options = webdriver.ChromeOptions()\n",
    "#         options.add_argument('headless') # jupyter notebook 환경에서 주석처리\n",
    "        options.add_argument('lang=ko_KR')\n",
    "        options.add_argument(\"user-agent=Mozilla/5.0 (Windows NT 10.0; Win64; x64) AppleWebKit/537.36 (KHTML, like Gecko) Chrome/104.0.0.0 Safari/537.36\")\n",
    "        options.add_argument('--no-sandbox')\n",
    "        options.add_argument('--disable-notifications')\n",
    "        options.add_argument('--disable-popup-blocking')\n",
    "        options.add_argument('--disable-dev-shm-usage')\n",
    "        options.add_argument('--disable-browser-side-navigation')\n",
    "        options.add_argument('disable-gpu')\n",
    "\n",
    "        driver = webdriver.Chrome(options=options)\n",
    "        driver.set_window_size(1600, 1100)\n",
    "\n",
    "        return driver"
   ]
  },
  {
   "cell_type": "code",
   "execution_count": 5,
   "metadata": {
    "id": "zGJEh9o1_5M-"
   },
   "outputs": [
    {
     "name": "stderr",
     "output_type": "stream",
     "text": [
      "WARNING:root:Can not find chromedriver for currently installed chrome version.\n"
     ]
    }
   ],
   "source": [
    "driver = Driver.driver_init()"
   ]
  },
  {
   "cell_type": "code",
   "execution_count": 6,
   "metadata": {
    "colab": {
     "base_uri": "https://localhost:8080/",
     "height": 434
    },
    "id": "gJSsRK4a_8BB",
    "outputId": "df5bcbb4-414c-48f9-da1a-03e17ae6959a"
   },
   "outputs": [
    {
     "name": "stdout",
     "output_type": "stream",
     "text": [
      "2720\n"
     ]
    }
   ],
   "source": [
    "urls = [\n",
    "        ('https://frizm.co.kr/product/list.html?cate_no=24',\n",
    "         'top', 17), #아우터\n",
    "        ('https://frizm.co.kr/product/list.html?cate_no=52',\n",
    "         'top', 37), #상의\n",
    "        ('https://frizm.co.kr/product/list.html?cate_no=26',\n",
    "         'bottom', 14), #하의\n",
    "         ]\n",
    "\n",
    "product_paths = []\n",
    "\n",
    "## 아우터/상의/하의 분류 루프\n",
    "for (url,cat, pages_cnt) in urls:\n",
    "    ## 각 옷 분류의 페이지 갯수 루프\n",
    "    for page_num in range(pages_cnt):\n",
    "        try:\n",
    "            driver.get(url + \"&page=\" + str(page_num))\n",
    "        except:\n",
    "            continue\n",
    "\n",
    "        products = driver.find_elements('xpath', '//ul[@class=\"prdList grid4\"]/li')\n",
    "        products_cnt = len(products)\n",
    "\n",
    "        ## 각 product의 path를 product_paths 리스트에 저장\n",
    "        for i in range(products_cnt):\n",
    "            product = driver.find_elements('xpath', '//ul[@class=\"prdList grid4\"]/li')[i]\n",
    "            product_path = product.find_element('xpath', './div[@class=\"thumbnail\"]/a').get_attribute('href')\n",
    "            product_paths.append(product_path)\n",
    "\n",
    "print(len(product_paths))"
   ]
  },
  {
   "cell_type": "code",
   "execution_count": 25,
   "metadata": {},
   "outputs": [],
   "source": [
    "def crawl_pages(product_paths):\n",
    "    \n",
    "    base_dict= {\"baseCat\":[], \"baseName\": [], \"baseCode\": [], \"baseUrl\": [], \"colorName\": [],\n",
    "            \"baseGender\": [], \"price\": [], \"basePrice\": [], \"colorFabric\": [], \"imageUrl\": [],\n",
    "            \"size\": [], \"isAvailable\": []\n",
    "            }\n",
    "    \n",
    "    ## 드라이버 초기화\n",
    "    driver = Driver.driver_init()\n",
    "    ## 각 product에 대한 정보 추출\n",
    "    for product_path in product_paths:\n",
    "        driver.get(product_path)\n",
    "\n",
    "        cat = 'top'\n",
    "        if \"category/24\" in product_path or \"category/52\" in product_path:\n",
    "            cat = 'top'\n",
    "        elif \"category/26\" in product_path:\n",
    "            cat = 'bottom'\n",
    "\n",
    "        baseURL = product_path\n",
    "        base_gender = 0\n",
    "        text_info = driver.find_element('xpath', '//div[@class=\"infoArea\"]')\n",
    "        imageURL = driver.find_element('xpath','//img[@class=\"BigImage \"]').get_attribute('src')\n",
    "\n",
    "        base_name = text_info.find_element('xpath', './div[@class=\"headingArea\"]/h2').text\n",
    "        base_code = \"\"\n",
    "        color_name = \"\"\n",
    "        ## color가 명시되지 않은 옷은 제외(패키지 상품)\n",
    "        if \"_\" in base_name:\n",
    "            base_code = base_name.split(\"_\")[0]\n",
    "            ## base_code 앞에 협업 브랜드 텍스트 제거\n",
    "            if \"] \" in base_code:\n",
    "                base_code = base_code.split(\"] \")[1]\n",
    "\n",
    "            ## color_name 뒤에 협업 브랜드 텍스트 제거\n",
    "            color_name = base_name.split(\"_\")[1]\n",
    "            if \"[\" in color_name:\n",
    "                color_name = color_name.split(\"[\")[0]\n",
    "        else:\n",
    "            continue\n",
    "\n",
    "        base_price = \"\"\n",
    "        price = \"\"\n",
    "        color_fabric = \"\"\n",
    "        trs = text_info.find_elements(\"xpath\",'./div[2]/table/tbody/tr') #body의 table 항목 갯수                       \n",
    "        if len(trs) == 5:\n",
    "            base_price = text_info.find_element(\"xpath\",'.//strong[@id=\"span_product_price_text\"]').text\n",
    "            price = text_info.find_element(\"xpath\",'.//span[@id=\"span_product_price_sale\"]').text\n",
    "            color_fabric = text_info.find_element(\"xpath\",'./div[2]/table/tbody/tr[5]/td/span').text\n",
    "        elif len(trs) == 4:\n",
    "            base_price = text_info.find_element(\"xpath\",'.//strong[@id=\"span_product_price_text\"]').text\n",
    "            price = base_price\n",
    "            color_fabric = text_info.find_element(\"xpath\",'./div[2]/table/tbody/tr[4]/td/span').text\n",
    "        elif len(trs) == 3:\n",
    "            base_price = text_info.find_element(\"xpath\",'.//strong[@id=\"span_product_price_text\"]').text\n",
    "            price = base_price\n",
    "            color_fabric = \"\"\n",
    "        elif len(trs) == 2:\n",
    "            base_price = \"\"\n",
    "            price = \"\"\n",
    "            color_fabric = \"\"\n",
    "            \n",
    "\n",
    "        size_elements = text_info.find_elements(\"xpath\",'.//optgroup[@label=\"사이즈\"]/option')\n",
    "        size = \"M\"\n",
    "        is_available = True\n",
    "\n",
    "        for element in size_elements:\n",
    "            size = element.text.replace(\" [품절]\",\"\")\n",
    "            if \"[품절]\" in element.text:\n",
    "                is_available = False\n",
    "            else:\n",
    "                is_available = True\n",
    "\n",
    "            base_dict[\"baseCat\"].append(cat)\n",
    "            base_dict[\"baseName\"].append(base_name)\n",
    "            base_dict[\"baseCode\"].append(base_code)\n",
    "            base_dict[\"baseUrl\"].append(baseURL)\n",
    "            base_dict[\"colorName\"].append(color_name)\n",
    "            base_dict[\"baseGender\"].append(0)\n",
    "            base_dict[\"price\"].append(price)\n",
    "            base_dict[\"basePrice\"].append(base_price)\n",
    "            base_dict[\"colorFabric\"].append(color_fabric)\n",
    "            base_dict[\"imageUrl\"].append(imageURL)\n",
    "            base_dict[\"size\"].append(size)\n",
    "            base_dict[\"isAvailable\"].append(is_available)\n",
    "            \n",
    "    return base_dict"
   ]
  },
  {
   "cell_type": "code",
   "execution_count": 26,
   "metadata": {},
   "outputs": [],
   "source": [
    "import pandas as pd"
   ]
  },
  {
   "cell_type": "code",
   "execution_count": 27,
   "metadata": {},
   "outputs": [
    {
     "name": "stderr",
     "output_type": "stream",
     "text": [
      "WARNING:root:Can not find chromedriver for currently installed chrome version.\n"
     ]
    },
    {
     "name": "stdout",
     "output_type": "stream",
     "text": [
      "     baseCat                              baseName  \\\n",
      "0        top         Paulo drizzler jacket _ beige   \n",
      "1        top         Paulo drizzler jacket _ beige   \n",
      "2        top         Paulo drizzler jacket _ beige   \n",
      "3        top         Paulo drizzler jacket _ black   \n",
      "4        top         Paulo drizzler jacket _ black   \n",
      "...      ...                                   ...   \n",
      "1492     top       Durable N-1 Deck jacket _ black   \n",
      "1493     top       Durable N-1 Deck jacket _ black   \n",
      "1494     top  Gingham check blouson jacket _ black   \n",
      "1495     top  Gingham check blouson jacket _ black   \n",
      "1496     top  Gingham check blouson jacket _ black   \n",
      "\n",
      "                           baseCode  \\\n",
      "0            Paulo drizzler jacket    \n",
      "1            Paulo drizzler jacket    \n",
      "2            Paulo drizzler jacket    \n",
      "3            Paulo drizzler jacket    \n",
      "4            Paulo drizzler jacket    \n",
      "...                             ...   \n",
      "1492       Durable N-1 Deck jacket    \n",
      "1493       Durable N-1 Deck jacket    \n",
      "1494  Gingham check blouson jacket    \n",
      "1495  Gingham check blouson jacket    \n",
      "1496  Gingham check blouson jacket    \n",
      "\n",
      "                                                baseUrl colorName  baseGender  \\\n",
      "0     https://frizm.co.kr/product/paulo-drizzler-jac...     beige           0   \n",
      "1     https://frizm.co.kr/product/paulo-drizzler-jac...     beige           0   \n",
      "2     https://frizm.co.kr/product/paulo-drizzler-jac...     beige           0   \n",
      "3     https://frizm.co.kr/product/paulo-drizzler-jac...     black           0   \n",
      "4     https://frizm.co.kr/product/paulo-drizzler-jac...     black           0   \n",
      "...                                                 ...       ...         ...   \n",
      "1492  https://frizm.co.kr/product/durable-n-1-deck-j...     black           0   \n",
      "1493  https://frizm.co.kr/product/durable-n-1-deck-j...     black           0   \n",
      "1494  https://frizm.co.kr/product/gingham-check-blou...     black           0   \n",
      "1495  https://frizm.co.kr/product/gingham-check-blou...     black           0   \n",
      "1496  https://frizm.co.kr/product/gingham-check-blou...     black           0   \n",
      "\n",
      "                    price    basePrice  \\\n",
      "0     KRW 150,100 5% SALE  KRW 158,000   \n",
      "1     KRW 150,100 5% SALE  KRW 158,000   \n",
      "2     KRW 150,100 5% SALE  KRW 158,000   \n",
      "3     KRW 150,100 5% SALE  KRW 158,000   \n",
      "4     KRW 150,100 5% SALE  KRW 158,000   \n",
      "...                   ...          ...   \n",
      "1492          KRW 119,000  KRW 119,000   \n",
      "1493          KRW 119,000  KRW 119,000   \n",
      "1494          KRW 128,000  KRW 128,000   \n",
      "1495          KRW 128,000  KRW 128,000   \n",
      "1496          KRW 128,000  KRW 128,000   \n",
      "\n",
      "                                            colorFabric  \\\n",
      "0     경쾌한 기장감의 블루종 자켓입니다. 고밀도로 이루어진 CN원단으로 제작되어 실루엣을...   \n",
      "1     경쾌한 기장감의 블루종 자켓입니다. 고밀도로 이루어진 CN원단으로 제작되어 실루엣을...   \n",
      "2     경쾌한 기장감의 블루종 자켓입니다. 고밀도로 이루어진 CN원단으로 제작되어 실루엣을...   \n",
      "3     경쾌한 기장감의 블루종 자켓입니다. 고밀도로 이루어진 CN원단으로 제작되어 실루엣을...   \n",
      "4     경쾌한 기장감의 블루종 자켓입니다. 고밀도로 이루어진 CN원단으로 제작되어 실루엣을...   \n",
      "...                                                 ...   \n",
      "1492  단단한 조직감의 브로큰 트윌 원단으로 제작한 간절기용 덱재킷 입니다. 여밈부 안쪽과...   \n",
      "1493  단단한 조직감의 브로큰 트윌 원단으로 제작한 간절기용 덱재킷 입니다. 여밈부 안쪽과...   \n",
      "1494  일본 YOSHIWA社의 깅엄체크 원단으로 제작된 블루종 재킷 입니다.패턴 특유의 경...   \n",
      "1495  일본 YOSHIWA社의 깅엄체크 원단으로 제작된 블루종 재킷 입니다.패턴 특유의 경...   \n",
      "1496  일본 YOSHIWA社의 깅엄체크 원단으로 제작된 블루종 재킷 입니다.패턴 특유의 경...   \n",
      "\n",
      "                                               imageUrl size  isAvailable  \n",
      "0     https://frizm.co.kr/web/product/big/202308/cd0...    M         True  \n",
      "1     https://frizm.co.kr/web/product/big/202308/cd0...    L         True  \n",
      "2     https://frizm.co.kr/web/product/big/202308/cd0...   XL         True  \n",
      "3     https://frizm.co.kr/web/product/big/202308/f6b...    M         True  \n",
      "4     https://frizm.co.kr/web/product/big/202308/f6b...    L         True  \n",
      "...                                                 ...  ...          ...  \n",
      "1492  https://frizm.co.kr/web/product/big/201908/c22...    L        False  \n",
      "1493  https://frizm.co.kr/web/product/big/201908/c22...   XL        False  \n",
      "1494  https://frizm.co.kr/web/product/big/201903/a5a...    M        False  \n",
      "1495  https://frizm.co.kr/web/product/big/201903/a5a...    L        False  \n",
      "1496  https://frizm.co.kr/web/product/big/201903/a5a...   XL        False  \n",
      "\n",
      "[1497 rows x 12 columns]\n"
     ]
    }
   ],
   "source": [
    "dict1 = crawl_pages(product_paths[:500])\n",
    "df1 = pd.DataFrame.from_dict(dict1)\n",
    "\n",
    "print(df1)"
   ]
  },
  {
   "cell_type": "code",
   "execution_count": 28,
   "metadata": {},
   "outputs": [
    {
     "name": "stderr",
     "output_type": "stream",
     "text": [
      "WARNING:root:Can not find chromedriver for currently installed chrome version.\n"
     ]
    },
    {
     "name": "stdout",
     "output_type": "stream",
     "text": [
      "     baseCat                               baseName  \\\n",
      "0        top           William hunting coat _ olive   \n",
      "1        top           William hunting coat _ olive   \n",
      "2        top           William hunting coat _ olive   \n",
      "3        top           William hunting coat _ black   \n",
      "4        top           William hunting coat _ black   \n",
      "...      ...                                    ...   \n",
      "1239     top   OG Heavyweight pullover hoody _ gray   \n",
      "1240     top   OG Heavyweight pullover hoody _ gray   \n",
      "1241     top  OG Heavyweight pullover hoody _ taupe   \n",
      "1242     top  OG Heavyweight pullover hoody _ taupe   \n",
      "1243     top  OG Heavyweight pullover hoody _ taupe   \n",
      "\n",
      "                            baseCode  \\\n",
      "0              William hunting coat    \n",
      "1              William hunting coat    \n",
      "2              William hunting coat    \n",
      "3              William hunting coat    \n",
      "4              William hunting coat    \n",
      "...                              ...   \n",
      "1239  OG Heavyweight pullover hoody    \n",
      "1240  OG Heavyweight pullover hoody    \n",
      "1241  OG Heavyweight pullover hoody    \n",
      "1242  OG Heavyweight pullover hoody    \n",
      "1243  OG Heavyweight pullover hoody    \n",
      "\n",
      "                                                baseUrl colorName  baseGender  \\\n",
      "0     https://frizm.co.kr/product/william-hunting-co...     olive           0   \n",
      "1     https://frizm.co.kr/product/william-hunting-co...     olive           0   \n",
      "2     https://frizm.co.kr/product/william-hunting-co...     olive           0   \n",
      "3     https://frizm.co.kr/product/william-hunting-co...     black           0   \n",
      "4     https://frizm.co.kr/product/william-hunting-co...     black           0   \n",
      "...                                                 ...       ...         ...   \n",
      "1239  https://frizm.co.kr/product/og-heavyweight-pul...      gray           0   \n",
      "1240  https://frizm.co.kr/product/og-heavyweight-pul...      gray           0   \n",
      "1241  https://frizm.co.kr/product/og-heavyweight-pul...     taupe           0   \n",
      "1242  https://frizm.co.kr/product/og-heavyweight-pul...     taupe           0   \n",
      "1243  https://frizm.co.kr/product/og-heavyweight-pul...     taupe           0   \n",
      "\n",
      "                    price    basePrice  \\\n",
      "0             KRW 148,000  KRW 148,000   \n",
      "1             KRW 148,000  KRW 148,000   \n",
      "2             KRW 148,000  KRW 148,000   \n",
      "3             KRW 148,000  KRW 148,000   \n",
      "4             KRW 148,000  KRW 148,000   \n",
      "...                   ...          ...   \n",
      "1239  KRW 71,100 10% SALE   KRW 79,000   \n",
      "1240  KRW 71,100 10% SALE   KRW 79,000   \n",
      "1241  KRW 71,100 10% SALE   KRW 79,000   \n",
      "1242  KRW 71,100 10% SALE   KRW 79,000   \n",
      "1243  KRW 71,100 10% SALE   KRW 79,000   \n",
      "\n",
      "                                            colorFabric  \\\n",
      "0     여유있는 오버사이즈 실루엣으로 제작한 헌팅 코트 입니다. 생활 방수 가능한 면/나일...   \n",
      "1     여유있는 오버사이즈 실루엣으로 제작한 헌팅 코트 입니다. 생활 방수 가능한 면/나일...   \n",
      "2     여유있는 오버사이즈 실루엣으로 제작한 헌팅 코트 입니다. 생활 방수 가능한 면/나일...   \n",
      "3     여유있는 오버사이즈 실루엣으로 제작한 헌팅 코트 입니다. 생활 방수 가능한 면/나일...   \n",
      "4     여유있는 오버사이즈 실루엣으로 제작한 헌팅 코트 입니다. 생활 방수 가능한 면/나일...   \n",
      "...                                                 ...   \n",
      "1239  Original Garments® 라인제품으로 YD당 850g의 무게감을 가지고 있...   \n",
      "1240  Original Garments® 라인제품으로 YD당 850g의 무게감을 가지고 있...   \n",
      "1241  Original Garments® 라인제품으로 YD당 850g의 무게감을 가지고 있...   \n",
      "1242  Original Garments® 라인제품으로 YD당 850g의 무게감을 가지고 있...   \n",
      "1243  Original Garments® 라인제품으로 YD당 850g의 무게감을 가지고 있...   \n",
      "\n",
      "                                               imageUrl size  isAvailable  \n",
      "0     https://frizm.co.kr/web/product/big/201903/520...    M        False  \n",
      "1     https://frizm.co.kr/web/product/big/201903/520...    L        False  \n",
      "2     https://frizm.co.kr/web/product/big/201903/520...   XL        False  \n",
      "3     https://frizm.co.kr/web/product/big/201903/e0a...    M        False  \n",
      "4     https://frizm.co.kr/web/product/big/201903/e0a...    L        False  \n",
      "...                                                 ...  ...          ...  \n",
      "1239  https://frizm.co.kr/web/product/big/202302/7e5...    L         True  \n",
      "1240  https://frizm.co.kr/web/product/big/202302/7e5...   XL         True  \n",
      "1241  https://frizm.co.kr/web/product/big/202302/359...    M         True  \n",
      "1242  https://frizm.co.kr/web/product/big/202302/359...    L         True  \n",
      "1243  https://frizm.co.kr/web/product/big/202302/359...   XL         True  \n",
      "\n",
      "[1244 rows x 12 columns]\n"
     ]
    }
   ],
   "source": [
    "dict2 = crawl_pages(product_paths[500:1000])\n",
    "df2 = pd.DataFrame.from_dict(dict2)\n",
    "\n",
    "print(df2)"
   ]
  },
  {
   "cell_type": "code",
   "execution_count": 29,
   "metadata": {},
   "outputs": [
    {
     "name": "stderr",
     "output_type": "stream",
     "text": [
      "WARNING:root:Can not find chromedriver for currently installed chrome version.\n"
     ]
    },
    {
     "name": "stdout",
     "output_type": "stream",
     "text": [
      "     baseCat                                           baseName  \\\n",
      "0        top               OG Heavyweight pullover hoody _ navy   \n",
      "1        top               OG Heavyweight pullover hoody _ navy   \n",
      "2        top               OG Heavyweight pullover hoody _ navy   \n",
      "3        top              OG Heavyweight pullover hoody _ black   \n",
      "4        top              OG Heavyweight pullover hoody _ black   \n",
      "...      ...                                                ...   \n",
      "1490     top  [PENFIELD X FRIZMWORKS] Hawaiian logo tee _ lemon   \n",
      "1491     top  [PENFIELD X FRIZMWORKS] Hawaiian logo tee _ lemon   \n",
      "1492     top  [PENFIELD X FRIZMWORKS] Hawaiian logo tee _ black   \n",
      "1493     top  [PENFIELD X FRIZMWORKS] Hawaiian logo tee _ black   \n",
      "1494     top  [PENFIELD X FRIZMWORKS] Hawaiian logo tee _ black   \n",
      "\n",
      "                            baseCode  \\\n",
      "0     OG Heavyweight pullover hoody    \n",
      "1     OG Heavyweight pullover hoody    \n",
      "2     OG Heavyweight pullover hoody    \n",
      "3     OG Heavyweight pullover hoody    \n",
      "4     OG Heavyweight pullover hoody    \n",
      "...                              ...   \n",
      "1490              Hawaiian logo tee    \n",
      "1491              Hawaiian logo tee    \n",
      "1492              Hawaiian logo tee    \n",
      "1493              Hawaiian logo tee    \n",
      "1494              Hawaiian logo tee    \n",
      "\n",
      "                                                baseUrl colorName  baseGender  \\\n",
      "0     https://frizm.co.kr/product/og-heavyweight-pul...      navy           0   \n",
      "1     https://frizm.co.kr/product/og-heavyweight-pul...      navy           0   \n",
      "2     https://frizm.co.kr/product/og-heavyweight-pul...      navy           0   \n",
      "3     https://frizm.co.kr/product/og-heavyweight-pul...     black           0   \n",
      "4     https://frizm.co.kr/product/og-heavyweight-pul...     black           0   \n",
      "...                                                 ...       ...         ...   \n",
      "1490  https://frizm.co.kr/product/penfield-x-frizmwo...     lemon           0   \n",
      "1491  https://frizm.co.kr/product/penfield-x-frizmwo...     lemon           0   \n",
      "1492  https://frizm.co.kr/product/penfield-x-frizmwo...     black           0   \n",
      "1493  https://frizm.co.kr/product/penfield-x-frizmwo...     black           0   \n",
      "1494  https://frizm.co.kr/product/penfield-x-frizmwo...     black           0   \n",
      "\n",
      "                    price   basePrice  \\\n",
      "0     KRW 71,100 10% SALE  KRW 79,000   \n",
      "1     KRW 71,100 10% SALE  KRW 79,000   \n",
      "2     KRW 71,100 10% SALE  KRW 79,000   \n",
      "3     KRW 71,100 10% SALE  KRW 79,000   \n",
      "4     KRW 71,100 10% SALE  KRW 79,000   \n",
      "...                   ...         ...   \n",
      "1490  KRW 19,500 50% SALE  KRW 39,000   \n",
      "1491  KRW 19,500 50% SALE  KRW 39,000   \n",
      "1492  KRW 19,500 50% SALE  KRW 39,000   \n",
      "1493  KRW 19,500 50% SALE  KRW 39,000   \n",
      "1494  KRW 19,500 50% SALE  KRW 39,000   \n",
      "\n",
      "                                            colorFabric  \\\n",
      "0     Original Garments® 라인제품으로 YD당 850g의 무게감을 가지고 있...   \n",
      "1     Original Garments® 라인제품으로 YD당 850g의 무게감을 가지고 있...   \n",
      "2     Original Garments® 라인제품으로 YD당 850g의 무게감을 가지고 있...   \n",
      "3     Original Garments® 라인제품으로 YD당 850g의 무게감을 가지고 있...   \n",
      "4     Original Garments® 라인제품으로 YD당 850g의 무게감을 가지고 있...   \n",
      "...                                                 ...   \n",
      "1490  적당한 두께감을 가진 16수 싱글원단으로 제작된 티셔츠입니다. 전면과 후면에 펜필드...   \n",
      "1491  적당한 두께감을 가진 16수 싱글원단으로 제작된 티셔츠입니다. 전면과 후면에 펜필드...   \n",
      "1492  적당한 두께감을 가진 16수 싱글원단으로 제작된 티셔츠입니다. 전면과 후면에 펜필드...   \n",
      "1493  적당한 두께감을 가진 16수 싱글원단으로 제작된 티셔츠입니다. 전면과 후면에 펜필드...   \n",
      "1494  적당한 두께감을 가진 16수 싱글원단으로 제작된 티셔츠입니다. 전면과 후면에 펜필드...   \n",
      "\n",
      "                                               imageUrl size  isAvailable  \n",
      "0     https://frizm.co.kr/web/product/big/202302/396...    M         True  \n",
      "1     https://frizm.co.kr/web/product/big/202302/396...    L         True  \n",
      "2     https://frizm.co.kr/web/product/big/202302/396...   XL         True  \n",
      "3     https://frizm.co.kr/web/product/big/202302/df6...    M         True  \n",
      "4     https://frizm.co.kr/web/product/big/202302/df6...    L         True  \n",
      "...                                                 ...  ...          ...  \n",
      "1490  https://frizm.co.kr/web/product/big/20200528/9...    L        False  \n",
      "1491  https://frizm.co.kr/web/product/big/20200528/9...   XL        False  \n",
      "1492  https://frizm.co.kr/web/product/big/20200528/8...    M        False  \n",
      "1493  https://frizm.co.kr/web/product/big/20200528/8...    L        False  \n",
      "1494  https://frizm.co.kr/web/product/big/20200528/8...   XL        False  \n",
      "\n",
      "[1495 rows x 12 columns]\n"
     ]
    }
   ],
   "source": [
    "dict3 = crawl_pages(product_paths[1000:1500])\n",
    "df3 = pd.DataFrame.from_dict(dict3)\n",
    "\n",
    "print(df3)"
   ]
  },
  {
   "cell_type": "code",
   "execution_count": 30,
   "metadata": {},
   "outputs": [
    {
     "name": "stderr",
     "output_type": "stream",
     "text": [
      "WARNING:root:Can not find chromedriver for currently installed chrome version.\n"
     ]
    },
    {
     "name": "stdout",
     "output_type": "stream",
     "text": [
      "     baseCat                                           baseName  \\\n",
      "0        top  [PENFIELD X FRIZMWORKS] P&F Paisley logo tee _...   \n",
      "1        top  [PENFIELD X FRIZMWORKS] P&F Paisley logo tee _...   \n",
      "2        top  [PENFIELD X FRIZMWORKS] P&F Paisley logo tee _...   \n",
      "3        top  [PENFIELD X FRIZMWORKS] P&F Paisley logo tee _...   \n",
      "4        top  [PENFIELD X FRIZMWORKS] P&F Paisley logo tee _...   \n",
      "...      ...                                                ...   \n",
      "1100     top                 FZ Pingpong club sweatshirt _ navy   \n",
      "1101     top                 FZ Pingpong club sweatshirt _ navy   \n",
      "1102     top                 FZ Pingpong club sweatshirt _ gray   \n",
      "1103     top                 FZ Pingpong club sweatshirt _ gray   \n",
      "1104     top                 FZ Pingpong club sweatshirt _ gray   \n",
      "\n",
      "                          baseCode  \\\n",
      "0            P&F Paisley logo tee    \n",
      "1            P&F Paisley logo tee    \n",
      "2            P&F Paisley logo tee    \n",
      "3            P&F Paisley logo tee    \n",
      "4            P&F Paisley logo tee    \n",
      "...                            ...   \n",
      "1100  FZ Pingpong club sweatshirt    \n",
      "1101  FZ Pingpong club sweatshirt    \n",
      "1102  FZ Pingpong club sweatshirt    \n",
      "1103  FZ Pingpong club sweatshirt    \n",
      "1104  FZ Pingpong club sweatshirt    \n",
      "\n",
      "                                                baseUrl   colorName  \\\n",
      "0     https://frizm.co.kr/product/penfield-x-frizmwo...   off white   \n",
      "1     https://frizm.co.kr/product/penfield-x-frizmwo...   off white   \n",
      "2     https://frizm.co.kr/product/penfield-x-frizmwo...   off white   \n",
      "3     https://frizm.co.kr/product/penfield-x-frizmwo...        blue   \n",
      "4     https://frizm.co.kr/product/penfield-x-frizmwo...        blue   \n",
      "...                                                 ...         ...   \n",
      "1100  https://frizm.co.kr/product/fz-pingpong-club-s...        navy   \n",
      "1101  https://frizm.co.kr/product/fz-pingpong-club-s...        navy   \n",
      "1102  https://frizm.co.kr/product/fz-pingpong-club-s...        gray   \n",
      "1103  https://frizm.co.kr/product/fz-pingpong-club-s...        gray   \n",
      "1104  https://frizm.co.kr/product/fz-pingpong-club-s...        gray   \n",
      "\n",
      "      baseGender                price   basePrice  \\\n",
      "0              0  KRW 19,500 50% SALE  KRW 39,000   \n",
      "1              0  KRW 19,500 50% SALE  KRW 39,000   \n",
      "2              0  KRW 19,500 50% SALE  KRW 39,000   \n",
      "3              0  KRW 19,500 50% SALE  KRW 39,000   \n",
      "4              0  KRW 19,500 50% SALE  KRW 39,000   \n",
      "...          ...                  ...         ...   \n",
      "1100           0           KRW 54,000  KRW 54,000   \n",
      "1101           0           KRW 54,000  KRW 54,000   \n",
      "1102           0           KRW 54,000  KRW 54,000   \n",
      "1103           0           KRW 54,000  KRW 54,000   \n",
      "1104           0           KRW 54,000  KRW 54,000   \n",
      "\n",
      "                                            colorFabric  \\\n",
      "0     적당한 두께감을 가진 16수 싱글원단으로 제작된 티셔츠입니다. 전면과 후면에 펜필드...   \n",
      "1     적당한 두께감을 가진 16수 싱글원단으로 제작된 티셔츠입니다. 전면과 후면에 펜필드...   \n",
      "2     적당한 두께감을 가진 16수 싱글원단으로 제작된 티셔츠입니다. 전면과 후면에 펜필드...   \n",
      "3     적당한 두께감을 가진 16수 싱글원단으로 제작된 티셔츠입니다. 전면과 후면에 펜필드...   \n",
      "4     적당한 두께감을 가진 16수 싱글원단으로 제작된 티셔츠입니다. 전면과 후면에 펜필드...   \n",
      "...                                                 ...   \n",
      "1100                                                      \n",
      "1101                                                      \n",
      "1102                                                      \n",
      "1103                                                      \n",
      "1104                                                      \n",
      "\n",
      "                                               imageUrl size  isAvailable  \n",
      "0     https://frizm.co.kr/web/product/big/20200528/d...    M        False  \n",
      "1     https://frizm.co.kr/web/product/big/20200528/d...    L        False  \n",
      "2     https://frizm.co.kr/web/product/big/20200528/d...   XL        False  \n",
      "3     https://frizm.co.kr/web/product/big/20200528/3...    M        False  \n",
      "4     https://frizm.co.kr/web/product/big/20200528/3...    L        False  \n",
      "...                                                 ...  ...          ...  \n",
      "1100  https://frizm.co.kr/web/product/big/201709/113...    L        False  \n",
      "1101  https://frizm.co.kr/web/product/big/201709/113...   XL        False  \n",
      "1102  https://frizm.co.kr/web/product/big/201709/113...    M        False  \n",
      "1103  https://frizm.co.kr/web/product/big/201709/113...    L        False  \n",
      "1104  https://frizm.co.kr/web/product/big/201709/113...   XL        False  \n",
      "\n",
      "[1105 rows x 12 columns]\n"
     ]
    }
   ],
   "source": [
    "dict4 = crawl_pages(product_paths[1500:2000])\n",
    "df4 = pd.DataFrame.from_dict(dict4)\n",
    "\n",
    "print(df4)"
   ]
  },
  {
   "cell_type": "code",
   "execution_count": 32,
   "metadata": {},
   "outputs": [
    {
     "name": "stderr",
     "output_type": "stream",
     "text": [
      "WARNING:root:Can not find chromedriver for currently installed chrome version.\n"
     ]
    },
    {
     "name": "stdout",
     "output_type": "stream",
     "text": [
      "     baseCat                           baseName                    baseCode  \\\n",
      "0        top           OG Cashmere knit _ ivory           OG Cashmere knit    \n",
      "1        top           OG Cashmere knit _ ivory           OG Cashmere knit    \n",
      "2        top           OG Cashmere knit _ ivory           OG Cashmere knit    \n",
      "3        top         OG Cashmere knit _ oatmeal           OG Cashmere knit    \n",
      "4        top         OG Cashmere knit _ oatmeal           OG Cashmere knit    \n",
      "...      ...                                ...                         ...   \n",
      "1045  bottom  Nylon ripstop sweat pants _ black  Nylon ripstop sweat pants    \n",
      "1046  bottom  Nylon ripstop sweat pants _ black  Nylon ripstop sweat pants    \n",
      "1047  bottom         Piping sweat pants _ ivory         Piping sweat pants    \n",
      "1048  bottom         Piping sweat pants _ ivory         Piping sweat pants    \n",
      "1049  bottom         Piping sweat pants _ ivory         Piping sweat pants    \n",
      "\n",
      "                                                baseUrl colorName  baseGender  \\\n",
      "0     https://frizm.co.kr/product/og-cashmere-knit-i...     ivory           0   \n",
      "1     https://frizm.co.kr/product/og-cashmere-knit-i...     ivory           0   \n",
      "2     https://frizm.co.kr/product/og-cashmere-knit-i...     ivory           0   \n",
      "3     https://frizm.co.kr/product/og-cashmere-knit-o...   oatmeal           0   \n",
      "4     https://frizm.co.kr/product/og-cashmere-knit-o...   oatmeal           0   \n",
      "...                                                 ...       ...         ...   \n",
      "1045  https://frizm.co.kr/product/nylon-ripstop-swea...     black           0   \n",
      "1046  https://frizm.co.kr/product/nylon-ripstop-swea...     black           0   \n",
      "1047  https://frizm.co.kr/product/piping-sweat-pants...     ivory           0   \n",
      "1048  https://frizm.co.kr/product/piping-sweat-pants...     ivory           0   \n",
      "1049  https://frizm.co.kr/product/piping-sweat-pants...     ivory           0   \n",
      "\n",
      "           price   basePrice  \\\n",
      "0     KRW 79,000  KRW 79,000   \n",
      "1     KRW 79,000  KRW 79,000   \n",
      "2     KRW 79,000  KRW 79,000   \n",
      "3     KRW 79,000  KRW 79,000   \n",
      "4     KRW 79,000  KRW 79,000   \n",
      "...          ...         ...   \n",
      "1045  KRW 69,000  KRW 69,000   \n",
      "1046  KRW 69,000  KRW 69,000   \n",
      "1047  KRW 59,000  KRW 59,000   \n",
      "1048  KRW 59,000  KRW 59,000   \n",
      "1049  KRW 59,000  KRW 59,000   \n",
      "\n",
      "                                            colorFabric  \\\n",
      "0     Original Garments ®라인 제품으로 고 품질의 캐시미어 원사로 제작된 ...   \n",
      "1     Original Garments ®라인 제품으로 고 품질의 캐시미어 원사로 제작된 ...   \n",
      "2     Original Garments ®라인 제품으로 고 품질의 캐시미어 원사로 제작된 ...   \n",
      "3     Original Garments ®라인 제품으로 고 품질의 캐시미어 원사로 제작된 ...   \n",
      "4     Original Garments ®라인 제품으로 고 품질의 캐시미어 원사로 제작된 ...   \n",
      "...                                                 ...   \n",
      "1045  yd당 900g 정도의 무게감을 가진 가진 헤비웨이트 원단으로 제작된 스웻팬츠 입니...   \n",
      "1046  yd당 900g 정도의 무게감을 가진 가진 헤비웨이트 원단으로 제작된 스웻팬츠 입니...   \n",
      "1047  yd당 900g 정도의 무게감을 가진 가진 헤비웨이트 원단으로 제작된 스웻팬츠 입니...   \n",
      "1048  yd당 900g 정도의 무게감을 가진 가진 헤비웨이트 원단으로 제작된 스웻팬츠 입니...   \n",
      "1049  yd당 900g 정도의 무게감을 가진 가진 헤비웨이트 원단으로 제작된 스웻팬츠 입니...   \n",
      "\n",
      "                                               imageUrl size  isAvailable  \n",
      "0     https://frizm.co.kr/web/product/big/202106/059...    M        False  \n",
      "1     https://frizm.co.kr/web/product/big/202106/059...    L        False  \n",
      "2     https://frizm.co.kr/web/product/big/202106/059...   XL        False  \n",
      "3     https://frizm.co.kr/web/product/big/202106/965...    M        False  \n",
      "4     https://frizm.co.kr/web/product/big/202106/965...    L        False  \n",
      "...                                                 ...  ...          ...  \n",
      "1045  https://frizm.co.kr/web/product/big/202103/8b7...    L        False  \n",
      "1046  https://frizm.co.kr/web/product/big/202103/8b7...   XL        False  \n",
      "1047  https://frizm.co.kr/web/product/big/202103/111...    M        False  \n",
      "1048  https://frizm.co.kr/web/product/big/202103/111...    L        False  \n",
      "1049  https://frizm.co.kr/web/product/big/202103/111...   XL        False  \n",
      "\n",
      "[1050 rows x 12 columns]\n"
     ]
    }
   ],
   "source": [
    "dict5 = crawl_pages(product_paths[2000:2500])\n",
    "df5 = pd.DataFrame.from_dict(dict5)\n",
    "\n",
    "print(df5)"
   ]
  },
  {
   "cell_type": "code",
   "execution_count": 33,
   "metadata": {},
   "outputs": [
    {
     "name": "stderr",
     "output_type": "stream",
     "text": [
      "WARNING:root:Can not find chromedriver for currently installed chrome version.\n"
     ]
    },
    {
     "name": "stdout",
     "output_type": "stream",
     "text": [
      "    baseCat                           baseName                 baseCode  \\\n",
      "0    bottom     Piping sweat pants _ ash khaki      Piping sweat pants    \n",
      "1    bottom     Piping sweat pants _ ash khaki      Piping sweat pants    \n",
      "2    bottom     Piping sweat pants _ ash khaki      Piping sweat pants    \n",
      "3    bottom  Piping sweat pants _ melange gray      Piping sweat pants    \n",
      "4    bottom  Piping sweat pants _ melange gray      Piping sweat pants    \n",
      "..      ...                                ...                      ...   \n",
      "359  bottom     OG Wool regular slacks _ black  OG Wool regular slacks    \n",
      "360  bottom     OG Wool regular slacks _ black  OG Wool regular slacks    \n",
      "361  bottom             OG Wide slacks _ beige          OG Wide slacks    \n",
      "362  bottom             OG Wide slacks _ beige          OG Wide slacks    \n",
      "363  bottom             OG Wide slacks _ beige          OG Wide slacks    \n",
      "\n",
      "                                               baseUrl      colorName  \\\n",
      "0    https://frizm.co.kr/product/piping-sweat-pants...      ash khaki   \n",
      "1    https://frizm.co.kr/product/piping-sweat-pants...      ash khaki   \n",
      "2    https://frizm.co.kr/product/piping-sweat-pants...      ash khaki   \n",
      "3    https://frizm.co.kr/product/piping-sweat-pants...   melange gray   \n",
      "4    https://frizm.co.kr/product/piping-sweat-pants...   melange gray   \n",
      "..                                                 ...            ...   \n",
      "359  https://frizm.co.kr/product/og-wool-regular-sl...          black   \n",
      "360  https://frizm.co.kr/product/og-wool-regular-sl...          black   \n",
      "361  https://frizm.co.kr/product/og-wide-slacks-bei...          beige   \n",
      "362  https://frizm.co.kr/product/og-wide-slacks-bei...          beige   \n",
      "363  https://frizm.co.kr/product/og-wide-slacks-bei...          beige   \n",
      "\n",
      "     baseGender       price   basePrice  \\\n",
      "0             0  KRW 59,000  KRW 59,000   \n",
      "1             0  KRW 59,000  KRW 59,000   \n",
      "2             0  KRW 59,000  KRW 59,000   \n",
      "3             0  KRW 59,000  KRW 59,000   \n",
      "4             0  KRW 59,000  KRW 59,000   \n",
      "..          ...         ...         ...   \n",
      "359           0  KRW 68,000  KRW 68,000   \n",
      "360           0  KRW 68,000  KRW 68,000   \n",
      "361           0  KRW 62,000  KRW 62,000   \n",
      "362           0  KRW 62,000  KRW 62,000   \n",
      "363           0  KRW 62,000  KRW 62,000   \n",
      "\n",
      "                                           colorFabric  \\\n",
      "0    yd당 900g 정도의 무게감을 가진 가진 헤비웨이트 원단으로 제작된 스웻팬츠 입니...   \n",
      "1    yd당 900g 정도의 무게감을 가진 가진 헤비웨이트 원단으로 제작된 스웻팬츠 입니...   \n",
      "2    yd당 900g 정도의 무게감을 가진 가진 헤비웨이트 원단으로 제작된 스웻팬츠 입니...   \n",
      "3    yd당 900g 정도의 무게감을 가진 가진 헤비웨이트 원단으로 제작된 스웻팬츠 입니...   \n",
      "4    yd당 900g 정도의 무게감을 가진 가진 헤비웨이트 원단으로 제작된 스웻팬츠 입니...   \n",
      "..                                                 ...   \n",
      "359  Original Garments® 라인제품으로 F/W시즌 활용하기 좋은 두께감을 가...   \n",
      "360  Original Garments® 라인제품으로 F/W시즌 활용하기 좋은 두께감을 가...   \n",
      "361  Original Garments® 라인제품으로 스판덱스가 함유된 고품질의 T/R원단...   \n",
      "362  Original Garments® 라인제품으로 스판덱스가 함유된 고품질의 T/R원단...   \n",
      "363  Original Garments® 라인제품으로 스판덱스가 함유된 고품질의 T/R원단...   \n",
      "\n",
      "                                              imageUrl size  isAvailable  \n",
      "0    https://frizm.co.kr/web/product/big/202103/26f...    M        False  \n",
      "1    https://frizm.co.kr/web/product/big/202103/26f...    L        False  \n",
      "2    https://frizm.co.kr/web/product/big/202103/26f...   XL        False  \n",
      "3    https://frizm.co.kr/web/product/big/202103/28d...    M        False  \n",
      "4    https://frizm.co.kr/web/product/big/202103/28d...    L        False  \n",
      "..                                                 ...  ...          ...  \n",
      "359  https://frizm.co.kr/web/product/big/202106/37b...    L        False  \n",
      "360  https://frizm.co.kr/web/product/big/202106/37b...   XL        False  \n",
      "361  https://frizm.co.kr/web/product/big/202106/c6a...    M        False  \n",
      "362  https://frizm.co.kr/web/product/big/202106/c6a...    L        False  \n",
      "363  https://frizm.co.kr/web/product/big/202106/c6a...   XL        False  \n",
      "\n",
      "[364 rows x 12 columns]\n"
     ]
    }
   ],
   "source": [
    "dict6 = crawl_pages(product_paths[2500:])\n",
    "df6 = pd.DataFrame.from_dict(dict6)\n",
    "\n",
    "print(df6)"
   ]
  },
  {
   "cell_type": "code",
   "execution_count": 34,
   "metadata": {
    "id": "rBPZr4YtAV_M"
   },
   "outputs": [],
   "source": [
    "df_final = pd.concat([df1, df2, df3, df4, df5, df6])"
   ]
  },
  {
   "cell_type": "code",
   "execution_count": 38,
   "metadata": {
    "id": "2343h8-MAcZa"
   },
   "outputs": [],
   "source": [
    "df_final.to_csv('out.csv',index=False)"
   ]
  },
  {
   "cell_type": "code",
   "execution_count": null,
   "metadata": {
    "id": "JGsK0CqHAdI0"
   },
   "outputs": [],
   "source": []
  },
  {
   "cell_type": "code",
   "execution_count": null,
   "metadata": {
    "id": "X1asnJkRAgo3"
   },
   "outputs": [],
   "source": []
  },
  {
   "cell_type": "code",
   "execution_count": null,
   "metadata": {
    "id": "XGsQshzHAiPa"
   },
   "outputs": [],
   "source": []
  },
  {
   "cell_type": "code",
   "execution_count": null,
   "metadata": {
    "id": "KWF3nTXXAlwo"
   },
   "outputs": [],
   "source": []
  }
 ],
 "metadata": {
  "colab": {
   "provenance": []
  },
  "kernelspec": {
   "display_name": "Python 3 (ipykernel)",
   "language": "python",
   "name": "python3"
  },
  "language_info": {
   "codemirror_mode": {
    "name": "ipython",
    "version": 3
   },
   "file_extension": ".py",
   "mimetype": "text/x-python",
   "name": "python",
   "nbconvert_exporter": "python",
   "pygments_lexer": "ipython3",
   "version": "3.8.8"
  }
 },
 "nbformat": 4,
 "nbformat_minor": 1
}
