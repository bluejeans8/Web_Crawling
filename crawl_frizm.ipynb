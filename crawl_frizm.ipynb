{
 "cells": [
  {
   "cell_type": "code",
   "execution_count": 2,
   "metadata": {
    "colab": {
     "base_uri": "https://localhost:8080/"
    },
    "id": "jn65f86N_Z4U",
    "outputId": "9c216cf7-5aec-4990-d5ab-f5460cc3ccc0"
   },
   "outputs": [
    {
     "name": "stdout",
     "output_type": "stream",
     "text": [
      "Requirement already satisfied: chromedriver-autoinstaller in c:\\users\\jjssk\\anaconda3\\lib\\site-packages (0.6.2)\n",
      "Note: you may need to restart the kernel to use updated packages.\n"
     ]
    }
   ],
   "source": [
    "pip install chromedriver-autoinstaller"
   ]
  },
  {
   "cell_type": "code",
   "execution_count": 9,
   "metadata": {
    "colab": {
     "base_uri": "https://localhost:8080/"
    },
    "id": "Nj08Ryw__q9Q",
    "outputId": "1a807eb8-7d33-4bf9-a02a-c03e5f275287"
   },
   "outputs": [
    {
     "name": "stdout",
     "output_type": "stream",
     "text": [
      "Requirement already satisfied: selenium in c:\\users\\jjssk\\anaconda3\\lib\\site-packages (4.11.2)\n",
      "Requirement already satisfied: trio-websocket~=0.9 in c:\\users\\jjssk\\anaconda3\\lib\\site-packages (from selenium) (0.10.3)\n",
      "Requirement already satisfied: certifi>=2021.10.8 in c:\\users\\jjssk\\anaconda3\\lib\\site-packages (from selenium) (2023.7.22)\n",
      "Requirement already satisfied: urllib3[socks]<3,>=1.26 in c:\\users\\jjssk\\anaconda3\\lib\\site-packages (from selenium) (1.26.4)\n",
      "Requirement already satisfied: trio~=0.17 in c:\\users\\jjssk\\anaconda3\\lib\\site-packages (from selenium) (0.22.2)\n",
      "Requirement already satisfied: sortedcontainers in c:\\users\\jjssk\\anaconda3\\lib\\site-packages (from trio~=0.17->selenium) (2.3.0)\n",
      "Requirement already satisfied: outcome in c:\\users\\jjssk\\anaconda3\\lib\\site-packages (from trio~=0.17->selenium) (1.2.0)\n",
      "Requirement already satisfied: sniffio in c:\\users\\jjssk\\anaconda3\\lib\\site-packages (from trio~=0.17->selenium) (1.2.0)\n",
      "Requirement already satisfied: attrs>=20.1.0 in c:\\users\\jjssk\\anaconda3\\lib\\site-packages (from trio~=0.17->selenium) (20.3.0)\n",
      "Requirement already satisfied: idna in c:\\users\\jjssk\\anaconda3\\lib\\site-packages (from trio~=0.17->selenium) (2.10)\n",
      "Requirement already satisfied: exceptiongroup>=1.0.0rc9 in c:\\users\\jjssk\\anaconda3\\lib\\site-packages (from trio~=0.17->selenium) (1.1.3)\n",
      "Requirement already satisfied: cffi>=1.14 in c:\\users\\jjssk\\anaconda3\\lib\\site-packages (from trio~=0.17->selenium) (1.14.5)\n",
      "Requirement already satisfied: pycparser in c:\\users\\jjssk\\anaconda3\\lib\\site-packages (from cffi>=1.14->trio~=0.17->selenium) (2.20)\n",
      "Requirement already satisfied: wsproto>=0.14 in c:\\users\\jjssk\\anaconda3\\lib\\site-packages (from trio-websocket~=0.9->selenium) (1.2.0)\n",
      "Requirement already satisfied: PySocks!=1.5.7,<2.0,>=1.5.6 in c:\\users\\jjssk\\anaconda3\\lib\\site-packages (from urllib3[socks]<3,>=1.26->selenium) (1.7.1)\n",
      "Requirement already satisfied: h11<1,>=0.9.0 in c:\\users\\jjssk\\anaconda3\\lib\\site-packages (from wsproto>=0.14->trio-websocket~=0.9->selenium) (0.14.0)\n",
      "Note: you may need to restart the kernel to use updated packages.\n"
     ]
    }
   ],
   "source": [
    "pip install selenium"
   ]
  },
  {
   "cell_type": "code",
   "execution_count": 3,
   "metadata": {
    "id": "shZmszAA_txc"
   },
   "outputs": [],
   "source": [
    "import chromedriver_autoinstaller\n",
    "from selenium import webdriver\n",
    "import time\n",
    "\n",
    "class Driver:\n",
    "    @staticmethod\n",
    "    def driver_init():\n",
    "        chromedriver_autoinstaller.install()\n",
    "        options = webdriver.ChromeOptions()\n",
    "#         options.add_argument('headless') # jupyter notebook 환경에서 주석처리\n",
    "        options.add_argument('lang=ko_KR')\n",
    "        options.add_argument(\"user-agent=Mozilla/5.0 (Windows NT 10.0; Win64; x64) AppleWebKit/537.36 (KHTML, like Gecko) Chrome/104.0.0.0 Safari/537.36\")\n",
    "        options.add_argument('--no-sandbox')\n",
    "        options.add_argument('--disable-notifications')\n",
    "        options.add_argument('--disable-popup-blocking')\n",
    "        options.add_argument('--disable-dev-shm-usage')\n",
    "        options.add_argument('--disable-browser-side-navigation')\n",
    "        options.add_argument('disable-gpu')\n",
    "\n",
    "        driver = webdriver.Chrome(options=options)\n",
    "        driver.set_window_size(1600, 1100)\n",
    "\n",
    "        return driver"
   ]
  },
  {
   "cell_type": "code",
   "execution_count": 20,
   "metadata": {
    "id": "zGJEh9o1_5M-"
   },
   "outputs": [
    {
     "name": "stderr",
     "output_type": "stream",
     "text": [
      "WARNING:root:Can not find chromedriver for currently installed chrome version.\n"
     ]
    }
   ],
   "source": [
    "driver = Driver.driver_init()"
   ]
  },
  {
   "cell_type": "code",
   "execution_count": 25,
   "metadata": {
    "colab": {
     "base_uri": "https://localhost:8080/",
     "height": 434
    },
    "id": "gJSsRK4a_8BB",
    "outputId": "df5bcbb4-414c-48f9-da1a-03e17ae6959a"
   },
   "outputs": [
    {
     "name": "stdout",
     "output_type": "stream",
     "text": [
      "120\n",
      "240\n",
      "360\n",
      "483\n"
     ]
    },
    {
     "ename": "KeyboardInterrupt",
     "evalue": "",
     "output_type": "error",
     "traceback": [
      "\u001b[1;31m---------------------------------------------------------------------------\u001b[0m",
      "\u001b[1;31mKeyboardInterrupt\u001b[0m                         Traceback (most recent call last)",
      "\u001b[1;32m<ipython-input-25-b338126a4d4f>\u001b[0m in \u001b[0;36m<module>\u001b[1;34m\u001b[0m\n\u001b[0;32m     37\u001b[0m \u001b[1;33m\u001b[0m\u001b[0m\n\u001b[0;32m     38\u001b[0m             \u001b[0mdriver\u001b[0m\u001b[1;33m.\u001b[0m\u001b[0mget\u001b[0m\u001b[1;33m(\u001b[0m\u001b[0mproduct_path\u001b[0m\u001b[1;33m)\u001b[0m\u001b[1;33m\u001b[0m\u001b[1;33m\u001b[0m\u001b[0m\n\u001b[1;32m---> 39\u001b[1;33m             \u001b[0mtime\u001b[0m\u001b[1;33m.\u001b[0m\u001b[0msleep\u001b[0m\u001b[1;33m(\u001b[0m\u001b[1;36m2\u001b[0m\u001b[1;33m)\u001b[0m\u001b[1;33m\u001b[0m\u001b[1;33m\u001b[0m\u001b[0m\n\u001b[0m\u001b[0;32m     40\u001b[0m \u001b[1;33m\u001b[0m\u001b[0m\n\u001b[0;32m     41\u001b[0m             \u001b[0mbaseURL\u001b[0m \u001b[1;33m=\u001b[0m \u001b[0mproduct_path\u001b[0m\u001b[1;33m\u001b[0m\u001b[1;33m\u001b[0m\u001b[0m\n",
      "\u001b[1;31mKeyboardInterrupt\u001b[0m: "
     ]
    }
   ],
   "source": [
    "urls = [\n",
    "        ('https://frizm.co.kr/product/list.html?cate_no=24',\n",
    "         'top', 17), #아우터\n",
    "        ('https://frizm.co.kr/product/list.html?cate_no=52',\n",
    "         'top', 37), #상의\n",
    "        ('https://frizm.co.kr/product/list.html?cate_no=26',\n",
    "         'bottom', 14), #하의\n",
    "         ]\n",
    "\n",
    "base_dict= {\"baseCat\":[], \"baseName\": [], \"baseCode\": [], \"baseUrl\": [], \"colorName\": [],\n",
    "            \"baseGender\": [], \"price\": [], \"basePrice\": [], \"colorFabric\": [], \"imageUrl\": [],\n",
    "            \"size\": [], \"isAvailable\": []\n",
    "            }\n",
    "\n",
    "for (url,cat, pages_cnt) in urls:\n",
    "    for page_num in range(pages_cnt):\n",
    "        try:\n",
    "            driver.get(url + \"&page=\" + str(page_num))\n",
    "        except:\n",
    "            continue\n",
    "\n",
    "        product_paths = []\n",
    "\n",
    "        products = driver.find_elements('xpath', '//ul[@class=\"prdList grid4\"]/li')\n",
    "        products_cnt = len(products)\n",
    "\n",
    "        ## 각 product path를 product_paths 리스트에 저장\n",
    "        for i in range(products_cnt):\n",
    "            product = driver.find_elements('xpath', '//ul[@class=\"prdList grid4\"]/li')[i]\n",
    "            product_path = product.find_element('xpath', './div[@class=\"thumbnail\"]/a').get_attribute('href')\n",
    "            product_paths.append(product_path)\n",
    "\n",
    "\n",
    "\n",
    "        for i in range(products_cnt):\n",
    "            product_path = product_paths[i]\n",
    "\n",
    "            driver.get(product_path)\n",
    "            time.sleep(2)\n",
    "\n",
    "            baseURL = product_path\n",
    "            base_gender = 0\n",
    "            text_info = driver.find_element('xpath', '//div[@class=\"infoArea\"]')\n",
    "            imageURL = driver.find_element('xpath','//img[@class=\"BigImage \"]').get_attribute('src')\n",
    "\n",
    "            base_name = text_info.find_element('xpath', './div[@class=\"headingArea\"]/h2').text\n",
    "            base_code = base_name.split(\"_\")[0]\n",
    "            color_name = base_name.split(\"_\")[1]\n",
    "            base_price = text_info.find_element(\"xpath\",'.//strong[@id=\"span_product_price_text\"]').text\n",
    "            \n",
    "            try:\n",
    "                price = text_info.find_element(\"xpath\",'.//span[@id=\"span_product_price_sale\"]').text\n",
    "                color_fabric = text_info.find_element(\"xpath\",'./div[2]/table/tbody/tr[5]/td/span').text\n",
    "            except:\n",
    "                price = base_price\n",
    "                color_fabric = text_info.find_element(\"xpath\",'./div[2]/table/tbody/tr[4]/td/span').text\n",
    "\n",
    "            size_elements = text_info.find_elements(\"xpath\",'.//optgroup[@label=\"사이즈\"]/option')\n",
    "            size = \"M\"\n",
    "            is_available = True\n",
    "\n",
    "            for element in size_elements:\n",
    "                size = element.text.replace(\" [품절]\",\"\")\n",
    "                if \"[품절]\" in element.text:\n",
    "                    is_available = False\n",
    "                else:\n",
    "                    is_available = True\n",
    "\n",
    "                base_dict[\"baseCat\"].append(cat)\n",
    "                base_dict[\"baseName\"].append(base_name)\n",
    "                base_dict[\"baseCode\"].append(base_code)\n",
    "                base_dict[\"baseUrl\"].append(baseURL)\n",
    "                base_dict[\"colorName\"].append(color_name)\n",
    "                base_dict[\"baseGender\"].append(0)\n",
    "                base_dict[\"price\"].append(price)\n",
    "                base_dict[\"basePrice\"].append(base_price)\n",
    "                base_dict[\"colorFabric\"].append(color_fabric)\n",
    "                base_dict[\"imageUrl\"].append(imageURL)\n",
    "                base_dict[\"size\"].append(size)\n",
    "                base_dict[\"isAvailable\"].append(is_available)\n",
    "        print(len(base_dict[\"baseCat\"]))\n"
   ]
  },
  {
   "cell_type": "code",
   "execution_count": null,
   "metadata": {
    "id": "rBPZr4YtAV_M"
   },
   "outputs": [],
   "source": []
  },
  {
   "cell_type": "code",
   "execution_count": null,
   "metadata": {
    "id": "2343h8-MAcZa"
   },
   "outputs": [],
   "source": []
  },
  {
   "cell_type": "code",
   "execution_count": null,
   "metadata": {
    "id": "JGsK0CqHAdI0"
   },
   "outputs": [],
   "source": []
  },
  {
   "cell_type": "code",
   "execution_count": null,
   "metadata": {
    "id": "X1asnJkRAgo3"
   },
   "outputs": [],
   "source": []
  },
  {
   "cell_type": "code",
   "execution_count": null,
   "metadata": {
    "id": "XGsQshzHAiPa"
   },
   "outputs": [],
   "source": []
  },
  {
   "cell_type": "code",
   "execution_count": null,
   "metadata": {
    "id": "KWF3nTXXAlwo"
   },
   "outputs": [],
   "source": []
  }
 ],
 "metadata": {
  "colab": {
   "provenance": []
  },
  "kernelspec": {
   "display_name": "Python 3",
   "language": "python",
   "name": "python3"
  },
  "language_info": {
   "codemirror_mode": {
    "name": "ipython",
    "version": 3
   },
   "file_extension": ".py",
   "mimetype": "text/x-python",
   "name": "python",
   "nbconvert_exporter": "python",
   "pygments_lexer": "ipython3",
   "version": "3.8.8"
  }
 },
 "nbformat": 4,
 "nbformat_minor": 1
}
