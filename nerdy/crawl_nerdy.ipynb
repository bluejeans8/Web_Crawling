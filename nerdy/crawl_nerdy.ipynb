{
 "cells": [
  {
   "cell_type": "code",
   "execution_count": 1,
   "id": "b8eaea1f",
   "metadata": {},
   "outputs": [
    {
     "name": "stdout",
     "output_type": "stream",
     "text": [
      "\n",
      "C:\\Users\\User\\Web_Crawling\\nerdy>doskey defects4j=perl C:\\Users\\User\\defects4j\\framework\\bin\\defects4j $* \n",
      "Requirement already satisfied: chromedriver-autoinstaller in c:\\users\\user\\anaconda3\\lib\\site-packages (0.6.2)\n",
      "Note: you may need to restart the kernel to use updated packages.\n"
     ]
    },
    {
     "name": "stderr",
     "output_type": "stream",
     "text": [
      "WARNING: There was an error checking the latest version of pip.\n"
     ]
    }
   ],
   "source": [
    "pip install chromedriver-autoinstaller"
   ]
  },
  {
   "cell_type": "code",
   "execution_count": 2,
   "id": "8f8a42a5",
   "metadata": {},
   "outputs": [
    {
     "name": "stdout",
     "output_type": "stream",
     "text": [
      "\n",
      "C:\\Users\\User\\Web_Crawling\\nerdy>doskey defects4j=perl C:\\Users\\User\\defects4j\\framework\\bin\\defects4j $* \n",
      "Requirement already satisfied: selenium in c:\\users\\user\\anaconda3\\lib\\site-packages (4.11.2)\n",
      "Requirement already satisfied: trio~=0.17 in c:\\users\\user\\anaconda3\\lib\\site-packages (from selenium) (0.22.2)\n",
      "Requirement already satisfied: trio-websocket~=0.9 in c:\\users\\user\\anaconda3\\lib\\site-packages (from selenium) (0.10.3)\n",
      "Requirement already satisfied: urllib3[socks]<3,>=1.26 in c:\\users\\user\\anaconda3\\lib\\site-packages (from selenium) (1.26.6)\n",
      "Requirement already satisfied: certifi>=2021.10.8 in c:\\users\\user\\anaconda3\\lib\\site-packages (from selenium) (2023.7.22)\n",
      "Requirement already satisfied: exceptiongroup>=1.0.0rc9 in c:\\users\\user\\anaconda3\\lib\\site-packages (from trio~=0.17->selenium) (1.1.3)\n",
      "Requirement already satisfied: outcome in c:\\users\\user\\anaconda3\\lib\\site-packages (from trio~=0.17->selenium) (1.2.0)\n",
      "Requirement already satisfied: cffi>=1.14 in c:\\users\\user\\anaconda3\\lib\\site-packages (from trio~=0.17->selenium) (1.14.6)\n",
      "Requirement already satisfied: sniffio in c:\\users\\user\\anaconda3\\lib\\site-packages (from trio~=0.17->selenium) (1.2.0)\n",
      "Requirement already satisfied: sortedcontainers in c:\\users\\user\\anaconda3\\lib\\site-packages (from trio~=0.17->selenium) (2.4.0)\n",
      "Requirement already satisfied: idna in c:\\users\\user\\anaconda3\\lib\\site-packages (from trio~=0.17->selenium) (3.2)\n",
      "Requirement already satisfied: attrs>=20.1.0 in c:\\users\\user\\anaconda3\\lib\\site-packages (from trio~=0.17->selenium) (21.2.0)\n",
      "Requirement already satisfied: wsproto>=0.14 in c:\\users\\user\\anaconda3\\lib\\site-packages (from trio-websocket~=0.9->selenium) (1.2.0)\n",
      "Requirement already satisfied: PySocks!=1.5.7,<2.0,>=1.5.6 in c:\\users\\user\\anaconda3\\lib\\site-packages (from urllib3[socks]<3,>=1.26->selenium) (1.7.1)\n",
      "Requirement already satisfied: pycparser in c:\\users\\user\\anaconda3\\lib\\site-packages (from cffi>=1.14->trio~=0.17->selenium) (2.20)\n",
      "Requirement already satisfied: h11<1,>=0.9.0 in c:\\users\\user\\anaconda3\\lib\\site-packages (from wsproto>=0.14->trio-websocket~=0.9->selenium) (0.14.0)\n",
      "Note: you may need to restart the kernel to use updated packages.\n"
     ]
    },
    {
     "name": "stderr",
     "output_type": "stream",
     "text": [
      "WARNING: There was an error checking the latest version of pip.\n"
     ]
    }
   ],
   "source": [
    "pip install selenium"
   ]
  },
  {
   "cell_type": "code",
   "execution_count": 3,
   "id": "3884d041",
   "metadata": {},
   "outputs": [],
   "source": [
    "import chromedriver_autoinstaller\n",
    "from selenium import webdriver\n",
    "import time\n",
    "\n",
    "class Driver:\n",
    "    @staticmethod\n",
    "    def driver_init():\n",
    "        chromedriver_autoinstaller.install()\n",
    "        options = webdriver.ChromeOptions()\n",
    "#         options.add_argument('headless') # jupyter notebook 환경에서 주석처리\n",
    "        options.add_argument('lang=ko_KR')\n",
    "        options.add_argument(\"user-agent=Mozilla/5.0 (Windows NT 10.0; Win64; x64) AppleWebKit/537.36 (KHTML, like Gecko) Chrome/104.0.0.0 Safari/537.36\")\n",
    "        options.add_argument('--no-sandbox')\n",
    "        options.add_argument('--disable-notifications')\n",
    "        options.add_argument('--disable-popup-blocking')\n",
    "        options.add_argument('--disable-dev-shm-usage')\n",
    "        options.add_argument('--disable-browser-side-navigation')\n",
    "        options.add_argument('disable-gpu')\n",
    "\n",
    "        driver = webdriver.Chrome(options=options)\n",
    "        driver.set_window_size(1600, 1100)\n",
    "\n",
    "        return driver"
   ]
  },
  {
   "cell_type": "code",
   "execution_count": 4,
   "id": "3a8524f6",
   "metadata": {},
   "outputs": [
    {
     "name": "stderr",
     "output_type": "stream",
     "text": [
      "WARNING:root:Can not find chromedriver for currently installed chrome version.\n"
     ]
    }
   ],
   "source": [
    "driver = Driver.driver_init()"
   ]
  },
  {
   "cell_type": "code",
   "execution_count": 5,
   "id": "6773322c",
   "metadata": {},
   "outputs": [],
   "source": [
    "def find_product_paths(urls):\n",
    "    product_paths = []\n",
    "    \n",
    "    ## 상의/자켓/하의 분류 루프\n",
    "    for (url, pages_cnt) in urls:\n",
    "        ## 각 옷 분류의 페이지 갯수 루프\n",
    "        for page_num in range(pages_cnt):\n",
    "            try:\n",
    "                driver.get(url + \"&page=\" + str(page_num+1))\n",
    "            except:\n",
    "                continue\n",
    "\n",
    "            products = driver.find_elements('xpath', '//ul[@class=\"prdNeo prd_set\"]/li')\n",
    "            products_cnt = len(products)\n",
    "\n",
    "            ## 각 product의 path를 product_paths 리스트에 저장\n",
    "            for i in range(products_cnt):\n",
    "                product = driver.find_elements('xpath', '//ul[@class=\"prdNeo prd_set\"]/li')[i]\n",
    "                product_path = product.find_element('xpath', './div/div[@class=\"thumbnail on\"]/a').get_attribute('href')\n",
    "                product_paths.append(product_path)\n",
    "                \n",
    "    return product_paths"
   ]
  },
  {
   "cell_type": "code",
   "execution_count": null,
   "id": "7cad9cbc",
   "metadata": {},
   "outputs": [],
   "source": [
    "def crawl_pages(product_paths):\n",
    "    \n",
    "    base_dict= {\"baseCat\":[], \"baseName\": [], \"baseCode\": [], \"baseUrl\": [], \"colorName\": [],\n",
    "            \"baseGender\": [], \"price\": [], \"basePrice\": [], \"colorFabric\": [], \"imageUrl\": [],\n",
    "            \"size\": [], \"isAvailable\": []\n",
    "            }\n",
    "    \n",
    "    ## 드라이버 초기화\n",
    "    driver = Driver.driver_init()\n",
    "    ## 각 product에 대한 정보 추출\n",
    "    for product_path in product_paths:\n",
    "        driver.get(product_path)\n",
    "\n",
    "        cat = 'top'\n",
    "        if \"category/24\" in product_path or \"category/52\" in product_path:\n",
    "            cat = 'top'\n",
    "        elif \"category/26\" in product_path:\n",
    "            cat = 'bottom'\n",
    "\n",
    "        baseURL = product_path\n",
    "        base_gender = 0\n",
    "        text_info = driver.find_element('xpath', '//div[@class=\"infoArea\"]')\n",
    "        imageURL = driver.find_element('xpath','//img[@class=\"BigImage \"]').get_attribute('src')\n",
    "\n",
    "        base_name = text_info.find_element('xpath', './div[@class=\"headingArea\"]/h2').text\n",
    "        base_code = \"\"\n",
    "        color_name = \"\"\n",
    "        ## color가 명시되지 않은 옷은 제외(패키지 상품)\n",
    "        if \"_\" in base_name:\n",
    "            base_code = base_name.split(\"_\")[0]\n",
    "            ## base_code 앞에 협업 브랜드 텍스트 제거\n",
    "            if \"] \" in base_code:\n",
    "                base_code = base_code.split(\"] \")[1]\n",
    "\n",
    "            ## color_name 뒤에 협업 브랜드 텍스트 제거\n",
    "            color_name = base_name.split(\"_\")[1]\n",
    "            if \"[\" in color_name:\n",
    "                color_name = color_name.split(\"[\")[0]\n",
    "        else:\n",
    "            continue\n",
    "\n",
    "        base_price = \"\"\n",
    "        price = \"\"\n",
    "        color_fabric = \"\"\n",
    "        trs = text_info.find_elements(\"xpath\",'./div[2]/table/tbody/tr') #body의 table 항목 갯수                       \n",
    "        if len(trs) == 5:\n",
    "            base_price = text_info.find_element(\"xpath\",'.//strong[@id=\"span_product_price_text\"]').text\n",
    "            price = text_info.find_element(\"xpath\",'.//span[@id=\"span_product_price_sale\"]').text\n",
    "            color_fabric = text_info.find_element(\"xpath\",'./div[2]/table/tbody/tr[5]/td/span').text\n",
    "        elif len(trs) == 4:\n",
    "            base_price = text_info.find_element(\"xpath\",'.//strong[@id=\"span_product_price_text\"]').text\n",
    "            price = base_price\n",
    "            color_fabric = text_info.find_element(\"xpath\",'./div[2]/table/tbody/tr[4]/td/span').text\n",
    "        elif len(trs) == 3:\n",
    "            base_price = text_info.find_element(\"xpath\",'.//strong[@id=\"span_product_price_text\"]').text\n",
    "            price = base_price\n",
    "            color_fabric = \"\"\n",
    "        elif len(trs) == 2:\n",
    "            base_price = \"\"\n",
    "            price = \"\"\n",
    "            color_fabric = \"\"\n",
    "            \n",
    "\n",
    "        size_elements = text_info.find_elements(\"xpath\",'.//optgroup[@label=\"사이즈\"]/option')\n",
    "        size = \"M\"\n",
    "        is_available = True\n",
    "\n",
    "        for element in size_elements:\n",
    "            size = element.text.replace(\" [품절]\",\"\")\n",
    "            if \"[품절]\" in element.text:\n",
    "                is_available = False\n",
    "            else:\n",
    "                is_available = True\n",
    "\n",
    "            base_dict[\"baseCat\"].append(cat)\n",
    "            base_dict[\"baseName\"].append(base_name)\n",
    "            base_dict[\"baseCode\"].append(base_code)\n",
    "            base_dict[\"baseUrl\"].append(baseURL)\n",
    "            base_dict[\"colorName\"].append(color_name)\n",
    "            base_dict[\"baseGender\"].append(0)\n",
    "            base_dict[\"price\"].append(price)\n",
    "            base_dict[\"basePrice\"].append(base_price)\n",
    "            base_dict[\"colorFabric\"].append(color_fabric)\n",
    "            base_dict[\"imageUrl\"].append(imageURL)\n",
    "            base_dict[\"size\"].append(size)\n",
    "            base_dict[\"isAvailable\"].append(is_available)\n",
    "            \n",
    "    return base_dict"
   ]
  },
  {
   "cell_type": "code",
   "execution_count": null,
   "id": "3899b48b",
   "metadata": {},
   "outputs": [],
   "source": [
    "import pandas as pd"
   ]
  },
  {
   "cell_type": "code",
   "execution_count": 6,
   "id": "efcec33f",
   "metadata": {},
   "outputs": [
    {
     "name": "stdout",
     "output_type": "stream",
     "text": [
      "778\n"
     ]
    }
   ],
   "source": [
    "urls = [\n",
    "        ('https://whoisnerdy.com/product/list.html?cate_no=30', 15), #상의\n",
    "        ('https://whoisnerdy.com/product/list.html?cate_no=61', 5), #자켓\n",
    "        ('https://whoisnerdy.com/product/list.html?cate_no=31', 7), #하의\n",
    "         ]\n",
    "\n",
    "product_paths = find_product_paths(urls)\n",
    "print(len(product_paths))"
   ]
  },
  {
   "cell_type": "code",
   "execution_count": null,
   "id": "a3870dc9",
   "metadata": {},
   "outputs": [],
   "source": []
  },
  {
   "cell_type": "code",
   "execution_count": null,
   "id": "565fe62d",
   "metadata": {},
   "outputs": [],
   "source": []
  },
  {
   "cell_type": "code",
   "execution_count": null,
   "id": "ceff01fe",
   "metadata": {},
   "outputs": [],
   "source": []
  }
 ],
 "metadata": {
  "kernelspec": {
   "display_name": "Python 3 (ipykernel)",
   "language": "python",
   "name": "python3"
  },
  "language_info": {
   "codemirror_mode": {
    "name": "ipython",
    "version": 3
   },
   "file_extension": ".py",
   "mimetype": "text/x-python",
   "name": "python",
   "nbconvert_exporter": "python",
   "pygments_lexer": "ipython3",
   "version": "3.8.8"
  }
 },
 "nbformat": 4,
 "nbformat_minor": 5
}
