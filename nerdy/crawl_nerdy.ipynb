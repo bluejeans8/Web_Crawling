{
 "cells": [
  {
   "cell_type": "code",
   "execution_count": 1,
   "id": "b8eaea1f",
   "metadata": {},
   "outputs": [
    {
     "name": "stdout",
     "output_type": "stream",
     "text": [
      "\n",
      "C:\\Users\\User\\Web_Crawling\\nerdy>doskey defects4j=perl C:\\Users\\User\\defects4j\\framework\\bin\\defects4j $* \n",
      "Requirement already satisfied: chromedriver-autoinstaller in c:\\users\\user\\anaconda3\\lib\\site-packages (0.6.2)\n",
      "Note: you may need to restart the kernel to use updated packages.\n"
     ]
    },
    {
     "name": "stderr",
     "output_type": "stream",
     "text": [
      "WARNING: There was an error checking the latest version of pip.\n"
     ]
    }
   ],
   "source": [
    "pip install chromedriver-autoinstaller"
   ]
  },
  {
   "cell_type": "code",
   "execution_count": 2,
   "id": "8f8a42a5",
   "metadata": {},
   "outputs": [
    {
     "name": "stdout",
     "output_type": "stream",
     "text": [
      "Note: you may need to restart the kernel to use updated packages.\n"
     ]
    },
    {
     "name": "stderr",
     "output_type": "stream",
     "text": [
      "WARNING: There was an error checking the latest version of pip.\n"
     ]
    },
    {
     "name": "stdout",
     "output_type": "stream",
     "text": [
      "\n",
      "C:\\Users\\User\\Web_Crawling\\nerdy>doskey defects4j=perl C:\\Users\\User\\defects4j\\framework\\bin\\defects4j $* \n",
      "Requirement already satisfied: selenium in c:\\users\\user\\anaconda3\\lib\\site-packages (4.11.2)\n",
      "Requirement already satisfied: trio-websocket~=0.9 in c:\\users\\user\\anaconda3\\lib\\site-packages (from selenium) (0.10.3)\n",
      "Requirement already satisfied: certifi>=2021.10.8 in c:\\users\\user\\anaconda3\\lib\\site-packages (from selenium) (2023.7.22)\n",
      "Requirement already satisfied: urllib3[socks]<3,>=1.26 in c:\\users\\user\\anaconda3\\lib\\site-packages (from selenium) (1.26.6)\n",
      "Requirement already satisfied: trio~=0.17 in c:\\users\\user\\anaconda3\\lib\\site-packages (from selenium) (0.22.2)\n",
      "Requirement already satisfied: outcome in c:\\users\\user\\anaconda3\\lib\\site-packages (from trio~=0.17->selenium) (1.2.0)\n",
      "Requirement already satisfied: sniffio in c:\\users\\user\\anaconda3\\lib\\site-packages (from trio~=0.17->selenium) (1.2.0)\n",
      "Requirement already satisfied: sortedcontainers in c:\\users\\user\\anaconda3\\lib\\site-packages (from trio~=0.17->selenium) (2.4.0)\n",
      "Requirement already satisfied: attrs>=20.1.0 in c:\\users\\user\\anaconda3\\lib\\site-packages (from trio~=0.17->selenium) (21.2.0)\n",
      "Requirement already satisfied: idna in c:\\users\\user\\anaconda3\\lib\\site-packages (from trio~=0.17->selenium) (3.2)\n",
      "Requirement already satisfied: exceptiongroup>=1.0.0rc9 in c:\\users\\user\\anaconda3\\lib\\site-packages (from trio~=0.17->selenium) (1.1.3)\n",
      "Requirement already satisfied: cffi>=1.14 in c:\\users\\user\\anaconda3\\lib\\site-packages (from trio~=0.17->selenium) (1.14.6)\n",
      "Requirement already satisfied: wsproto>=0.14 in c:\\users\\user\\anaconda3\\lib\\site-packages (from trio-websocket~=0.9->selenium) (1.2.0)\n",
      "Requirement already satisfied: PySocks!=1.5.7,<2.0,>=1.5.6 in c:\\users\\user\\anaconda3\\lib\\site-packages (from urllib3[socks]<3,>=1.26->selenium) (1.7.1)\n",
      "Requirement already satisfied: pycparser in c:\\users\\user\\anaconda3\\lib\\site-packages (from cffi>=1.14->trio~=0.17->selenium) (2.20)\n",
      "Requirement already satisfied: h11<1,>=0.9.0 in c:\\users\\user\\anaconda3\\lib\\site-packages (from wsproto>=0.14->trio-websocket~=0.9->selenium) (0.14.0)\n"
     ]
    }
   ],
   "source": [
    "pip install selenium"
   ]
  },
  {
   "cell_type": "code",
   "execution_count": 3,
   "id": "3884d041",
   "metadata": {},
   "outputs": [],
   "source": [
    "import chromedriver_autoinstaller\n",
    "from selenium import webdriver\n",
    "import time\n",
    "\n",
    "class Driver:\n",
    "    @staticmethod\n",
    "    def driver_init():\n",
    "        chromedriver_autoinstaller.install()\n",
    "        options = webdriver.ChromeOptions()\n",
    "#         options.add_argument('headless') # jupyter notebook 환경에서 주석처리\n",
    "        options.add_argument('lang=ko_KR')\n",
    "        options.add_argument(\"user-agent=Mozilla/5.0 (Windows NT 10.0; Win64; x64) AppleWebKit/537.36 (KHTML, like Gecko) Chrome/104.0.0.0 Safari/537.36\")\n",
    "        options.add_argument('--no-sandbox')\n",
    "        options.add_argument('--disable-notifications')\n",
    "        options.add_argument('--disable-popup-blocking')\n",
    "        options.add_argument('--disable-dev-shm-usage')\n",
    "        options.add_argument('--disable-browser-side-navigation')\n",
    "        options.add_argument('disable-gpu')\n",
    "\n",
    "        driver = webdriver.Chrome(options=options)\n",
    "        driver.set_window_size(1600, 1100)\n",
    "\n",
    "        return driver"
   ]
  },
  {
   "cell_type": "code",
   "execution_count": 4,
   "id": "3a8524f6",
   "metadata": {},
   "outputs": [
    {
     "name": "stderr",
     "output_type": "stream",
     "text": [
      "WARNING:root:Can not find chromedriver for currently installed chrome version.\n"
     ]
    }
   ],
   "source": [
    "driver = Driver.driver_init()"
   ]
  },
  {
   "cell_type": "code",
   "execution_count": 5,
   "id": "6773322c",
   "metadata": {},
   "outputs": [],
   "source": [
    "def find_product_paths(urls):\n",
    "    product_paths = []\n",
    "    \n",
    "    ## 상의/자켓/하의 분류 루프\n",
    "    for (url, pages_cnt) in urls:\n",
    "        ## 각 옷 분류의 페이지 갯수 루프\n",
    "        for page_num in range(pages_cnt):\n",
    "            try:\n",
    "                driver.get(url + \"&page=\" + str(page_num+1))\n",
    "            except:\n",
    "                continue\n",
    "\n",
    "            products = driver.find_elements('xpath', '//ul[@class=\"prdNeo prd_set\"]/li')\n",
    "            products_cnt = len(products)\n",
    "\n",
    "            ## 각 product의 path를 product_paths 리스트에 저장\n",
    "            for i in range(products_cnt):\n",
    "                product = driver.find_elements('xpath', '//ul[@class=\"prdNeo prd_set\"]/li')[i]\n",
    "                product_path = product.find_element('xpath', './div/div[@class=\"thumbnail on\"]/a').get_attribute('href')\n",
    "                product_paths.append(product_path)\n",
    "                \n",
    "    return product_paths"
   ]
  },
  {
   "cell_type": "code",
   "execution_count": 6,
   "id": "28d0ae9e",
   "metadata": {},
   "outputs": [],
   "source": [
    "def find_all_color_paths(product_paths):\n",
    "    all_color_paths = []\n",
    "    \n",
    "    for product_path in product_paths:\n",
    "        ## 기존의 product_path 추가\n",
    "        all_color_paths.append(product_path)\n",
    "        \n",
    "        try:\n",
    "            driver.get(product_path)\n",
    "        except:\n",
    "            continue\n",
    "            \n",
    "        other_color_products = driver.find_elements('xpath','//div[@id=\"product_relation\"]/div[@class=\"xans-element- xans-product xans-product-relationlist relate_thumbs_img noSlide\"]/ul/li')\n",
    "        other_products_cnt = len(other_color_products)\n",
    "        \n",
    "        ## 다른 색들의 product_path 추가\n",
    "        for i in range(other_products_cnt):\n",
    "            other_product = driver.find_elements('xpath','//div[@id=\"product_relation\"]/div[@class=\"xans-element- xans-product xans-product-relationlist relate_thumbs_img noSlide\"]/ul/li')[i]\n",
    "            other_product_path = other_product.find_element('xpath', './div/a').get_attribute('href')\n",
    "            all_color_paths.append(other_product_path)\n",
    "    \n",
    "    return all_color_paths\n",
    "            "
   ]
  },
  {
   "cell_type": "code",
   "execution_count": 43,
   "id": "8422e5be",
   "metadata": {},
   "outputs": [],
   "source": [
    "def append_data(base_dict, cat, base_name, base_code, baseURL, color_name, base_gender, price, base_price, color_fabric, imageURL, size, is_available):\n",
    "    base_dict[\"baseCat\"].append(cat)\n",
    "    base_dict[\"baseName\"].append(base_name)\n",
    "    base_dict[\"baseCode\"].append(base_code)\n",
    "    base_dict[\"baseUrl\"].append(baseURL)\n",
    "    base_dict[\"colorName\"].append(color_name)\n",
    "    base_dict[\"baseGender\"].append(base_gender)\n",
    "    base_dict[\"price\"].append(price)\n",
    "    base_dict[\"basePrice\"].append(base_price)\n",
    "    base_dict[\"colorFabric\"].append(color_fabric)\n",
    "    base_dict[\"imageUrl\"].append(imageURL)\n",
    "    base_dict[\"size\"].append(size)\n",
    "    base_dict[\"isAvailable\"].append(is_available)"
   ]
  },
  {
   "cell_type": "code",
   "execution_count": 48,
   "id": "7cad9cbc",
   "metadata": {},
   "outputs": [],
   "source": [
    "from selenium.webdriver.support.ui import Select\n",
    "from selenium.webdriver.support.ui import WebDriverWait\n",
    "from selenium.webdriver.common.by import By\n",
    "from selenium.webdriver.support import expected_conditions as EC\n",
    "\n",
    "\n",
    "\n",
    "def crawl_pages(product_paths):\n",
    "    \n",
    "    base_dict= {\"baseCat\":[], \"baseName\": [], \"baseCode\": [], \"baseUrl\": [], \"colorName\": [],\n",
    "            \"baseGender\": [], \"price\": [], \"basePrice\": [], \"colorFabric\": [], \"imageUrl\": [],\n",
    "            \"size\": [], \"isAvailable\": []\n",
    "            }\n",
    "    \n",
    "    ## 드라이버 초기화\n",
    "    driver = Driver.driver_init()\n",
    "    ## 각 product에 대한 정보 추출\n",
    "    for product_path in product_paths:\n",
    "        driver.get(product_path)\n",
    "        \n",
    "        \n",
    "        ## URL을 통해 cat 정보 추출\n",
    "        cat = 'top'\n",
    "        if \"cate_no=30\" in product_path or \"cate_no=61\" in product_path:\n",
    "            cat = 'top'\n",
    "        elif \"cate_no=31\" in product_path:\n",
    "            cat = 'bottom'\n",
    "\n",
    "        baseURL = product_path\n",
    "        \n",
    "        ## text_info element\n",
    "        text_info = driver.find_element('xpath', '//div[@class=\"detail_top_right\"]')\n",
    "        \n",
    "        \n",
    "        ## 이미지 추출\n",
    "        imageURL = []\n",
    "        images = []\n",
    "        images_cnt = 0\n",
    "        if len(driver.find_elements('xpath','//div[@id=\"product_detail\"]/div[@class=\"detailEditor\"]/img')) != 0:\n",
    "            images = driver.find_elements('xpath','//div[@id=\"product_detail\"]/div[@class=\"detailEditor\"]/img')\n",
    "            images_cnt = len(images)\n",
    "            for i in range(images_cnt):\n",
    "                imgsrc = driver.find_elements('xpath','//div[@id=\"product_detail\"]/div[@class=\"detailEditor\"]/img')[i].get_attribute('src')\n",
    "                imageURL.append(imgsrc)\n",
    "        else:\n",
    "            images = driver.find_elements('xpath','//div[@id=\"product_detail\"]/div[@class=\"detailEditor\"]/div[1]/img')\n",
    "            images_cnt = len(images)\n",
    "            for i in range(images_cnt):\n",
    "                imgsrc = driver.find_elements('xpath','//div[@id=\"product_detail\"]/div[@class=\"detailEditor\"]/div[1]/img')[i].get_attribute('src')\n",
    "                imageURL.append(imgsrc)\n",
    "        \n",
    "        ## base_name 추출\n",
    "        base_name = text_info.find_element('xpath', './div[@class=\"prd_name_wrap \"]/h2').text\n",
    "        \n",
    "        ## base_gender 추출\n",
    "        base_gender = 0\n",
    "        if \"우먼스\" in base_name:\n",
    "            base_gender = 2\n",
    "        \n",
    "        ## 가격 추출\n",
    "        price = \"\"\n",
    "        base_price = \"\"\n",
    "        \n",
    "        trs = text_info.find_elements(\"xpath\",'//td[@colspan=\"2\"]/div') #td의 div 항목 갯수\n",
    "        \n",
    "        ## 할인을 하지 않는 경우\n",
    "        if len(trs) == 2:\n",
    "            price = text_info.find_element('xpath', '//div[@class=\"display_price\"]/span[@id=\"sale_price\"]').text\n",
    "            base_price = price\n",
    "            \n",
    "        ## 할인을 하는 경우\n",
    "        elif len(trs) == 3:\n",
    "            price = text_info.find_element('xpath', '//div[@class=\"display_price\"]/span[@id=\"sale_price\"]').text\n",
    "            base_price = text_info.find_element('xpath', '//div[@id=\"origin_price\"]').text\n",
    "\n",
    "\n",
    "        ## color_fabric 추출\n",
    "        if len(driver.find_elements('xpath','//div[@class=\"addService\"]/div[2]/div[2]/ul/li[2]')) != 0:\n",
    "            color_fabric = driver.find_element('xpath','//div[@class=\"addService\"]/div[2]/div[2]/ul/li[2]').get_attribute('textContent')\n",
    "        else:\n",
    "            color_fabric = driver.find_element('xpath','//div[@class=\"addService\"]/div[1]/div[3]/div[2]/ul/li[2]').get_attribute('textContent')\n",
    "    \n",
    "        \n",
    "        \n",
    "        select = \"\"\n",
    "        color_name = \"\"\n",
    "        base_code = \"\"\n",
    "        \n",
    "        ## option_title이 '색상'으로 되어 있는 경우\n",
    "        if len(text_info.find_elements('xpath', '//select[@option_title=\"색상\"]')) != 0:\n",
    "            \n",
    "            ## base_name에 옷의 색 정보가 포함되어있는 경우\n",
    "            if len(text_info.find_elements('xpath', '//select[@option_title=\"색상\"]/option')) == 3:\n",
    "                         \n",
    "                color_name = base_name.split(\" \")[-1]\n",
    "                base_code = base_name.replace(color_name, \"\")[:-1]\n",
    "            \n",
    "                select = Select(text_info.find_element('xpath', '//select[@option_title=\"색상\"]'))\n",
    "                try:\n",
    "                    select.select_by_visible_text(color_name)\n",
    "                except:\n",
    "                    color_text = color_name + \" [품절]\"\n",
    "                    select.select_by_visible_text(color_text)\n",
    "                    \n",
    "                size_elements = text_info.find_elements('xpath', '//select[@option_title=\"사이즈\"]/option')[2:]\n",
    "                size = \"M\"\n",
    "                is_available = True\n",
    "\n",
    "                for element in size_elements:\n",
    "                    size = element.text.replace(\" [품절]\",\"\")\n",
    "                    if \"[품절]\" in element.text:\n",
    "                        is_available = False\n",
    "                    else:\n",
    "                        is_available = True\n",
    "                        \n",
    "                append_data(base_dict, cat, base_name, base_code, baseURL, color_name, base_gender, price, base_price, color_fabric, imageURL, size, is_available)\n",
    "            \n",
    "            ## base_name에 옷의 색 정보가 포함되어 있지 않은 경우\n",
    "            else:\n",
    "                option_cnt = len(text_info.find_elements('xpath', '//select[@option_title=\"색상\"]/option'))\n",
    "                \n",
    "                ## 각 색깔 별로 따로 정보를 추출 및 저장해야 함\n",
    "                for i in range(2,option_cnt):\n",
    "                    color_value = text_info.find_elements('xpath', '//select[@option_title=\"색상\"]/option')[i].get_attribute('value')\n",
    "                    \n",
    "                    ## color_value 안에 [품절]이란 단어 유무에 따른 color_name 선정\n",
    "                    if \"[품절]\" in color_value:\n",
    "                        color_name = color_value.replace(\" [품절]\", \"\")\n",
    "                    else:\n",
    "                        color_name = color_value\n",
    "                    \n",
    "                    base_code = base_name\n",
    "                    \n",
    "                    select = Select(text_info.find_element('xpath', '//select[@option_title=\"색상\"]'))\n",
    "                    try:\n",
    "                        select.select_by_visible_text(color_name)\n",
    "                    except:\n",
    "                        color_text = color_name + \" [품절]\"\n",
    "                        select.select_by_visible_text(color_text)\n",
    "                        \n",
    "                    size_elements = text_info.find_elements('xpath', '//select[@option_title=\"사이즈\"]/option')[2:]\n",
    "                    size = \"M\"\n",
    "                    is_available = True\n",
    "\n",
    "                    for element in size_elements:\n",
    "                        size = element.text.replace(\" [품절]\",\"\")\n",
    "                        if \"[품절]\" in element.text:\n",
    "                            is_available = False\n",
    "                        else:\n",
    "                            is_available = True\n",
    "                    \n",
    "                    append_data(base_dict, cat, base_name, base_code, baseURL, color_name, base_gender, price, base_price, color_fabric, imageURL, size, is_available)\n",
    "\n",
    "            \n",
    "            \n",
    "            \n",
    "        ## option_title이 '컬러'로 되어 있는 경우\n",
    "        elif len(text_info.find_elements('xpath', '//select[@option_title=\"컬러\"]')) != 0:\n",
    "            \n",
    "            ## base_name에 옷의 색 정보가 포함되어있는 경우\n",
    "            if len(text_info.find_elements('xpath', '//select[@option_title=\"컬러\"]/option')) == 3:\n",
    "                         \n",
    "                color_name = base_name.split(\" \")[-1]\n",
    "                base_code = base_name.replace(color_name, \"\")[:-1]\n",
    "            \n",
    "                select = Select(text_info.find_element('xpath', '//select[@option_title=\"컬러\"]'))\n",
    "                try:\n",
    "                    select.select_by_visible_text(color_name)\n",
    "                except:\n",
    "                    color_text = color_name + \" [품절]\"\n",
    "                    select.select_by_visible_text(color_text)\n",
    "                    \n",
    "                size_elements = text_info.find_elements('xpath', '//select[@option_title=\"사이즈\"]/option')[2:]\n",
    "                size = \"M\"\n",
    "                is_available = True\n",
    "\n",
    "                for element in size_elements:\n",
    "                    size = element.text.replace(\" [품절]\",\"\")\n",
    "                    if \"[품절]\" in element.text:\n",
    "                        is_available = False\n",
    "                    else:\n",
    "                        is_available = True\n",
    "                append_data(base_dict, cat, base_name, base_code, baseURL, color_name, base_gender, price, base_price, color_fabric, imageURL, size, is_available)\n",
    "            \n",
    "            \n",
    "            ## base_name에 옷의 색 정보가 포함되어 있지 않은 경우\n",
    "            else:\n",
    "                option_cnt = len(text_info.find_elements('xpath', '//select[@option_title=\"컬러\"]/option'))\n",
    "                \n",
    "                ## 각 색깔 별로 따로 정보를 추출 및 저장해야 함\n",
    "                for i in range(2,option_cnt):\n",
    "                    color_value = text_info.find_elements('xpath', '//select[@option_title=\"컬러\"]/option')[i].get_attribute('value')\n",
    "                    \n",
    "                    ## color_value 안에 [품절]이란 단어 유무에 따른 color_name 선정\n",
    "                    if \"[품절]\" in color_value:\n",
    "                        color_name = color_value.replace(\" [품절]\", \"\")\n",
    "                    else:\n",
    "                        color_name = color_value\n",
    "                    \n",
    "                    base_code = base_name\n",
    "                    \n",
    "                    select = Select(text_info.find_element('xpath', '//select[@option_title=\"색상\"]'))\n",
    "                    try:\n",
    "                        select.select_by_visible_text(color_name)\n",
    "                    except:\n",
    "                        color_text = color_name + \" [품절]\"\n",
    "                        select.select_by_visible_text(color_text)\n",
    "                        \n",
    "                    size_elements = text_info.find_elements('xpath', '//select[@option_title=\"사이즈\"]/option')[2:]\n",
    "                    size = \"M\"\n",
    "                    is_available = True\n",
    "\n",
    "                    for element in size_elements:\n",
    "                        size = element.text.replace(\" [품절]\",\"\")\n",
    "                        if \"[품절]\" in element.text:\n",
    "                            is_available = False\n",
    "                        else:\n",
    "                            is_available = True\n",
    "                            \n",
    "                    append_data(base_dict, cat, base_name, base_code, baseURL, color_name, base_gender, price, base_price, color_fabric, imageURL, size, is_available)\n",
    "            \n",
    "            \n",
    "            \n",
    "        ## option_title이 없는 경우 (컬러 선택할 수 없는 경우)\n",
    "        else:\n",
    "            continue # 너무 예외적인 케이스라 pass\n",
    "            \n",
    "    \n",
    "    print(\"len: \", len(base_dict))\n",
    "    \n",
    "    return base_dict"
   ]
  },
  {
   "cell_type": "code",
   "execution_count": 8,
   "id": "3899b48b",
   "metadata": {},
   "outputs": [],
   "source": [
    "import pandas as pd"
   ]
  },
  {
   "cell_type": "code",
   "execution_count": 9,
   "id": "efcec33f",
   "metadata": {},
   "outputs": [
    {
     "name": "stdout",
     "output_type": "stream",
     "text": [
      "784\n"
     ]
    }
   ],
   "source": [
    "urls = [\n",
    "        ('https://whoisnerdy.com/product/list.html?cate_no=30', 15), #상의\n",
    "        ('https://whoisnerdy.com/product/list.html?cate_no=61', 5), #자켓\n",
    "        ('https://whoisnerdy.com/product/list.html?cate_no=31', 7), #하의\n",
    "         ]\n",
    "\n",
    "product_paths = find_product_paths(urls)\n",
    "print(len(product_paths))"
   ]
  },
  {
   "cell_type": "code",
   "execution_count": 10,
   "id": "a3870dc9",
   "metadata": {},
   "outputs": [
    {
     "name": "stdout",
     "output_type": "stream",
     "text": [
      "1532\n"
     ]
    }
   ],
   "source": [
    "all_color_paths = find_all_color_paths(product_paths)\n",
    "print(len(all_color_paths))"
   ]
  },
  {
   "cell_type": "code",
   "execution_count": 41,
   "id": "2f7644bb",
   "metadata": {},
   "outputs": [
    {
     "name": "stdout",
     "output_type": "stream",
     "text": [
      "1117\n"
     ]
    }
   ],
   "source": [
    "## remove duplicates\n",
    "all_color_paths = list(set(all_color_paths))\n",
    "print(len(all_color_paths))"
   ]
  },
  {
   "cell_type": "code",
   "execution_count": 42,
   "id": "123bc282",
   "metadata": {},
   "outputs": [],
   "source": [
    "## remove 품절 상품\n",
    "for path in all_color_paths:\n",
    "    if type(path) is not str:\n",
    "        all_color_paths.remove(path)"
   ]
  },
  {
   "cell_type": "code",
   "execution_count": 49,
   "id": "565fe62d",
   "metadata": {},
   "outputs": [
    {
     "name": "stderr",
     "output_type": "stream",
     "text": [
      "WARNING:root:Can not find chromedriver for currently installed chrome version.\n"
     ]
    },
    {
     "ename": "KeyboardInterrupt",
     "evalue": "",
     "output_type": "error",
     "traceback": [
      "\u001b[1;31m---------------------------------------------------------------------------\u001b[0m",
      "\u001b[1;31mKeyboardInterrupt\u001b[0m                         Traceback (most recent call last)",
      "\u001b[1;32m~\\AppData\\Local\\Temp/ipykernel_6980/2099808745.py\u001b[0m in \u001b[0;36m<module>\u001b[1;34m\u001b[0m\n\u001b[1;32m----> 1\u001b[1;33m \u001b[0mdict1\u001b[0m \u001b[1;33m=\u001b[0m \u001b[0mcrawl_pages\u001b[0m\u001b[1;33m(\u001b[0m\u001b[0mall_color_paths\u001b[0m\u001b[1;33m[\u001b[0m\u001b[1;33m:\u001b[0m\u001b[1;36m500\u001b[0m\u001b[1;33m]\u001b[0m\u001b[1;33m)\u001b[0m\u001b[1;33m\u001b[0m\u001b[1;33m\u001b[0m\u001b[0m\n\u001b[0m\u001b[0;32m      2\u001b[0m \u001b[0mdf1\u001b[0m \u001b[1;33m=\u001b[0m \u001b[0mpd\u001b[0m\u001b[1;33m.\u001b[0m\u001b[0mDataFrame\u001b[0m\u001b[1;33m.\u001b[0m\u001b[0mfrom_dict\u001b[0m\u001b[1;33m(\u001b[0m\u001b[0mdict1\u001b[0m\u001b[1;33m)\u001b[0m\u001b[1;33m\u001b[0m\u001b[1;33m\u001b[0m\u001b[0m\n\u001b[0;32m      3\u001b[0m \u001b[1;33m\u001b[0m\u001b[0m\n\u001b[0;32m      4\u001b[0m \u001b[0mprint\u001b[0m\u001b[1;33m(\u001b[0m\u001b[0mdf1\u001b[0m\u001b[1;33m)\u001b[0m\u001b[1;33m\u001b[0m\u001b[1;33m\u001b[0m\u001b[0m\n",
      "\u001b[1;32m~\\AppData\\Local\\Temp/ipykernel_6980/1794357821.py\u001b[0m in \u001b[0;36mcrawl_pages\u001b[1;34m(product_paths)\u001b[0m\n\u001b[0;32m     17\u001b[0m     \u001b[1;31m## 각 product에 대한 정보 추출\u001b[0m\u001b[1;33m\u001b[0m\u001b[1;33m\u001b[0m\u001b[1;33m\u001b[0m\u001b[0m\n\u001b[0;32m     18\u001b[0m     \u001b[1;32mfor\u001b[0m \u001b[0mproduct_path\u001b[0m \u001b[1;32min\u001b[0m \u001b[0mproduct_paths\u001b[0m\u001b[1;33m:\u001b[0m\u001b[1;33m\u001b[0m\u001b[1;33m\u001b[0m\u001b[0m\n\u001b[1;32m---> 19\u001b[1;33m         \u001b[0mdriver\u001b[0m\u001b[1;33m.\u001b[0m\u001b[0mget\u001b[0m\u001b[1;33m(\u001b[0m\u001b[0mproduct_path\u001b[0m\u001b[1;33m)\u001b[0m\u001b[1;33m\u001b[0m\u001b[1;33m\u001b[0m\u001b[0m\n\u001b[0m\u001b[0;32m     20\u001b[0m \u001b[1;33m\u001b[0m\u001b[0m\n\u001b[0;32m     21\u001b[0m \u001b[1;33m\u001b[0m\u001b[0m\n",
      "\u001b[1;32m~\\anaconda3\\lib\\site-packages\\selenium\\webdriver\\remote\\webdriver.py\u001b[0m in \u001b[0;36mget\u001b[1;34m(self, url)\u001b[0m\n\u001b[0;32m    352\u001b[0m     \u001b[1;32mdef\u001b[0m \u001b[0mget\u001b[0m\u001b[1;33m(\u001b[0m\u001b[0mself\u001b[0m\u001b[1;33m,\u001b[0m \u001b[0murl\u001b[0m\u001b[1;33m:\u001b[0m \u001b[0mstr\u001b[0m\u001b[1;33m)\u001b[0m \u001b[1;33m->\u001b[0m \u001b[1;32mNone\u001b[0m\u001b[1;33m:\u001b[0m\u001b[1;33m\u001b[0m\u001b[1;33m\u001b[0m\u001b[0m\n\u001b[0;32m    353\u001b[0m         \u001b[1;34m\"\"\"Loads a web page in the current browser session.\"\"\"\u001b[0m\u001b[1;33m\u001b[0m\u001b[1;33m\u001b[0m\u001b[0m\n\u001b[1;32m--> 354\u001b[1;33m         \u001b[0mself\u001b[0m\u001b[1;33m.\u001b[0m\u001b[0mexecute\u001b[0m\u001b[1;33m(\u001b[0m\u001b[0mCommand\u001b[0m\u001b[1;33m.\u001b[0m\u001b[0mGET\u001b[0m\u001b[1;33m,\u001b[0m \u001b[1;33m{\u001b[0m\u001b[1;34m\"url\"\u001b[0m\u001b[1;33m:\u001b[0m \u001b[0murl\u001b[0m\u001b[1;33m}\u001b[0m\u001b[1;33m)\u001b[0m\u001b[1;33m\u001b[0m\u001b[1;33m\u001b[0m\u001b[0m\n\u001b[0m\u001b[0;32m    355\u001b[0m \u001b[1;33m\u001b[0m\u001b[0m\n\u001b[0;32m    356\u001b[0m     \u001b[1;33m@\u001b[0m\u001b[0mproperty\u001b[0m\u001b[1;33m\u001b[0m\u001b[1;33m\u001b[0m\u001b[0m\n",
      "\u001b[1;32m~\\anaconda3\\lib\\site-packages\\selenium\\webdriver\\remote\\webdriver.py\u001b[0m in \u001b[0;36mexecute\u001b[1;34m(self, driver_command, params)\u001b[0m\n\u001b[0;32m    341\u001b[0m                 \u001b[0mparams\u001b[0m\u001b[1;33m[\u001b[0m\u001b[1;34m\"sessionId\"\u001b[0m\u001b[1;33m]\u001b[0m \u001b[1;33m=\u001b[0m \u001b[0mself\u001b[0m\u001b[1;33m.\u001b[0m\u001b[0msession_id\u001b[0m\u001b[1;33m\u001b[0m\u001b[1;33m\u001b[0m\u001b[0m\n\u001b[0;32m    342\u001b[0m \u001b[1;33m\u001b[0m\u001b[0m\n\u001b[1;32m--> 343\u001b[1;33m         \u001b[0mresponse\u001b[0m \u001b[1;33m=\u001b[0m \u001b[0mself\u001b[0m\u001b[1;33m.\u001b[0m\u001b[0mcommand_executor\u001b[0m\u001b[1;33m.\u001b[0m\u001b[0mexecute\u001b[0m\u001b[1;33m(\u001b[0m\u001b[0mdriver_command\u001b[0m\u001b[1;33m,\u001b[0m \u001b[0mparams\u001b[0m\u001b[1;33m)\u001b[0m\u001b[1;33m\u001b[0m\u001b[1;33m\u001b[0m\u001b[0m\n\u001b[0m\u001b[0;32m    344\u001b[0m         \u001b[1;32mif\u001b[0m \u001b[0mresponse\u001b[0m\u001b[1;33m:\u001b[0m\u001b[1;33m\u001b[0m\u001b[1;33m\u001b[0m\u001b[0m\n\u001b[0;32m    345\u001b[0m             \u001b[0mself\u001b[0m\u001b[1;33m.\u001b[0m\u001b[0merror_handler\u001b[0m\u001b[1;33m.\u001b[0m\u001b[0mcheck_response\u001b[0m\u001b[1;33m(\u001b[0m\u001b[0mresponse\u001b[0m\u001b[1;33m)\u001b[0m\u001b[1;33m\u001b[0m\u001b[1;33m\u001b[0m\u001b[0m\n",
      "\u001b[1;32m~\\anaconda3\\lib\\site-packages\\selenium\\webdriver\\remote\\remote_connection.py\u001b[0m in \u001b[0;36mexecute\u001b[1;34m(self, command, params)\u001b[0m\n\u001b[0;32m    289\u001b[0m         \u001b[0mdata\u001b[0m \u001b[1;33m=\u001b[0m \u001b[0mutils\u001b[0m\u001b[1;33m.\u001b[0m\u001b[0mdump_json\u001b[0m\u001b[1;33m(\u001b[0m\u001b[0mparams\u001b[0m\u001b[1;33m)\u001b[0m\u001b[1;33m\u001b[0m\u001b[1;33m\u001b[0m\u001b[0m\n\u001b[0;32m    290\u001b[0m         \u001b[0murl\u001b[0m \u001b[1;33m=\u001b[0m \u001b[1;34mf\"{self._url}{path}\"\u001b[0m\u001b[1;33m\u001b[0m\u001b[1;33m\u001b[0m\u001b[0m\n\u001b[1;32m--> 291\u001b[1;33m         \u001b[1;32mreturn\u001b[0m \u001b[0mself\u001b[0m\u001b[1;33m.\u001b[0m\u001b[0m_request\u001b[0m\u001b[1;33m(\u001b[0m\u001b[0mcommand_info\u001b[0m\u001b[1;33m[\u001b[0m\u001b[1;36m0\u001b[0m\u001b[1;33m]\u001b[0m\u001b[1;33m,\u001b[0m \u001b[0murl\u001b[0m\u001b[1;33m,\u001b[0m \u001b[0mbody\u001b[0m\u001b[1;33m=\u001b[0m\u001b[0mdata\u001b[0m\u001b[1;33m)\u001b[0m\u001b[1;33m\u001b[0m\u001b[1;33m\u001b[0m\u001b[0m\n\u001b[0m\u001b[0;32m    292\u001b[0m \u001b[1;33m\u001b[0m\u001b[0m\n\u001b[0;32m    293\u001b[0m     \u001b[1;32mdef\u001b[0m \u001b[0m_request\u001b[0m\u001b[1;33m(\u001b[0m\u001b[0mself\u001b[0m\u001b[1;33m,\u001b[0m \u001b[0mmethod\u001b[0m\u001b[1;33m,\u001b[0m \u001b[0murl\u001b[0m\u001b[1;33m,\u001b[0m \u001b[0mbody\u001b[0m\u001b[1;33m=\u001b[0m\u001b[1;32mNone\u001b[0m\u001b[1;33m)\u001b[0m\u001b[1;33m:\u001b[0m\u001b[1;33m\u001b[0m\u001b[1;33m\u001b[0m\u001b[0m\n",
      "\u001b[1;32m~\\anaconda3\\lib\\site-packages\\selenium\\webdriver\\remote\\remote_connection.py\u001b[0m in \u001b[0;36m_request\u001b[1;34m(self, method, url, body)\u001b[0m\n\u001b[0;32m    310\u001b[0m \u001b[1;33m\u001b[0m\u001b[0m\n\u001b[0;32m    311\u001b[0m         \u001b[1;32mif\u001b[0m \u001b[0mself\u001b[0m\u001b[1;33m.\u001b[0m\u001b[0mkeep_alive\u001b[0m\u001b[1;33m:\u001b[0m\u001b[1;33m\u001b[0m\u001b[1;33m\u001b[0m\u001b[0m\n\u001b[1;32m--> 312\u001b[1;33m             \u001b[0mresponse\u001b[0m \u001b[1;33m=\u001b[0m \u001b[0mself\u001b[0m\u001b[1;33m.\u001b[0m\u001b[0m_conn\u001b[0m\u001b[1;33m.\u001b[0m\u001b[0mrequest\u001b[0m\u001b[1;33m(\u001b[0m\u001b[0mmethod\u001b[0m\u001b[1;33m,\u001b[0m \u001b[0murl\u001b[0m\u001b[1;33m,\u001b[0m \u001b[0mbody\u001b[0m\u001b[1;33m=\u001b[0m\u001b[0mbody\u001b[0m\u001b[1;33m,\u001b[0m \u001b[0mheaders\u001b[0m\u001b[1;33m=\u001b[0m\u001b[0mheaders\u001b[0m\u001b[1;33m)\u001b[0m\u001b[1;33m\u001b[0m\u001b[1;33m\u001b[0m\u001b[0m\n\u001b[0m\u001b[0;32m    313\u001b[0m             \u001b[0mstatuscode\u001b[0m \u001b[1;33m=\u001b[0m \u001b[0mresponse\u001b[0m\u001b[1;33m.\u001b[0m\u001b[0mstatus\u001b[0m\u001b[1;33m\u001b[0m\u001b[1;33m\u001b[0m\u001b[0m\n\u001b[0;32m    314\u001b[0m         \u001b[1;32melse\u001b[0m\u001b[1;33m:\u001b[0m\u001b[1;33m\u001b[0m\u001b[1;33m\u001b[0m\u001b[0m\n",
      "\u001b[1;32m~\\anaconda3\\lib\\site-packages\\urllib3\\request.py\u001b[0m in \u001b[0;36mrequest\u001b[1;34m(self, method, url, fields, headers, **urlopen_kw)\u001b[0m\n\u001b[0;32m     76\u001b[0m             )\n\u001b[0;32m     77\u001b[0m         \u001b[1;32melse\u001b[0m\u001b[1;33m:\u001b[0m\u001b[1;33m\u001b[0m\u001b[1;33m\u001b[0m\u001b[0m\n\u001b[1;32m---> 78\u001b[1;33m             return self.request_encode_body(\n\u001b[0m\u001b[0;32m     79\u001b[0m                 \u001b[0mmethod\u001b[0m\u001b[1;33m,\u001b[0m \u001b[0murl\u001b[0m\u001b[1;33m,\u001b[0m \u001b[0mfields\u001b[0m\u001b[1;33m=\u001b[0m\u001b[0mfields\u001b[0m\u001b[1;33m,\u001b[0m \u001b[0mheaders\u001b[0m\u001b[1;33m=\u001b[0m\u001b[0mheaders\u001b[0m\u001b[1;33m,\u001b[0m \u001b[1;33m**\u001b[0m\u001b[0murlopen_kw\u001b[0m\u001b[1;33m\u001b[0m\u001b[1;33m\u001b[0m\u001b[0m\n\u001b[0;32m     80\u001b[0m             )\n",
      "\u001b[1;32m~\\anaconda3\\lib\\site-packages\\urllib3\\request.py\u001b[0m in \u001b[0;36mrequest_encode_body\u001b[1;34m(self, method, url, fields, headers, encode_multipart, multipart_boundary, **urlopen_kw)\u001b[0m\n\u001b[0;32m    168\u001b[0m         \u001b[0mextra_kw\u001b[0m\u001b[1;33m.\u001b[0m\u001b[0mupdate\u001b[0m\u001b[1;33m(\u001b[0m\u001b[0murlopen_kw\u001b[0m\u001b[1;33m)\u001b[0m\u001b[1;33m\u001b[0m\u001b[1;33m\u001b[0m\u001b[0m\n\u001b[0;32m    169\u001b[0m \u001b[1;33m\u001b[0m\u001b[0m\n\u001b[1;32m--> 170\u001b[1;33m         \u001b[1;32mreturn\u001b[0m \u001b[0mself\u001b[0m\u001b[1;33m.\u001b[0m\u001b[0murlopen\u001b[0m\u001b[1;33m(\u001b[0m\u001b[0mmethod\u001b[0m\u001b[1;33m,\u001b[0m \u001b[0murl\u001b[0m\u001b[1;33m,\u001b[0m \u001b[1;33m**\u001b[0m\u001b[0mextra_kw\u001b[0m\u001b[1;33m)\u001b[0m\u001b[1;33m\u001b[0m\u001b[1;33m\u001b[0m\u001b[0m\n\u001b[0m",
      "\u001b[1;32m~\\anaconda3\\lib\\site-packages\\urllib3\\poolmanager.py\u001b[0m in \u001b[0;36murlopen\u001b[1;34m(self, method, url, redirect, **kw)\u001b[0m\n\u001b[0;32m    373\u001b[0m             \u001b[0mresponse\u001b[0m \u001b[1;33m=\u001b[0m \u001b[0mconn\u001b[0m\u001b[1;33m.\u001b[0m\u001b[0murlopen\u001b[0m\u001b[1;33m(\u001b[0m\u001b[0mmethod\u001b[0m\u001b[1;33m,\u001b[0m \u001b[0murl\u001b[0m\u001b[1;33m,\u001b[0m \u001b[1;33m**\u001b[0m\u001b[0mkw\u001b[0m\u001b[1;33m)\u001b[0m\u001b[1;33m\u001b[0m\u001b[1;33m\u001b[0m\u001b[0m\n\u001b[0;32m    374\u001b[0m         \u001b[1;32melse\u001b[0m\u001b[1;33m:\u001b[0m\u001b[1;33m\u001b[0m\u001b[1;33m\u001b[0m\u001b[0m\n\u001b[1;32m--> 375\u001b[1;33m             \u001b[0mresponse\u001b[0m \u001b[1;33m=\u001b[0m \u001b[0mconn\u001b[0m\u001b[1;33m.\u001b[0m\u001b[0murlopen\u001b[0m\u001b[1;33m(\u001b[0m\u001b[0mmethod\u001b[0m\u001b[1;33m,\u001b[0m \u001b[0mu\u001b[0m\u001b[1;33m.\u001b[0m\u001b[0mrequest_uri\u001b[0m\u001b[1;33m,\u001b[0m \u001b[1;33m**\u001b[0m\u001b[0mkw\u001b[0m\u001b[1;33m)\u001b[0m\u001b[1;33m\u001b[0m\u001b[1;33m\u001b[0m\u001b[0m\n\u001b[0m\u001b[0;32m    376\u001b[0m \u001b[1;33m\u001b[0m\u001b[0m\n\u001b[0;32m    377\u001b[0m         \u001b[0mredirect_location\u001b[0m \u001b[1;33m=\u001b[0m \u001b[0mredirect\u001b[0m \u001b[1;32mand\u001b[0m \u001b[0mresponse\u001b[0m\u001b[1;33m.\u001b[0m\u001b[0mget_redirect_location\u001b[0m\u001b[1;33m(\u001b[0m\u001b[1;33m)\u001b[0m\u001b[1;33m\u001b[0m\u001b[1;33m\u001b[0m\u001b[0m\n",
      "\u001b[1;32m~\\anaconda3\\lib\\site-packages\\urllib3\\connectionpool.py\u001b[0m in \u001b[0;36murlopen\u001b[1;34m(self, method, url, body, headers, retries, redirect, assert_same_host, timeout, pool_timeout, release_conn, chunked, body_pos, **response_kw)\u001b[0m\n\u001b[0;32m    697\u001b[0m \u001b[1;33m\u001b[0m\u001b[0m\n\u001b[0;32m    698\u001b[0m             \u001b[1;31m# Make the request on the httplib connection object.\u001b[0m\u001b[1;33m\u001b[0m\u001b[1;33m\u001b[0m\u001b[1;33m\u001b[0m\u001b[0m\n\u001b[1;32m--> 699\u001b[1;33m             httplib_response = self._make_request(\n\u001b[0m\u001b[0;32m    700\u001b[0m                 \u001b[0mconn\u001b[0m\u001b[1;33m,\u001b[0m\u001b[1;33m\u001b[0m\u001b[1;33m\u001b[0m\u001b[0m\n\u001b[0;32m    701\u001b[0m                 \u001b[0mmethod\u001b[0m\u001b[1;33m,\u001b[0m\u001b[1;33m\u001b[0m\u001b[1;33m\u001b[0m\u001b[0m\n",
      "\u001b[1;32m~\\anaconda3\\lib\\site-packages\\urllib3\\connectionpool.py\u001b[0m in \u001b[0;36m_make_request\u001b[1;34m(self, conn, method, url, timeout, chunked, **httplib_request_kw)\u001b[0m\n\u001b[0;32m    443\u001b[0m                     \u001b[1;31m# Python 3 (including for exceptions like SystemExit).\u001b[0m\u001b[1;33m\u001b[0m\u001b[1;33m\u001b[0m\u001b[1;33m\u001b[0m\u001b[0m\n\u001b[0;32m    444\u001b[0m                     \u001b[1;31m# Otherwise it looks like a bug in the code.\u001b[0m\u001b[1;33m\u001b[0m\u001b[1;33m\u001b[0m\u001b[1;33m\u001b[0m\u001b[0m\n\u001b[1;32m--> 445\u001b[1;33m                     \u001b[0msix\u001b[0m\u001b[1;33m.\u001b[0m\u001b[0mraise_from\u001b[0m\u001b[1;33m(\u001b[0m\u001b[0me\u001b[0m\u001b[1;33m,\u001b[0m \u001b[1;32mNone\u001b[0m\u001b[1;33m)\u001b[0m\u001b[1;33m\u001b[0m\u001b[1;33m\u001b[0m\u001b[0m\n\u001b[0m\u001b[0;32m    446\u001b[0m         \u001b[1;32mexcept\u001b[0m \u001b[1;33m(\u001b[0m\u001b[0mSocketTimeout\u001b[0m\u001b[1;33m,\u001b[0m \u001b[0mBaseSSLError\u001b[0m\u001b[1;33m,\u001b[0m \u001b[0mSocketError\u001b[0m\u001b[1;33m)\u001b[0m \u001b[1;32mas\u001b[0m \u001b[0me\u001b[0m\u001b[1;33m:\u001b[0m\u001b[1;33m\u001b[0m\u001b[1;33m\u001b[0m\u001b[0m\n\u001b[0;32m    447\u001b[0m             \u001b[0mself\u001b[0m\u001b[1;33m.\u001b[0m\u001b[0m_raise_timeout\u001b[0m\u001b[1;33m(\u001b[0m\u001b[0merr\u001b[0m\u001b[1;33m=\u001b[0m\u001b[0me\u001b[0m\u001b[1;33m,\u001b[0m \u001b[0murl\u001b[0m\u001b[1;33m=\u001b[0m\u001b[0murl\u001b[0m\u001b[1;33m,\u001b[0m \u001b[0mtimeout_value\u001b[0m\u001b[1;33m=\u001b[0m\u001b[0mread_timeout\u001b[0m\u001b[1;33m)\u001b[0m\u001b[1;33m\u001b[0m\u001b[1;33m\u001b[0m\u001b[0m\n",
      "\u001b[1;32m~\\anaconda3\\lib\\site-packages\\urllib3\\packages\\six.py\u001b[0m in \u001b[0;36mraise_from\u001b[1;34m(value, from_value)\u001b[0m\n",
      "\u001b[1;32m~\\anaconda3\\lib\\site-packages\\urllib3\\connectionpool.py\u001b[0m in \u001b[0;36m_make_request\u001b[1;34m(self, conn, method, url, timeout, chunked, **httplib_request_kw)\u001b[0m\n\u001b[0;32m    438\u001b[0m                 \u001b[1;31m# Python 3\u001b[0m\u001b[1;33m\u001b[0m\u001b[1;33m\u001b[0m\u001b[1;33m\u001b[0m\u001b[0m\n\u001b[0;32m    439\u001b[0m                 \u001b[1;32mtry\u001b[0m\u001b[1;33m:\u001b[0m\u001b[1;33m\u001b[0m\u001b[1;33m\u001b[0m\u001b[0m\n\u001b[1;32m--> 440\u001b[1;33m                     \u001b[0mhttplib_response\u001b[0m \u001b[1;33m=\u001b[0m \u001b[0mconn\u001b[0m\u001b[1;33m.\u001b[0m\u001b[0mgetresponse\u001b[0m\u001b[1;33m(\u001b[0m\u001b[1;33m)\u001b[0m\u001b[1;33m\u001b[0m\u001b[1;33m\u001b[0m\u001b[0m\n\u001b[0m\u001b[0;32m    441\u001b[0m                 \u001b[1;32mexcept\u001b[0m \u001b[0mBaseException\u001b[0m \u001b[1;32mas\u001b[0m \u001b[0me\u001b[0m\u001b[1;33m:\u001b[0m\u001b[1;33m\u001b[0m\u001b[1;33m\u001b[0m\u001b[0m\n\u001b[0;32m    442\u001b[0m                     \u001b[1;31m# Remove the TypeError from the exception chain in\u001b[0m\u001b[1;33m\u001b[0m\u001b[1;33m\u001b[0m\u001b[1;33m\u001b[0m\u001b[0m\n",
      "\u001b[1;32m~\\anaconda3\\lib\\http\\client.py\u001b[0m in \u001b[0;36mgetresponse\u001b[1;34m(self)\u001b[0m\n\u001b[0;32m   1345\u001b[0m         \u001b[1;32mtry\u001b[0m\u001b[1;33m:\u001b[0m\u001b[1;33m\u001b[0m\u001b[1;33m\u001b[0m\u001b[0m\n\u001b[0;32m   1346\u001b[0m             \u001b[1;32mtry\u001b[0m\u001b[1;33m:\u001b[0m\u001b[1;33m\u001b[0m\u001b[1;33m\u001b[0m\u001b[0m\n\u001b[1;32m-> 1347\u001b[1;33m                 \u001b[0mresponse\u001b[0m\u001b[1;33m.\u001b[0m\u001b[0mbegin\u001b[0m\u001b[1;33m(\u001b[0m\u001b[1;33m)\u001b[0m\u001b[1;33m\u001b[0m\u001b[1;33m\u001b[0m\u001b[0m\n\u001b[0m\u001b[0;32m   1348\u001b[0m             \u001b[1;32mexcept\u001b[0m \u001b[0mConnectionError\u001b[0m\u001b[1;33m:\u001b[0m\u001b[1;33m\u001b[0m\u001b[1;33m\u001b[0m\u001b[0m\n\u001b[0;32m   1349\u001b[0m                 \u001b[0mself\u001b[0m\u001b[1;33m.\u001b[0m\u001b[0mclose\u001b[0m\u001b[1;33m(\u001b[0m\u001b[1;33m)\u001b[0m\u001b[1;33m\u001b[0m\u001b[1;33m\u001b[0m\u001b[0m\n",
      "\u001b[1;32m~\\anaconda3\\lib\\http\\client.py\u001b[0m in \u001b[0;36mbegin\u001b[1;34m(self)\u001b[0m\n\u001b[0;32m    305\u001b[0m         \u001b[1;31m# read until we get a non-100 response\u001b[0m\u001b[1;33m\u001b[0m\u001b[1;33m\u001b[0m\u001b[1;33m\u001b[0m\u001b[0m\n\u001b[0;32m    306\u001b[0m         \u001b[1;32mwhile\u001b[0m \u001b[1;32mTrue\u001b[0m\u001b[1;33m:\u001b[0m\u001b[1;33m\u001b[0m\u001b[1;33m\u001b[0m\u001b[0m\n\u001b[1;32m--> 307\u001b[1;33m             \u001b[0mversion\u001b[0m\u001b[1;33m,\u001b[0m \u001b[0mstatus\u001b[0m\u001b[1;33m,\u001b[0m \u001b[0mreason\u001b[0m \u001b[1;33m=\u001b[0m \u001b[0mself\u001b[0m\u001b[1;33m.\u001b[0m\u001b[0m_read_status\u001b[0m\u001b[1;33m(\u001b[0m\u001b[1;33m)\u001b[0m\u001b[1;33m\u001b[0m\u001b[1;33m\u001b[0m\u001b[0m\n\u001b[0m\u001b[0;32m    308\u001b[0m             \u001b[1;32mif\u001b[0m \u001b[0mstatus\u001b[0m \u001b[1;33m!=\u001b[0m \u001b[0mCONTINUE\u001b[0m\u001b[1;33m:\u001b[0m\u001b[1;33m\u001b[0m\u001b[1;33m\u001b[0m\u001b[0m\n\u001b[0;32m    309\u001b[0m                 \u001b[1;32mbreak\u001b[0m\u001b[1;33m\u001b[0m\u001b[1;33m\u001b[0m\u001b[0m\n",
      "\u001b[1;32m~\\anaconda3\\lib\\http\\client.py\u001b[0m in \u001b[0;36m_read_status\u001b[1;34m(self)\u001b[0m\n\u001b[0;32m    266\u001b[0m \u001b[1;33m\u001b[0m\u001b[0m\n\u001b[0;32m    267\u001b[0m     \u001b[1;32mdef\u001b[0m \u001b[0m_read_status\u001b[0m\u001b[1;33m(\u001b[0m\u001b[0mself\u001b[0m\u001b[1;33m)\u001b[0m\u001b[1;33m:\u001b[0m\u001b[1;33m\u001b[0m\u001b[1;33m\u001b[0m\u001b[0m\n\u001b[1;32m--> 268\u001b[1;33m         \u001b[0mline\u001b[0m \u001b[1;33m=\u001b[0m \u001b[0mstr\u001b[0m\u001b[1;33m(\u001b[0m\u001b[0mself\u001b[0m\u001b[1;33m.\u001b[0m\u001b[0mfp\u001b[0m\u001b[1;33m.\u001b[0m\u001b[0mreadline\u001b[0m\u001b[1;33m(\u001b[0m\u001b[0m_MAXLINE\u001b[0m \u001b[1;33m+\u001b[0m \u001b[1;36m1\u001b[0m\u001b[1;33m)\u001b[0m\u001b[1;33m,\u001b[0m \u001b[1;34m\"iso-8859-1\"\u001b[0m\u001b[1;33m)\u001b[0m\u001b[1;33m\u001b[0m\u001b[1;33m\u001b[0m\u001b[0m\n\u001b[0m\u001b[0;32m    269\u001b[0m         \u001b[1;32mif\u001b[0m \u001b[0mlen\u001b[0m\u001b[1;33m(\u001b[0m\u001b[0mline\u001b[0m\u001b[1;33m)\u001b[0m \u001b[1;33m>\u001b[0m \u001b[0m_MAXLINE\u001b[0m\u001b[1;33m:\u001b[0m\u001b[1;33m\u001b[0m\u001b[1;33m\u001b[0m\u001b[0m\n\u001b[0;32m    270\u001b[0m             \u001b[1;32mraise\u001b[0m \u001b[0mLineTooLong\u001b[0m\u001b[1;33m(\u001b[0m\u001b[1;34m\"status line\"\u001b[0m\u001b[1;33m)\u001b[0m\u001b[1;33m\u001b[0m\u001b[1;33m\u001b[0m\u001b[0m\n",
      "\u001b[1;32m~\\anaconda3\\lib\\socket.py\u001b[0m in \u001b[0;36mreadinto\u001b[1;34m(self, b)\u001b[0m\n\u001b[0;32m    667\u001b[0m         \u001b[1;32mwhile\u001b[0m \u001b[1;32mTrue\u001b[0m\u001b[1;33m:\u001b[0m\u001b[1;33m\u001b[0m\u001b[1;33m\u001b[0m\u001b[0m\n\u001b[0;32m    668\u001b[0m             \u001b[1;32mtry\u001b[0m\u001b[1;33m:\u001b[0m\u001b[1;33m\u001b[0m\u001b[1;33m\u001b[0m\u001b[0m\n\u001b[1;32m--> 669\u001b[1;33m                 \u001b[1;32mreturn\u001b[0m \u001b[0mself\u001b[0m\u001b[1;33m.\u001b[0m\u001b[0m_sock\u001b[0m\u001b[1;33m.\u001b[0m\u001b[0mrecv_into\u001b[0m\u001b[1;33m(\u001b[0m\u001b[0mb\u001b[0m\u001b[1;33m)\u001b[0m\u001b[1;33m\u001b[0m\u001b[1;33m\u001b[0m\u001b[0m\n\u001b[0m\u001b[0;32m    670\u001b[0m             \u001b[1;32mexcept\u001b[0m \u001b[0mtimeout\u001b[0m\u001b[1;33m:\u001b[0m\u001b[1;33m\u001b[0m\u001b[1;33m\u001b[0m\u001b[0m\n\u001b[0;32m    671\u001b[0m                 \u001b[0mself\u001b[0m\u001b[1;33m.\u001b[0m\u001b[0m_timeout_occurred\u001b[0m \u001b[1;33m=\u001b[0m \u001b[1;32mTrue\u001b[0m\u001b[1;33m\u001b[0m\u001b[1;33m\u001b[0m\u001b[0m\n",
      "\u001b[1;31mKeyboardInterrupt\u001b[0m: "
     ]
    }
   ],
   "source": [
    "dict1 = crawl_pages(all_color_paths[:500])\n",
    "df1 = pd.DataFrame.from_dict(dict1)\n",
    "\n",
    "print(df1)"
   ]
  },
  {
   "cell_type": "code",
   "execution_count": null,
   "id": "ceff01fe",
   "metadata": {},
   "outputs": [],
   "source": [
    "dict2 = crawl_pages(all_color_paths[500:1000])\n",
    "df2 = pd.DataFrame.from_dict(dict2)\n",
    "\n",
    "print(df2)"
   ]
  },
  {
   "cell_type": "code",
   "execution_count": null,
   "id": "7fd66fe1",
   "metadata": {},
   "outputs": [],
   "source": []
  }
 ],
 "metadata": {
  "kernelspec": {
   "display_name": "Python 3 (ipykernel)",
   "language": "python",
   "name": "python3"
  },
  "language_info": {
   "codemirror_mode": {
    "name": "ipython",
    "version": 3
   },
   "file_extension": ".py",
   "mimetype": "text/x-python",
   "name": "python",
   "nbconvert_exporter": "python",
   "pygments_lexer": "ipython3",
   "version": "3.8.8"
  }
 },
 "nbformat": 4,
 "nbformat_minor": 5
}
