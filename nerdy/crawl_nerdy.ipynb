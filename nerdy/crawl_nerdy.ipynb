{
 "cells": [
  {
   "cell_type": "code",
   "execution_count": 6,
   "id": "b8eaea1f",
   "metadata": {},
   "outputs": [
    {
     "name": "stdout",
     "output_type": "stream",
     "text": [
      "Requirement already satisfied: chromedriver-autoinstaller in c:\\users\\jjssk\\anaconda3\\lib\\site-packages (0.6.2)\n",
      "Note: you may need to restart the kernel to use updated packages.\n"
     ]
    }
   ],
   "source": [
    "pip install chromedriver-autoinstaller"
   ]
  },
  {
   "cell_type": "code",
   "execution_count": 7,
   "id": "8f8a42a5",
   "metadata": {},
   "outputs": [
    {
     "name": "stdout",
     "output_type": "stream",
     "text": [
      "Requirement already satisfied: selenium in c:\\users\\jjssk\\anaconda3\\lib\\site-packages (4.11.2)\n",
      "Requirement already satisfied: trio-websocket~=0.9 in c:\\users\\jjssk\\anaconda3\\lib\\site-packages (from selenium) (0.10.3)\n",
      "Requirement already satisfied: certifi>=2021.10.8 in c:\\users\\jjssk\\anaconda3\\lib\\site-packages (from selenium) (2023.7.22)\n",
      "Requirement already satisfied: urllib3[socks]<3,>=1.26 in c:\\users\\jjssk\\anaconda3\\lib\\site-packages (from selenium) (1.26.4)\n",
      "Requirement already satisfied: trio~=0.17 in c:\\users\\jjssk\\anaconda3\\lib\\site-packages (from selenium) (0.22.2)\n",
      "Requirement already satisfied: cffi>=1.14 in c:\\users\\jjssk\\anaconda3\\lib\\site-packages (from trio~=0.17->selenium) (1.14.5)\n",
      "Requirement already satisfied: attrs>=20.1.0 in c:\\users\\jjssk\\anaconda3\\lib\\site-packages (from trio~=0.17->selenium) (20.3.0)\n",
      "Requirement already satisfied: idna in c:\\users\\jjssk\\anaconda3\\lib\\site-packages (from trio~=0.17->selenium) (2.10)\n",
      "Requirement already satisfied: sniffio in c:\\users\\jjssk\\anaconda3\\lib\\site-packages (from trio~=0.17->selenium) (1.2.0)\n",
      "Requirement already satisfied: exceptiongroup>=1.0.0rc9 in c:\\users\\jjssk\\anaconda3\\lib\\site-packages (from trio~=0.17->selenium) (1.1.3)\n",
      "Requirement already satisfied: outcome in c:\\users\\jjssk\\anaconda3\\lib\\site-packages (from trio~=0.17->selenium) (1.2.0)\n",
      "Requirement already satisfied: sortedcontainers in c:\\users\\jjssk\\anaconda3\\lib\\site-packages (from trio~=0.17->selenium) (2.3.0)\n",
      "Requirement already satisfied: pycparser in c:\\users\\jjssk\\anaconda3\\lib\\site-packages (from cffi>=1.14->trio~=0.17->selenium) (2.20)\n",
      "Requirement already satisfied: wsproto>=0.14 in c:\\users\\jjssk\\anaconda3\\lib\\site-packages (from trio-websocket~=0.9->selenium) (1.2.0)\n",
      "Requirement already satisfied: PySocks!=1.5.7,<2.0,>=1.5.6 in c:\\users\\jjssk\\anaconda3\\lib\\site-packages (from urllib3[socks]<3,>=1.26->selenium) (1.7.1)\n",
      "Requirement already satisfied: h11<1,>=0.9.0 in c:\\users\\jjssk\\anaconda3\\lib\\site-packages (from wsproto>=0.14->trio-websocket~=0.9->selenium) (0.14.0)\n",
      "Note: you may need to restart the kernel to use updated packages.\n"
     ]
    }
   ],
   "source": [
    "pip install selenium"
   ]
  },
  {
   "cell_type": "code",
   "execution_count": 8,
   "id": "3884d041",
   "metadata": {},
   "outputs": [],
   "source": [
    "import chromedriver_autoinstaller\n",
    "from selenium import webdriver\n",
    "import time\n",
    "\n",
    "class Driver:\n",
    "    @staticmethod\n",
    "    def driver_init():\n",
    "        chromedriver_autoinstaller.install()\n",
    "        options = webdriver.ChromeOptions()\n",
    "#         options.add_argument('headless') # jupyter notebook 환경에서 주석처리\n",
    "        options.add_argument('lang=ko_KR')\n",
    "        options.add_argument(\"user-agent=Mozilla/5.0 (Windows NT 10.0; Win64; x64) AppleWebKit/537.36 (KHTML, like Gecko) Chrome/104.0.0.0 Safari/537.36\")\n",
    "        options.add_argument('--no-sandbox')\n",
    "        options.add_argument('--disable-notifications')\n",
    "        options.add_argument('--disable-popup-blocking')\n",
    "        options.add_argument('--disable-dev-shm-usage')\n",
    "        options.add_argument('--disable-browser-side-navigation')\n",
    "        options.add_argument('disable-gpu')\n",
    "\n",
    "        driver = webdriver.Chrome(options=options)\n",
    "        driver.set_window_size(1600, 1100)\n",
    "\n",
    "        return driver"
   ]
  },
  {
   "cell_type": "code",
   "execution_count": 9,
   "id": "3a8524f6",
   "metadata": {},
   "outputs": [
    {
     "name": "stderr",
     "output_type": "stream",
     "text": [
      "WARNING:root:Can not find chromedriver for currently installed chrome version.\n"
     ]
    }
   ],
   "source": [
    "driver = Driver.driver_init()"
   ]
  },
  {
   "cell_type": "code",
   "execution_count": 10,
   "id": "6773322c",
   "metadata": {},
   "outputs": [],
   "source": [
    "def find_product_paths(urls):\n",
    "    product_paths = []\n",
    "    \n",
    "    ## 상의/자켓/하의 분류 루프\n",
    "    for (url, pages_cnt) in urls:\n",
    "        ## 각 옷 분류의 페이지 갯수 루프\n",
    "        for page_num in range(pages_cnt):\n",
    "            try:\n",
    "                driver.get(url + \"&page=\" + str(page_num+1))\n",
    "            except:\n",
    "                continue\n",
    "\n",
    "            products = driver.find_elements('xpath', '//ul[@class=\"prdNeo prd_set\"]/li')\n",
    "            products_cnt = len(products)\n",
    "\n",
    "            ## 각 product의 path를 product_paths 리스트에 저장\n",
    "            for i in range(products_cnt):\n",
    "                product = driver.find_elements('xpath', '//ul[@class=\"prdNeo prd_set\"]/li')[i]\n",
    "                product_path = product.find_element('xpath', './div/div[@class=\"thumbnail on\"]/a').get_attribute('href')\n",
    "                product_paths.append(product_path)\n",
    "                \n",
    "    return product_paths"
   ]
  },
  {
   "cell_type": "code",
   "execution_count": 19,
   "id": "28d0ae9e",
   "metadata": {},
   "outputs": [],
   "source": [
    "def find_all_color_paths(product_paths):\n",
    "    all_color_paths = []\n",
    "    \n",
    "    for product_path in product_paths:\n",
    "        ## 기존의 product_path 추가\n",
    "        all_color_paths.append(product_path)\n",
    "        \n",
    "        try:\n",
    "            driver.get(product_path)\n",
    "        except:\n",
    "            continue\n",
    "            \n",
    "        other_color_products = driver.find_elements('xpath','//div[@id=\"product_relation\"]/div[@class=\"xans-element- xans-product xans-product-relationlist relate_thumbs_img noSlide\"]/ul/li')\n",
    "        other_products_cnt = len(other_color_products)\n",
    "        \n",
    "        ## 다른 색들의 product_path 추가\n",
    "        for i in range(other_products_cnt):\n",
    "            other_product = driver.find_elements('xpath','//div[@id=\"product_relation\"]/div[@class=\"xans-element- xans-product xans-product-relationlist relate_thumbs_img noSlide\"]/ul/li')[i]\n",
    "            other_product_path = other_product.find_element('xpath', './div/a').get_attribute('href')\n",
    "            all_color_paths.append(other_product_path)\n",
    "    \n",
    "    return all_color_paths\n",
    "            "
   ]
  },
  {
   "cell_type": "code",
   "execution_count": null,
   "id": "7cad9cbc",
   "metadata": {},
   "outputs": [],
   "source": [
    "def crawl_pages(product_paths):\n",
    "    \n",
    "    base_dict= {\"baseCat\":[], \"baseName\": [], \"baseCode\": [], \"baseUrl\": [], \"colorName\": [],\n",
    "            \"baseGender\": [], \"price\": [], \"basePrice\": [], \"colorFabric\": [], \"imageUrl\": [],\n",
    "            \"size\": [], \"isAvailable\": []\n",
    "            }\n",
    "    \n",
    "    ## 드라이버 초기화\n",
    "    driver = Driver.driver_init()\n",
    "    ## 각 product에 대한 정보 추출\n",
    "    for product_path in product_paths:\n",
    "        driver.get(product_path)\n",
    "\n",
    "        cat = 'top'\n",
    "        if \"cate_no=30\" in product_path or \"cate_no=61\" in product_path:\n",
    "            cat = 'top'\n",
    "        elif \"cate_no=31\" in product_path:\n",
    "            cat = 'bottom'\n",
    "\n",
    "        baseURL = product_path\n",
    "        base_gender = 0\n",
    "        text_info = driver.find_element('xpath', '//div[@class=\"detail_top_right\"]')\n",
    "#         imageURL = driver.find_element('xpath','//img[@class=\"BigImage \"]').get_attribute('src')\n",
    "\n",
    "        base_name = text_info.find_element('xpath', './div[@class=\"prd_name_wrap\"]/h2').text\n",
    "        color_name = base_name.split(\" \")[-1]\n",
    "        base_code = base_name.replace(color_name, \"\")[:-1]\n",
    "\n",
    "        base_price = \"\"\n",
    "        price = \"\"\n",
    "        color_fabric = \"\"\n",
    "        trs = text_info.find_elements(\"xpath\",'./div[2]/table/tbody/tr') #body의 table 항목 갯수                       \n",
    "        if len(trs) == 5:\n",
    "            base_price = text_info.find_element(\"xpath\",'.//strong[@id=\"span_product_price_text\"]').text\n",
    "            price = text_info.find_element(\"xpath\",'.//span[@id=\"span_product_price_sale\"]').text\n",
    "            color_fabric = text_info.find_element(\"xpath\",'./div[2]/table/tbody/tr[5]/td/span').text\n",
    "        elif len(trs) == 4:\n",
    "            base_price = text_info.find_element(\"xpath\",'.//strong[@id=\"span_product_price_text\"]').text\n",
    "            price = base_price\n",
    "            color_fabric = text_info.find_element(\"xpath\",'./div[2]/table/tbody/tr[4]/td/span').text\n",
    "        elif len(trs) == 3:\n",
    "            base_price = text_info.find_element(\"xpath\",'.//strong[@id=\"span_product_price_text\"]').text\n",
    "            price = base_price\n",
    "            color_fabric = \"\"\n",
    "        elif len(trs) == 2:\n",
    "            base_price = \"\"\n",
    "            price = \"\"\n",
    "            color_fabric = \"\"\n",
    "            \n",
    "\n",
    "        size_elements = text_info.find_elements(\"xpath\",'.//optgroup[@label=\"사이즈\"]/option')\n",
    "        size = \"M\"\n",
    "        is_available = True\n",
    "\n",
    "        for element in size_elements:\n",
    "            size = element.text.replace(\" [품절]\",\"\")\n",
    "            if \"[품절]\" in element.text:\n",
    "                is_available = False\n",
    "            else:\n",
    "                is_available = True\n",
    "\n",
    "            base_dict[\"baseCat\"].append(cat)\n",
    "            base_dict[\"baseName\"].append(base_name)\n",
    "            base_dict[\"baseCode\"].append(base_code)\n",
    "            base_dict[\"baseUrl\"].append(baseURL)\n",
    "            base_dict[\"colorName\"].append(color_name)\n",
    "            base_dict[\"baseGender\"].append(0)\n",
    "            base_dict[\"price\"].append(price)\n",
    "            base_dict[\"basePrice\"].append(base_price)\n",
    "            base_dict[\"colorFabric\"].append(color_fabric)\n",
    "            base_dict[\"imageUrl\"].append(imageURL)\n",
    "            base_dict[\"size\"].append(size)\n",
    "            base_dict[\"isAvailable\"].append(is_available)\n",
    "            \n",
    "    return base_dict"
   ]
  },
  {
   "cell_type": "code",
   "execution_count": 12,
   "id": "3899b48b",
   "metadata": {},
   "outputs": [],
   "source": [
    "import pandas as pd"
   ]
  },
  {
   "cell_type": "code",
   "execution_count": 13,
   "id": "efcec33f",
   "metadata": {},
   "outputs": [
    {
     "name": "stdout",
     "output_type": "stream",
     "text": [
      "777\n"
     ]
    }
   ],
   "source": [
    "urls = [\n",
    "        ('https://whoisnerdy.com/product/list.html?cate_no=30', 15), #상의\n",
    "        ('https://whoisnerdy.com/product/list.html?cate_no=61', 5), #자켓\n",
    "        ('https://whoisnerdy.com/product/list.html?cate_no=31', 7), #하의\n",
    "         ]\n",
    "\n",
    "product_paths = find_product_paths(urls)\n",
    "print(len(product_paths))"
   ]
  },
  {
   "cell_type": "code",
   "execution_count": 20,
   "id": "a3870dc9",
   "metadata": {},
   "outputs": [
    {
     "ename": "WebDriverException",
     "evalue": "Message: disconnected: not connected to DevTools\n  (failed to check if window was closed: disconnected: not connected to DevTools)\n  (Session info: chrome=116.0.5845.112)\nStacktrace:\n\tGetHandleVerifier [0x00007FF6199A52A2+57122]\n\t(No symbol) [0x00007FF61991EA92]\n\t(No symbol) [0x00007FF6197EE3AB]\n\t(No symbol) [0x00007FF6197DBA47]\n\t(No symbol) [0x00007FF6197DB6C0]\n\t(No symbol) [0x00007FF6197EFA71]\n\t(No symbol) [0x00007FF61985E27F]\n\t(No symbol) [0x00007FF619846DB3]\n\t(No symbol) [0x00007FF61981D2B1]\n\t(No symbol) [0x00007FF61981E494]\n\tGetHandleVerifier [0x00007FF619C4EF82+2849794]\n\tGetHandleVerifier [0x00007FF619CA1D24+3189156]\n\tGetHandleVerifier [0x00007FF619C9ACAF+3160367]\n\tGetHandleVerifier [0x00007FF619A36D06+653702]\n\t(No symbol) [0x00007FF61992A208]\n\t(No symbol) [0x00007FF6199262C4]\n\t(No symbol) [0x00007FF6199263F6]\n\t(No symbol) [0x00007FF6199167A3]\n\tBaseThreadInitThunk [0x00007FFAFA1C26AD+29]\n\tRtlUserThreadStart [0x00007FFAFB20AA68+40]\n",
     "output_type": "error",
     "traceback": [
      "\u001b[1;31m---------------------------------------------------------------------------\u001b[0m",
      "\u001b[1;31mWebDriverException\u001b[0m                        Traceback (most recent call last)",
      "\u001b[1;32m<ipython-input-20-cbc64ff70d1b>\u001b[0m in \u001b[0;36m<module>\u001b[1;34m\u001b[0m\n\u001b[1;32m----> 1\u001b[1;33m \u001b[0mall_color_paths\u001b[0m \u001b[1;33m=\u001b[0m \u001b[0mfind_all_color_paths\u001b[0m\u001b[1;33m(\u001b[0m\u001b[0mproduct_paths\u001b[0m\u001b[1;33m)\u001b[0m\u001b[1;33m\u001b[0m\u001b[1;33m\u001b[0m\u001b[0m\n\u001b[0m\u001b[0;32m      2\u001b[0m \u001b[0mprint\u001b[0m\u001b[1;33m(\u001b[0m\u001b[0mlen\u001b[0m\u001b[1;33m(\u001b[0m\u001b[0mall_color_paths\u001b[0m\u001b[1;33m)\u001b[0m\u001b[1;33m)\u001b[0m\u001b[1;33m\u001b[0m\u001b[1;33m\u001b[0m\u001b[0m\n",
      "\u001b[1;32m<ipython-input-19-232c459d6d99>\u001b[0m in \u001b[0;36mfind_all_color_paths\u001b[1;34m(product_paths)\u001b[0m\n\u001b[0;32m     11\u001b[0m             \u001b[1;32mcontinue\u001b[0m\u001b[1;33m\u001b[0m\u001b[1;33m\u001b[0m\u001b[0m\n\u001b[0;32m     12\u001b[0m \u001b[1;33m\u001b[0m\u001b[0m\n\u001b[1;32m---> 13\u001b[1;33m         \u001b[0mother_color_products\u001b[0m \u001b[1;33m=\u001b[0m \u001b[0mdriver\u001b[0m\u001b[1;33m.\u001b[0m\u001b[0mfind_elements\u001b[0m\u001b[1;33m(\u001b[0m\u001b[1;34m'xpath'\u001b[0m\u001b[1;33m,\u001b[0m\u001b[1;34m'//div[@id=\"product_relation\"]/div[@class=\"xans-element- xans-product xans-product-relationlist relate_thumbs_img noSlide\"]/ul/li'\u001b[0m\u001b[1;33m)\u001b[0m\u001b[1;33m\u001b[0m\u001b[1;33m\u001b[0m\u001b[0m\n\u001b[0m\u001b[0;32m     14\u001b[0m         \u001b[0mother_products_cnt\u001b[0m \u001b[1;33m=\u001b[0m \u001b[0mlen\u001b[0m\u001b[1;33m(\u001b[0m\u001b[0mother_color_products\u001b[0m\u001b[1;33m)\u001b[0m\u001b[1;33m\u001b[0m\u001b[1;33m\u001b[0m\u001b[0m\n\u001b[0;32m     15\u001b[0m \u001b[1;33m\u001b[0m\u001b[0m\n",
      "\u001b[1;32m~\\anaconda3\\lib\\site-packages\\selenium\\webdriver\\remote\\webdriver.py\u001b[0m in \u001b[0;36mfind_elements\u001b[1;34m(self, by, value)\u001b[0m\n\u001b[0;32m    767\u001b[0m         \u001b[1;31m# Return empty list if driver returns null\u001b[0m\u001b[1;33m\u001b[0m\u001b[1;33m\u001b[0m\u001b[1;33m\u001b[0m\u001b[0m\n\u001b[0;32m    768\u001b[0m         \u001b[1;31m# See https://github.com/SeleniumHQ/selenium/issues/4555\u001b[0m\u001b[1;33m\u001b[0m\u001b[1;33m\u001b[0m\u001b[1;33m\u001b[0m\u001b[0m\n\u001b[1;32m--> 769\u001b[1;33m         \u001b[1;32mreturn\u001b[0m \u001b[0mself\u001b[0m\u001b[1;33m.\u001b[0m\u001b[0mexecute\u001b[0m\u001b[1;33m(\u001b[0m\u001b[0mCommand\u001b[0m\u001b[1;33m.\u001b[0m\u001b[0mFIND_ELEMENTS\u001b[0m\u001b[1;33m,\u001b[0m \u001b[1;33m{\u001b[0m\u001b[1;34m\"using\"\u001b[0m\u001b[1;33m:\u001b[0m \u001b[0mby\u001b[0m\u001b[1;33m,\u001b[0m \u001b[1;34m\"value\"\u001b[0m\u001b[1;33m:\u001b[0m \u001b[0mvalue\u001b[0m\u001b[1;33m}\u001b[0m\u001b[1;33m)\u001b[0m\u001b[1;33m[\u001b[0m\u001b[1;34m\"value\"\u001b[0m\u001b[1;33m]\u001b[0m \u001b[1;32mor\u001b[0m \u001b[1;33m[\u001b[0m\u001b[1;33m]\u001b[0m\u001b[1;33m\u001b[0m\u001b[1;33m\u001b[0m\u001b[0m\n\u001b[0m\u001b[0;32m    770\u001b[0m \u001b[1;33m\u001b[0m\u001b[0m\n\u001b[0;32m    771\u001b[0m     \u001b[1;33m@\u001b[0m\u001b[0mproperty\u001b[0m\u001b[1;33m\u001b[0m\u001b[1;33m\u001b[0m\u001b[0m\n",
      "\u001b[1;32m~\\anaconda3\\lib\\site-packages\\selenium\\webdriver\\remote\\webdriver.py\u001b[0m in \u001b[0;36mexecute\u001b[1;34m(self, driver_command, params)\u001b[0m\n\u001b[0;32m    343\u001b[0m         \u001b[0mresponse\u001b[0m \u001b[1;33m=\u001b[0m \u001b[0mself\u001b[0m\u001b[1;33m.\u001b[0m\u001b[0mcommand_executor\u001b[0m\u001b[1;33m.\u001b[0m\u001b[0mexecute\u001b[0m\u001b[1;33m(\u001b[0m\u001b[0mdriver_command\u001b[0m\u001b[1;33m,\u001b[0m \u001b[0mparams\u001b[0m\u001b[1;33m)\u001b[0m\u001b[1;33m\u001b[0m\u001b[1;33m\u001b[0m\u001b[0m\n\u001b[0;32m    344\u001b[0m         \u001b[1;32mif\u001b[0m \u001b[0mresponse\u001b[0m\u001b[1;33m:\u001b[0m\u001b[1;33m\u001b[0m\u001b[1;33m\u001b[0m\u001b[0m\n\u001b[1;32m--> 345\u001b[1;33m             \u001b[0mself\u001b[0m\u001b[1;33m.\u001b[0m\u001b[0merror_handler\u001b[0m\u001b[1;33m.\u001b[0m\u001b[0mcheck_response\u001b[0m\u001b[1;33m(\u001b[0m\u001b[0mresponse\u001b[0m\u001b[1;33m)\u001b[0m\u001b[1;33m\u001b[0m\u001b[1;33m\u001b[0m\u001b[0m\n\u001b[0m\u001b[0;32m    346\u001b[0m             \u001b[0mresponse\u001b[0m\u001b[1;33m[\u001b[0m\u001b[1;34m\"value\"\u001b[0m\u001b[1;33m]\u001b[0m \u001b[1;33m=\u001b[0m \u001b[0mself\u001b[0m\u001b[1;33m.\u001b[0m\u001b[0m_unwrap_value\u001b[0m\u001b[1;33m(\u001b[0m\u001b[0mresponse\u001b[0m\u001b[1;33m.\u001b[0m\u001b[0mget\u001b[0m\u001b[1;33m(\u001b[0m\u001b[1;34m\"value\"\u001b[0m\u001b[1;33m,\u001b[0m \u001b[1;32mNone\u001b[0m\u001b[1;33m)\u001b[0m\u001b[1;33m)\u001b[0m\u001b[1;33m\u001b[0m\u001b[1;33m\u001b[0m\u001b[0m\n\u001b[0;32m    347\u001b[0m             \u001b[1;32mreturn\u001b[0m \u001b[0mresponse\u001b[0m\u001b[1;33m\u001b[0m\u001b[1;33m\u001b[0m\u001b[0m\n",
      "\u001b[1;32m~\\anaconda3\\lib\\site-packages\\selenium\\webdriver\\remote\\errorhandler.py\u001b[0m in \u001b[0;36mcheck_response\u001b[1;34m(self, response)\u001b[0m\n\u001b[0;32m    227\u001b[0m                 \u001b[0malert_text\u001b[0m \u001b[1;33m=\u001b[0m \u001b[0mvalue\u001b[0m\u001b[1;33m[\u001b[0m\u001b[1;34m\"alert\"\u001b[0m\u001b[1;33m]\u001b[0m\u001b[1;33m.\u001b[0m\u001b[0mget\u001b[0m\u001b[1;33m(\u001b[0m\u001b[1;34m\"text\"\u001b[0m\u001b[1;33m)\u001b[0m\u001b[1;33m\u001b[0m\u001b[1;33m\u001b[0m\u001b[0m\n\u001b[0;32m    228\u001b[0m             \u001b[1;32mraise\u001b[0m \u001b[0mexception_class\u001b[0m\u001b[1;33m(\u001b[0m\u001b[0mmessage\u001b[0m\u001b[1;33m,\u001b[0m \u001b[0mscreen\u001b[0m\u001b[1;33m,\u001b[0m \u001b[0mstacktrace\u001b[0m\u001b[1;33m,\u001b[0m \u001b[0malert_text\u001b[0m\u001b[1;33m)\u001b[0m  \u001b[1;31m# type: ignore[call-arg]  # mypy is not smart enough here\u001b[0m\u001b[1;33m\u001b[0m\u001b[1;33m\u001b[0m\u001b[0m\n\u001b[1;32m--> 229\u001b[1;33m         \u001b[1;32mraise\u001b[0m \u001b[0mexception_class\u001b[0m\u001b[1;33m(\u001b[0m\u001b[0mmessage\u001b[0m\u001b[1;33m,\u001b[0m \u001b[0mscreen\u001b[0m\u001b[1;33m,\u001b[0m \u001b[0mstacktrace\u001b[0m\u001b[1;33m)\u001b[0m\u001b[1;33m\u001b[0m\u001b[1;33m\u001b[0m\u001b[0m\n\u001b[0m",
      "\u001b[1;31mWebDriverException\u001b[0m: Message: disconnected: not connected to DevTools\n  (failed to check if window was closed: disconnected: not connected to DevTools)\n  (Session info: chrome=116.0.5845.112)\nStacktrace:\n\tGetHandleVerifier [0x00007FF6199A52A2+57122]\n\t(No symbol) [0x00007FF61991EA92]\n\t(No symbol) [0x00007FF6197EE3AB]\n\t(No symbol) [0x00007FF6197DBA47]\n\t(No symbol) [0x00007FF6197DB6C0]\n\t(No symbol) [0x00007FF6197EFA71]\n\t(No symbol) [0x00007FF61985E27F]\n\t(No symbol) [0x00007FF619846DB3]\n\t(No symbol) [0x00007FF61981D2B1]\n\t(No symbol) [0x00007FF61981E494]\n\tGetHandleVerifier [0x00007FF619C4EF82+2849794]\n\tGetHandleVerifier [0x00007FF619CA1D24+3189156]\n\tGetHandleVerifier [0x00007FF619C9ACAF+3160367]\n\tGetHandleVerifier [0x00007FF619A36D06+653702]\n\t(No symbol) [0x00007FF61992A208]\n\t(No symbol) [0x00007FF6199262C4]\n\t(No symbol) [0x00007FF6199263F6]\n\t(No symbol) [0x00007FF6199167A3]\n\tBaseThreadInitThunk [0x00007FFAFA1C26AD+29]\n\tRtlUserThreadStart [0x00007FFAFB20AA68+40]\n"
     ]
    }
   ],
   "source": [
    "all_color_paths = find_all_color_paths(product_paths)\n",
    "print(len(all_color_paths))"
   ]
  },
  {
   "cell_type": "code",
   "execution_count": null,
   "id": "565fe62d",
   "metadata": {},
   "outputs": [],
   "source": []
  },
  {
   "cell_type": "code",
   "execution_count": null,
   "id": "ceff01fe",
   "metadata": {},
   "outputs": [],
   "source": []
  }
 ],
 "metadata": {
  "kernelspec": {
   "display_name": "Python 3",
   "language": "python",
   "name": "python3"
  },
  "language_info": {
   "codemirror_mode": {
    "name": "ipython",
    "version": 3
   },
   "file_extension": ".py",
   "mimetype": "text/x-python",
   "name": "python",
   "nbconvert_exporter": "python",
   "pygments_lexer": "ipython3",
   "version": "3.8.8"
  }
 },
 "nbformat": 4,
 "nbformat_minor": 5
}
