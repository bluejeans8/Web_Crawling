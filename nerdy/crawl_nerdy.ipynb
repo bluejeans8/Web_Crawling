{
 "cells": [
  {
   "cell_type": "code",
   "execution_count": 1,
   "id": "b8eaea1f",
   "metadata": {},
   "outputs": [
    {
     "name": "stdout",
     "output_type": "stream",
     "text": [
      "\n",
      "C:\\Users\\User\\Web_Crawling\\nerdy>doskey defects4j=perl C:\\Users\\User\\defects4j\\framework\\bin\\defects4j $* \n",
      "Requirement already satisfied: chromedriver-autoinstaller in c:\\users\\user\\anaconda3\\lib\\site-packages (0.6.2)\n",
      "Note: you may need to restart the kernel to use updated packages.\n"
     ]
    },
    {
     "name": "stderr",
     "output_type": "stream",
     "text": [
      "WARNING: There was an error checking the latest version of pip.\n"
     ]
    }
   ],
   "source": [
    "pip install chromedriver-autoinstaller"
   ]
  },
  {
   "cell_type": "code",
   "execution_count": 2,
   "id": "8f8a42a5",
   "metadata": {},
   "outputs": [
    {
     "name": "stdout",
     "output_type": "stream",
     "text": [
      "\n",
      "C:\\Users\\User\\Web_Crawling\\nerdy>doskey defects4j=perl C:\\Users\\User\\defects4j\\framework\\bin\\defects4j $* \n",
      "Requirement already satisfied: selenium in c:\\users\\user\\anaconda3\\lib\\site-packages (4.11.2)\n",
      "Requirement already satisfied: trio~=0.17 in c:\\users\\user\\anaconda3\\lib\\site-packages (from selenium) (0.22.2)\n",
      "Requirement already satisfied: certifi>=2021.10.8 in c:\\users\\user\\anaconda3\\lib\\site-packages (from selenium) (2023.7.22)\n",
      "Requirement already satisfied: urllib3[socks]<3,>=1.26 in c:\\users\\user\\anaconda3\\lib\\site-packages (from selenium) (1.26.6)\n",
      "Requirement already satisfied: trio-websocket~=0.9 in c:\\users\\user\\anaconda3\\lib\\site-packages (from selenium) (0.10.3)\n",
      "Requirement already satisfied: attrs>=20.1.0 in c:\\users\\user\\anaconda3\\lib\\site-packages (from trio~=0.17->selenium) (21.2.0)\n",
      "Requirement already satisfied: idna in c:\\users\\user\\anaconda3\\lib\\site-packages (from trio~=0.17->selenium) (3.2)\n",
      "Requirement already satisfied: outcome in c:\\users\\user\\anaconda3\\lib\\site-packages (from trio~=0.17->selenium) (1.2.0)\n",
      "Requirement already satisfied: cffi>=1.14 in c:\\users\\user\\anaconda3\\lib\\site-packages (from trio~=0.17->selenium) (1.14.6)\n",
      "Requirement already satisfied: sniffio in c:\\users\\user\\anaconda3\\lib\\site-packages (from trio~=0.17->selenium) (1.2.0)\n",
      "Requirement already satisfied: sortedcontainers in c:\\users\\user\\anaconda3\\lib\\site-packages (from trio~=0.17->selenium) (2.4.0)\n",
      "Requirement already satisfied: exceptiongroup>=1.0.0rc9 in c:\\users\\user\\anaconda3\\lib\\site-packages (from trio~=0.17->selenium) (1.1.3)\n",
      "Requirement already satisfied: wsproto>=0.14 in c:\\users\\user\\anaconda3\\lib\\site-packages (from trio-websocket~=0.9->selenium) (1.2.0)\n",
      "Requirement already satisfied: PySocks!=1.5.7,<2.0,>=1.5.6 in c:\\users\\user\\anaconda3\\lib\\site-packages (from urllib3[socks]<3,>=1.26->selenium) (1.7.1)\n",
      "Requirement already satisfied: pycparser in c:\\users\\user\\anaconda3\\lib\\site-packages (from cffi>=1.14->trio~=0.17->selenium) (2.20)\n",
      "Requirement already satisfied: h11<1,>=0.9.0 in c:\\users\\user\\anaconda3\\lib\\site-packages (from wsproto>=0.14->trio-websocket~=0.9->selenium) (0.14.0)\n",
      "Note: you may need to restart the kernel to use updated packages.\n"
     ]
    },
    {
     "name": "stderr",
     "output_type": "stream",
     "text": [
      "WARNING: There was an error checking the latest version of pip.\n"
     ]
    }
   ],
   "source": [
    "pip install selenium"
   ]
  },
  {
   "cell_type": "code",
   "execution_count": 3,
   "id": "3884d041",
   "metadata": {},
   "outputs": [],
   "source": [
    "import chromedriver_autoinstaller\n",
    "from selenium import webdriver\n",
    "import time\n",
    "\n",
    "class Driver:\n",
    "    @staticmethod\n",
    "    def driver_init():\n",
    "        chromedriver_autoinstaller.install()\n",
    "        options = webdriver.ChromeOptions()\n",
    "#         options.add_argument('headless') # jupyter notebook 환경에서 주석처리\n",
    "        options.add_argument('lang=ko_KR')\n",
    "        options.add_argument(\"user-agent=Mozilla/5.0 (Windows NT 10.0; Win64; x64) AppleWebKit/537.36 (KHTML, like Gecko) Chrome/104.0.0.0 Safari/537.36\")\n",
    "        options.add_argument('--no-sandbox')\n",
    "        options.add_argument('--disable-notifications')\n",
    "        options.add_argument('--disable-popup-blocking')\n",
    "        options.add_argument('--disable-dev-shm-usage')\n",
    "        options.add_argument('--disable-browser-side-navigation')\n",
    "        options.add_argument('disable-gpu')\n",
    "\n",
    "        driver = webdriver.Chrome(options=options)\n",
    "        driver.set_window_size(1600, 1100)\n",
    "\n",
    "        return driver"
   ]
  },
  {
   "cell_type": "code",
   "execution_count": 4,
   "id": "3a8524f6",
   "metadata": {},
   "outputs": [
    {
     "name": "stderr",
     "output_type": "stream",
     "text": [
      "WARNING:root:Can not find chromedriver for currently installed chrome version.\n"
     ]
    }
   ],
   "source": [
    "driver = Driver.driver_init()"
   ]
  },
  {
   "cell_type": "code",
   "execution_count": 5,
   "id": "6773322c",
   "metadata": {},
   "outputs": [],
   "source": [
    "def find_product_paths(urls):\n",
    "    product_paths = []\n",
    "    \n",
    "    ## 상의/자켓/하의 분류 루프\n",
    "    for (url, pages_cnt) in urls:\n",
    "        ## 각 옷 분류의 페이지 갯수 루프\n",
    "        for page_num in range(pages_cnt):\n",
    "            try:\n",
    "                driver.get(url + \"&page=\" + str(page_num+1))\n",
    "            except:\n",
    "                continue\n",
    "\n",
    "            products = driver.find_elements('xpath', '//ul[@class=\"prdNeo prd_set\"]/li')\n",
    "            products_cnt = len(products)\n",
    "\n",
    "            ## 각 product의 path를 product_paths 리스트에 저장\n",
    "            for i in range(products_cnt):\n",
    "                product = driver.find_elements('xpath', '//ul[@class=\"prdNeo prd_set\"]/li')[i]\n",
    "                product_path = product.find_element('xpath', './div/div[@class=\"thumbnail on\"]/a').get_attribute('href')\n",
    "                product_paths.append(product_path)\n",
    "                \n",
    "    return product_paths"
   ]
  },
  {
   "cell_type": "code",
   "execution_count": 6,
   "id": "28d0ae9e",
   "metadata": {},
   "outputs": [],
   "source": [
    "def find_all_color_paths(product_paths):\n",
    "    all_color_paths = []\n",
    "    \n",
    "    for product_path in product_paths:\n",
    "        ## 기존의 product_path 추가\n",
    "        all_color_paths.append(product_path)\n",
    "        \n",
    "        try:\n",
    "            driver.get(product_path)\n",
    "        except:\n",
    "            continue\n",
    "            \n",
    "        other_color_products = driver.find_elements('xpath','//div[@id=\"product_relation\"]/div[@class=\"xans-element- xans-product xans-product-relationlist relate_thumbs_img noSlide\"]/ul/li')\n",
    "        other_products_cnt = len(other_color_products)\n",
    "        \n",
    "        ## 다른 색들의 product_path 추가\n",
    "        for i in range(other_products_cnt):\n",
    "            other_product = driver.find_elements('xpath','//div[@id=\"product_relation\"]/div[@class=\"xans-element- xans-product xans-product-relationlist relate_thumbs_img noSlide\"]/ul/li')[i]\n",
    "            other_product_path = other_product.find_element('xpath', './div/a').get_attribute('href')\n",
    "            all_color_paths.append(other_product_path)\n",
    "    \n",
    "    return all_color_paths\n",
    "            "
   ]
  },
  {
   "cell_type": "code",
   "execution_count": 7,
   "id": "8422e5be",
   "metadata": {},
   "outputs": [],
   "source": [
    "def append_data(base_dict, cat, base_name, base_code, baseURL, color_name, base_gender, price, base_price, color_fabric, imageURL, size, is_available):\n",
    "    base_dict[\"baseCat\"].append(cat)\n",
    "    base_dict[\"baseName\"].append(base_name)\n",
    "    base_dict[\"baseCode\"].append(base_code)\n",
    "    base_dict[\"baseUrl\"].append(baseURL)\n",
    "    base_dict[\"colorName\"].append(color_name)\n",
    "    base_dict[\"baseGender\"].append(base_gender)\n",
    "    base_dict[\"price\"].append(price)\n",
    "    base_dict[\"basePrice\"].append(base_price)\n",
    "    base_dict[\"colorFabric\"].append(color_fabric)\n",
    "    base_dict[\"imageUrl\"].append(imageURL)\n",
    "    base_dict[\"size\"].append(size)\n",
    "    base_dict[\"isAvailable\"].append(is_available)"
   ]
  },
  {
   "cell_type": "code",
   "execution_count": 31,
   "id": "7cad9cbc",
   "metadata": {},
   "outputs": [],
   "source": [
    "from selenium.webdriver.support.ui import Select\n",
    "from selenium.webdriver.support.ui import WebDriverWait\n",
    "from selenium.webdriver.common.by import By\n",
    "from selenium.webdriver.support import expected_conditions as EC\n",
    "from selenium.common.exceptions import NoSuchElementException, ElementNotInteractableException\n",
    "\n",
    "\n",
    "\n",
    "def crawl_pages(product_paths):\n",
    "    \n",
    "    base_dict= {\"baseCat\":[], \"baseName\": [], \"baseCode\": [], \"baseUrl\": [], \"colorName\": [],\n",
    "            \"baseGender\": [], \"price\": [], \"basePrice\": [], \"colorFabric\": [], \"imageUrl\": [],\n",
    "            \"size\": [], \"isAvailable\": []\n",
    "            }\n",
    "    \n",
    "    ## 드라이버 초기화\n",
    "    driver = Driver.driver_init()\n",
    "    ## 각 product에 대한 정보 추출\n",
    "    for product_path in product_paths:\n",
    "        driver.get(product_path)\n",
    "        \n",
    "        \n",
    "        ## URL을 통해 cat 정보 추출\n",
    "        cat = 'top'\n",
    "        if \"cate_no=30\" in product_path or \"cate_no=61\" in product_path:\n",
    "            cat = 'top'\n",
    "        elif \"cate_no=31\" in product_path:\n",
    "            cat = 'bottom'\n",
    "\n",
    "        baseURL = product_path\n",
    "        \n",
    "        ## text_info element\n",
    "        text_info = driver.find_element('xpath', '//div[@class=\"detail_top_right\"]')\n",
    "        \n",
    "        \n",
    "        ## 이미지 추출\n",
    "        imageURL = []\n",
    "        images = []\n",
    "        images_cnt = 0\n",
    "        if len(driver.find_elements('xpath','//div[@id=\"product_detail\"]/div[@class=\"detailEditor\"]/img')) != 0:\n",
    "            images = driver.find_elements('xpath','//div[@id=\"product_detail\"]/div[@class=\"detailEditor\"]/img')\n",
    "            images_cnt = len(images)\n",
    "            for i in range(images_cnt):\n",
    "                imgsrc = driver.find_elements('xpath','//div[@id=\"product_detail\"]/div[@class=\"detailEditor\"]/img')[i].get_attribute('src')\n",
    "                imageURL.append(imgsrc)\n",
    "        elif len(driver.find_elements('xpath','//div[@id=\"product_detail\"]/div[@class=\"detailEditor\"]/div[1]/img')) != 0:\n",
    "            images = driver.find_elements('xpath','//div[@id=\"product_detail\"]/div[@class=\"detailEditor\"]/div[1]/img')\n",
    "            images_cnt = len(images)\n",
    "            for i in range(images_cnt):\n",
    "                imgsrc = driver.find_elements('xpath','//div[@id=\"product_detail\"]/div[@class=\"detailEditor\"]/div[1]/img')[i].get_attribute('src')\n",
    "                imageURL.append(imgsrc)\n",
    "        else:\n",
    "            continue\n",
    "        \n",
    "        ## base_name 추출\n",
    "        base_name = text_info.find_element('xpath', './div[@class=\"prd_name_wrap \"]/h2').text\n",
    "        \n",
    "        ## base_gender 추출\n",
    "        base_gender = 0\n",
    "        if \"우먼스\" in base_name:\n",
    "            base_gender = 2\n",
    "        \n",
    "        ## 가격 추출\n",
    "        price = \"\"\n",
    "        base_price = \"\"\n",
    "        \n",
    "        trs = text_info.find_elements(\"xpath\",'//td[@colspan=\"2\"]/div') #td의 div 항목 갯수\n",
    "        \n",
    "        ## 할인을 하지 않는 경우\n",
    "        if len(trs) == 2:\n",
    "            price = text_info.find_element('xpath', '//div[@class=\"display_price\"]/span[@id=\"sale_price\"]').text\n",
    "            base_price = price\n",
    "            \n",
    "        ## 할인을 하는 경우\n",
    "        elif len(trs) == 3:\n",
    "            price = text_info.find_element('xpath', '//div[@class=\"display_price\"]/span[@id=\"sale_price\"]').text\n",
    "            base_price = text_info.find_element('xpath', '//div[@id=\"origin_price\"]').text\n",
    "        else:\n",
    "            continue\n",
    "\n",
    "\n",
    "        ## color_fabric 추출\n",
    "        if len(driver.find_elements('xpath','//div[@class=\"addService\"]/div[2]/div[2]/ul/li[2]')) != 0:\n",
    "            color_fabric = driver.find_element('xpath','//div[@class=\"addService\"]/div[2]/div[2]/ul/li[2]').get_attribute('textContent')\n",
    "        elif len(driver.find_elements('xpath','//div[@class=\"addService\"]/div[1]/div[3]/div[2]/ul/li[2]')) != 0:\n",
    "            color_fabric = driver.find_element('xpath','//div[@class=\"addService\"]/div[1]/div[3]/div[2]/ul/li[2]').get_attribute('textContent')\n",
    "        else:\n",
    "            continue\n",
    "        \n",
    "        \n",
    "        select = \"\"\n",
    "        color_name = \"\"\n",
    "        base_code = \"\"\n",
    "        \n",
    "        ## option_title이 '색상'으로 되어 있는 경우\n",
    "        if len(text_info.find_elements('xpath', '//select[@option_title=\"색상\"]')) != 0:\n",
    "            \n",
    "            ## base_name에 옷의 색 정보가 포함되어있는 경우\n",
    "            if len(text_info.find_elements('xpath', '//select[@option_title=\"색상\"]/option')) == 3:\n",
    "                         \n",
    "                color_name = base_name.split(\" \")[-1]\n",
    "                base_code = base_name.replace(color_name, \"\")[:-1]\n",
    "            \n",
    "                select = Select(text_info.find_element('xpath', '//select[@option_title=\"색상\"]'))\n",
    "                try:\n",
    "                    select.select_by_visible_text(color_name)\n",
    "                except NoSuchElementException:\n",
    "                    try:\n",
    "                        color_text = color_name + \" [품절]\"\n",
    "                        select.select_by_visible_text(color_text)\n",
    "                    except:\n",
    "                        continue\n",
    "                except ElementNotInteractableException:\n",
    "                    continue\n",
    "                    \n",
    "                size_elements = text_info.find_elements('xpath', '//select[@option_title=\"사이즈\"]/option')[2:]\n",
    "                size = \"M\"\n",
    "                is_available = True\n",
    "\n",
    "                for element in size_elements:\n",
    "                    size = element.text.replace(\" [품절]\",\"\")\n",
    "                    if \"[품절]\" in element.text:\n",
    "                        is_available = False\n",
    "                    else:\n",
    "                        is_available = True\n",
    "                        \n",
    "                append_data(base_dict, cat, base_name, base_code, baseURL, color_name, base_gender, price, base_price, color_fabric, imageURL, size, is_available)\n",
    "            \n",
    "            ## base_name에 옷의 색 정보가 포함되어 있지 않은 경우\n",
    "            else:\n",
    "                option_cnt = len(text_info.find_elements('xpath', '//select[@option_title=\"색상\"]/option'))\n",
    "                \n",
    "                ## 각 색깔 별로 따로 정보를 추출 및 저장해야 함\n",
    "                for i in range(2,option_cnt):\n",
    "                    color_value = text_info.find_elements('xpath', '//select[@option_title=\"색상\"]/option')[i].get_attribute('value')\n",
    "                    ## color_value 안에 [품절]이란 단어 유무에 따른 color_name 선정\n",
    "                    if \"[품절]\" in color_value:\n",
    "                        color_name = color_value.replace(\" [품절]\", \"\")\n",
    "                    else:\n",
    "                        color_name = color_value\n",
    "                    \n",
    "                    base_code = base_name\n",
    "                    \n",
    "                    select = Select(text_info.find_element('xpath', '//select[@option_title=\"색상\"]'))\n",
    "                    try:\n",
    "                        select.select_by_visible_text(color_name)\n",
    "                    except NoSuchElementException:\n",
    "                        try:\n",
    "                            color_text = color_name + \" [품절]\"\n",
    "                            select.select_by_visible_text(color_text)\n",
    "                        except:\n",
    "                            continue\n",
    "                    except ElementNotInteractableException:\n",
    "                        continue\n",
    "                        \n",
    "                    size_elements = text_info.find_elements('xpath', '//select[@option_title=\"사이즈\"]/option')[2:]\n",
    "                    size = \"M\"\n",
    "                    is_available = True\n",
    "\n",
    "                    for element in size_elements:\n",
    "                        size = element.text.replace(\" [품절]\",\"\")\n",
    "                        if \"[품절]\" in element.text:\n",
    "                            is_available = False\n",
    "                        else:\n",
    "                            is_available = True\n",
    "                    \n",
    "                    append_data(base_dict, cat, base_name, base_code, baseURL, color_name, base_gender, price, base_price, color_fabric, imageURL, size, is_available)\n",
    "                \n",
    "            \n",
    "            \n",
    "            \n",
    "        ## option_title이 '컬러'로 되어 있는 경우\n",
    "        elif len(text_info.find_elements('xpath', '//select[@option_title=\"컬러\"]')) != 0:\n",
    "            \n",
    "            ## base_name에 옷의 색 정보가 포함되어있는 경우\n",
    "            if len(text_info.find_elements('xpath', '//select[@option_title=\"컬러\"]/option')) == 3:\n",
    "                         \n",
    "                color_name = base_name.split(\" \")[-1]\n",
    "                base_code = base_name.replace(color_name, \"\")[:-1]\n",
    "            \n",
    "                select = Select(text_info.find_element('xpath', '//select[@option_title=\"컬러\"]'))\n",
    "                try:\n",
    "                    select.select_by_visible_text(color_name)\n",
    "                except NoSuchElementException:\n",
    "                    try:\n",
    "                        color_text = color_name + \" [품절]\"\n",
    "                        select.select_by_visible_text(color_text)\n",
    "                    except:\n",
    "                        continue\n",
    "                except ElementNotInteractableException:\n",
    "                    continue\n",
    "                    \n",
    "                size_elements = text_info.find_elements('xpath', '//select[@option_title=\"사이즈\"]/option')[2:]\n",
    "                size = \"M\"\n",
    "                is_available = True\n",
    "\n",
    "                for element in size_elements:\n",
    "                    size = element.text.replace(\" [품절]\",\"\")\n",
    "                    if \"[품절]\" in element.text:\n",
    "                        is_available = False\n",
    "                    else:\n",
    "                        is_available = True\n",
    "                append_data(base_dict, cat, base_name, base_code, baseURL, color_name, base_gender, price, base_price, color_fabric, imageURL, size, is_available)\n",
    "            \n",
    "            \n",
    "            ## base_name에 옷의 색 정보가 포함되어 있지 않은 경우\n",
    "            else:\n",
    "                option_cnt = len(text_info.find_elements('xpath', '//select[@option_title=\"컬러\"]/option'))\n",
    "                \n",
    "                ## 각 색깔 별로 따로 정보를 추출 및 저장해야 함\n",
    "                for i in range(2,option_cnt):\n",
    "                    color_value = text_info.find_elements('xpath', '//select[@option_title=\"컬러\"]/option')[i].get_attribute('value')\n",
    "                    \n",
    "                    ## color_value 안에 [품절]이란 단어 유무에 따른 color_name 선정\n",
    "                    if \"[품절]\" in color_value:\n",
    "                        color_name = color_value.replace(\" [품절]\", \"\")\n",
    "                    else:\n",
    "                        color_name = color_value\n",
    "                    \n",
    "                    base_code = base_name\n",
    "                    \n",
    "                    select = Select(text_info.find_element('xpath', '//select[@option_title=\"컬러\"]'))\n",
    "                    try:\n",
    "                        select.select_by_visible_text(color_name)\n",
    "                    except NoSuchElementException:\n",
    "                        try:\n",
    "                            color_text = color_name + \" [품절]\"\n",
    "                            select.select_by_visible_text(color_text)\n",
    "                        except:\n",
    "                            continue\n",
    "                    except ElementNotInteractableException:\n",
    "                        continue\n",
    "                        \n",
    "                    size_elements = text_info.find_elements('xpath', '//select[@option_title=\"사이즈\"]/option')[2:]\n",
    "                    size = \"M\"\n",
    "                    is_available = True\n",
    "\n",
    "                    for element in size_elements:\n",
    "                        size = element.text.replace(\" [품절]\",\"\")\n",
    "                        if \"[품절]\" in element.text:\n",
    "                            is_available = False\n",
    "                        else:\n",
    "                            is_available = True\n",
    "                            \n",
    "                    append_data(base_dict, cat, base_name, base_code, baseURL, color_name, base_gender, price, base_price, color_fabric, imageURL, size, is_available)\n",
    "            \n",
    "            \n",
    "            \n",
    "        ## option_title이 없는 경우 (컬러 선택할 수 없는 경우)\n",
    "        else:\n",
    "            continue # 너무 예외적인 케이스라 pass\n",
    "            \n",
    "    \n",
    "    print(\"len: \", len(base_dict))\n",
    "    \n",
    "    return base_dict"
   ]
  },
  {
   "cell_type": "code",
   "execution_count": 9,
   "id": "3899b48b",
   "metadata": {},
   "outputs": [],
   "source": [
    "import pandas as pd"
   ]
  },
  {
   "cell_type": "code",
   "execution_count": 10,
   "id": "efcec33f",
   "metadata": {},
   "outputs": [
    {
     "name": "stdout",
     "output_type": "stream",
     "text": [
      "784\n"
     ]
    }
   ],
   "source": [
    "urls = [\n",
    "        ('https://whoisnerdy.com/product/list.html?cate_no=30', 15), #상의\n",
    "        ('https://whoisnerdy.com/product/list.html?cate_no=61', 5), #자켓\n",
    "        ('https://whoisnerdy.com/product/list.html?cate_no=31', 7), #하의\n",
    "         ]\n",
    "\n",
    "product_paths = find_product_paths(urls)\n",
    "print(len(product_paths))"
   ]
  },
  {
   "cell_type": "code",
   "execution_count": 11,
   "id": "a3870dc9",
   "metadata": {},
   "outputs": [
    {
     "name": "stdout",
     "output_type": "stream",
     "text": [
      "1540\n"
     ]
    }
   ],
   "source": [
    "all_color_paths = find_all_color_paths(product_paths)\n",
    "print(len(all_color_paths))"
   ]
  },
  {
   "cell_type": "code",
   "execution_count": 12,
   "id": "2f7644bb",
   "metadata": {},
   "outputs": [
    {
     "name": "stdout",
     "output_type": "stream",
     "text": [
      "1127\n"
     ]
    }
   ],
   "source": [
    "## remove duplicates\n",
    "all_color_paths = list(set(all_color_paths))\n",
    "print(len(all_color_paths))"
   ]
  },
  {
   "cell_type": "code",
   "execution_count": 13,
   "id": "123bc282",
   "metadata": {},
   "outputs": [
    {
     "name": "stdout",
     "output_type": "stream",
     "text": [
      "1126\n"
     ]
    }
   ],
   "source": [
    "## remove 품절 상품\n",
    "for path in all_color_paths:\n",
    "    if type(path) is not str:\n",
    "        all_color_paths.remove(path)\n",
    "print(len(all_color_paths))"
   ]
  },
  {
   "cell_type": "code",
   "execution_count": 26,
   "id": "da831568",
   "metadata": {},
   "outputs": [
    {
     "name": "stderr",
     "output_type": "stream",
     "text": [
      "WARNING:root:Can not find chromedriver for currently installed chrome version.\n"
     ]
    },
    {
     "name": "stdout",
     "output_type": "stream",
     "text": [
      "len:  12\n"
     ]
    },
    {
     "data": {
      "text/plain": [
       "{'baseCat': [],\n",
       " 'baseName': [],\n",
       " 'baseCode': [],\n",
       " 'baseUrl': [],\n",
       " 'colorName': [],\n",
       " 'baseGender': [],\n",
       " 'price': [],\n",
       " 'basePrice': [],\n",
       " 'colorFabric': [],\n",
       " 'imageUrl': [],\n",
       " 'size': [],\n",
       " 'isAvailable': []}"
      ]
     },
     "execution_count": 26,
     "metadata": {},
     "output_type": "execute_result"
    }
   ],
   "source": [
    "# a = [\"https://whoisnerdy.com/product/detail.html?product_no=5050&cate_no=30&display_group=1#none\"]\n",
    "\n",
    "# crawl_pages(a)"
   ]
  },
  {
   "cell_type": "code",
   "execution_count": 29,
   "id": "565fe62d",
   "metadata": {},
   "outputs": [
    {
     "name": "stderr",
     "output_type": "stream",
     "text": [
      "WARNING:root:Can not find chromedriver for currently installed chrome version.\n"
     ]
    },
    {
     "name": "stdout",
     "output_type": "stream",
     "text": [
      "len:  12\n",
      "    baseCat                baseName             baseCode  \\\n",
      "0    bottom            에센셜 조거 팬츠 블랙            에센셜 조거 팬츠   \n",
      "1       top  우먼스 컬러 블락 윈드브레이커 세트 블랙  우먼스 컬러 블락 윈드브레이커 세트   \n",
      "2       top   레이어드 커시브 로고 풀오버 후드 블랙   레이어드 커시브 로고 풀오버 후드   \n",
      "3       top          타이다잉 크롭 가디건 코랄          타이다잉 크롭 가디건   \n",
      "4    bottom                벨벳 트랙 팬츠             벨벳 트랙 팬츠   \n",
      "..      ...                     ...                  ...   \n",
      "425  bottom        커브드 와이드 트랙 팬츠 블랙        커브드 와이드 트랙 팬츠   \n",
      "426     top    널디코니 크롭 반팔 티셔츠 라이트퍼플       널디코니 크롭 반팔 티셔츠   \n",
      "427     top          사이드 라인 크롭 탑 블루          사이드 라인 크롭 탑   \n",
      "428     top        피케 폴로 반팔 티셔츠 화이트         피케 폴로 반팔 티셔츠   \n",
      "429     top            레이싱 트랙 팬츠 블랙            레이싱 트랙 팬츠   \n",
      "\n",
      "                                               baseUrl colorName  baseGender  \\\n",
      "0    https://whoisnerdy.com/product/detail.html?pro...        블랙           0   \n",
      "1    https://whoisnerdy.com/product/detail.html?pro...        블랙           2   \n",
      "2    https://whoisnerdy.com/product/detail.html?pro...        블랙           0   \n",
      "3    https://whoisnerdy.com/product/detail.html?pro...        코랄           0   \n",
      "4    https://whoisnerdy.com/product/detail.html?pro...       네이비           0   \n",
      "..                                                 ...       ...         ...   \n",
      "425  https://whoisnerdy.com/product/detail.html?pro...        블랙           0   \n",
      "426  https://whoisnerdy.com/product/detail.html?pro...     라이트퍼플           0   \n",
      "427  https://whoisnerdy.com/product/detail.html?pro...        블루           0   \n",
      "428  https://whoisnerdy.com/product/detail.html?pro...       화이트           0   \n",
      "429  https://whoisnerdy.com/product/detail.html?pro...        블랙           0   \n",
      "\n",
      "        price basePrice                                        colorFabric  \\\n",
      "0     37,950원   69,000원                             소재겉감: 면 65%, 폴리에스터 35%   \n",
      "1    131,600원  188,000원  소재상의 - 겉감: 나일론 100% 배색 1: 폴리에스터 100% 배색 2: 나일론...   \n",
      "2     45,000원   89,000원                             소재겉감: 면 60%, 폴리에스터 40%   \n",
      "3     83,400원  139,000원                                      소재겉감 : 면 100%   \n",
      "4     44,500원   89,000원                                   소재겉감: 폴리에스터 100%   \n",
      "..        ...       ...                                                ...   \n",
      "425   99,000원   99,000원                      소재겉감: 폴리에스터 100% / 배색: 면 100%   \n",
      "426   21,000원   42,000원                                           소재면 100%   \n",
      "427   34,300원   49,000원                                  소재면 94%, 폴리우레탄 6%   \n",
      "428   55,200원   69,000원     소재겉감: 면 59%, 폴리에스터 41% 배색: 폴리에스터 97%, 폴리우레탄 3%   \n",
      "429  119,000원  119,000원              소재겉감 : 폴리에스터 100%\\n주머니감: 폴리에스터 100%\\n   \n",
      "\n",
      "                                              imageUrl size  isAvailable  \n",
      "0    [data:image/png;base64,iVBORw0KGgoAAAANSUhEUgA...    L         True  \n",
      "1    [data:image/png;base64,iVBORw0KGgoAAAANSUhEUgA...    M         True  \n",
      "2    [data:image/png;base64,iVBORw0KGgoAAAANSUhEUgA...   XL        False  \n",
      "3    [data:image/png;base64,iVBORw0KGgoAAAANSUhEUgA...    M         True  \n",
      "4    [data:image/png;base64,iVBORw0KGgoAAAANSUhEUgA...    L         True  \n",
      "..                                                 ...  ...          ...  \n",
      "425  [data:image/png;base64,iVBORw0KGgoAAAANSUhEUgA...    L         True  \n",
      "426  [data:image/png;base64,iVBORw0KGgoAAAANSUhEUgA...    S        False  \n",
      "427  [data:image/png;base64,iVBORw0KGgoAAAANSUhEUgA...    M        False  \n",
      "428  [data:image/png;base64,iVBORw0KGgoAAAANSUhEUgA...    L         True  \n",
      "429  [data:image/png;base64,iVBORw0KGgoAAAANSUhEUgA...    L         True  \n",
      "\n",
      "[430 rows x 12 columns]\n"
     ]
    }
   ],
   "source": [
    "dict1 = crawl_pages(all_color_paths[:500])\n",
    "df1 = pd.DataFrame.from_dict(dict1)\n",
    "\n",
    "print(df1)"
   ]
  },
  {
   "cell_type": "code",
   "execution_count": 32,
   "id": "ceff01fe",
   "metadata": {},
   "outputs": [
    {
     "name": "stderr",
     "output_type": "stream",
     "text": [
      "WARNING:root:Can not find chromedriver for currently installed chrome version.\n"
     ]
    },
    {
     "name": "stdout",
     "output_type": "stream",
     "text": [
      "len:  12\n",
      "    baseCat                  baseName               baseCode  \\\n",
      "0       top      엔와이 사이드 블락 스웻팬츠 다크퍼플        엔와이 사이드 블락 스웻팬츠   \n",
      "1       top        우먼스 수플레 크롭 스웻셔츠 크림        우먼스 수플레 크롭 스웻셔츠   \n",
      "2       top          빈티지 로고 풀오버 후디 차콜          빈티지 로고 풀오버 후디   \n",
      "3       top          머니 토끼 반팔 티셔츠 화이트           머니 토끼 반팔 티셔츠   \n",
      "4       top        NY 반팔 윈드브레이커 세트 크림        NY 반팔 윈드브레이커 세트   \n",
      "..      ...                       ...                    ...   \n",
      "403     top  널디 X 몬타나 피케 폴로 반팔 티셔츠 크림  널디 X 몬타나 피케 폴로 반팔 티셔츠   \n",
      "404     top         유니 컬러 블락 우븐 세트 핑크         유니 컬러 블락 우븐 세트   \n",
      "405     top           우먼스 크롭 후디 집업 블랙           우먼스 크롭 후디 집업   \n",
      "406     top   디즈니 X 널디 소시지 반팔 티셔츠 화이트    디즈니 X 널디 소시지 반팔 티셔츠   \n",
      "407  bottom               에센셜 스웻팬츠 블랙               에센셜 스웻팬츠   \n",
      "\n",
      "                                               baseUrl colorName  baseGender  \\\n",
      "0    https://whoisnerdy.com/product/detail.html?pro...      다크퍼플           0   \n",
      "1    https://whoisnerdy.com/product/detail.html?pro...        크림           2   \n",
      "2    https://whoisnerdy.com/product/detail.html?pro...        차콜           0   \n",
      "3    https://whoisnerdy.com/product/detail.html?pro...       화이트           0   \n",
      "4    https://whoisnerdy.com/product/detail.html?pro...        크림           0   \n",
      "..                                                 ...       ...         ...   \n",
      "403  https://whoisnerdy.com/product/detail.html?pro...        크림           0   \n",
      "404  https://whoisnerdy.com/product/detail.html?pro...        핑크           0   \n",
      "405  https://whoisnerdy.com/product/detail.html?pro...        블랙           2   \n",
      "406  https://whoisnerdy.com/product/detail.html?pro...       화이트           0   \n",
      "407  https://whoisnerdy.com/product/detail.html?pro...        블랙           0   \n",
      "\n",
      "        price basePrice                                        colorFabric  \\\n",
      "0     99,000원   99,000원            소재겉감1: 면100% / 겉감2: 면100% / 주머니감: 면100%   \n",
      "1     59,500원   85,000원                            소재겉감 : 면 65%, 폴리에스터 35%   \n",
      "2     95,000원   95,000원              소재겉감1: 면 100%\\n겉감2: 면 95%, 폴리우레탄 5%\\n   \n",
      "3     24,500원   49,000원                                           소재면 100%   \n",
      "4    128,160원  178,000원   소재겉감 : 나일른 100%\\n 배색 : 나일론 100%\\n 안감: 폴리에스터 100%   \n",
      "..        ...       ...                                                ...   \n",
      "403   60,000원   75,000원  소재겉감: 면 59%, 폴리에스터 41% 배색 1: 면 59%, 폴리에스터 41% ...   \n",
      "404  238,000원  238,000원  소재겉감: 나일론 100% 배색1: 나일론 100% 배색2: 폴리에스터 100% 안...   \n",
      "405   89,000원   89,000원    소재겉감1: 면 60%, 폴리에스터 40%\\n겉감2: 면 94%, 폴리우레탄 6%\\n   \n",
      "406   29,400원   49,000원                  소재겉감: 면 100% 배색: 면 72%, 폴리에스터 28%   \n",
      "407   47,400원   79,000원                             소재겉감: 면 65%, 폴리에스터 35%   \n",
      "\n",
      "                                              imageUrl size  isAvailable  \n",
      "0    [data:image/png;base64,iVBORw0KGgoAAAANSUhEUgA...    L         True  \n",
      "1    [data:image/png;base64,iVBORw0KGgoAAAANSUhEUgA...    M         True  \n",
      "2    [data:image/png;base64,iVBORw0KGgoAAAANSUhEUgA...    L         True  \n",
      "3    [data:image/png;base64,iVBORw0KGgoAAAANSUhEUgA...    L         True  \n",
      "4    [data:image/png;base64,iVBORw0KGgoAAAANSUhEUgA...    M         True  \n",
      "..                                                 ...  ...          ...  \n",
      "403  [data:image/png;base64,iVBORw0KGgoAAAANSUhEUgA...    L         True  \n",
      "404  [data:image/png;base64,iVBORw0KGgoAAAANSUhEUgA...    M         True  \n",
      "405  [data:image/png;base64,iVBORw0KGgoAAAANSUhEUgA...    M         True  \n",
      "406  [data:image/png;base64,iVBORw0KGgoAAAANSUhEUgA...    L         True  \n",
      "407  [data:image/png;base64,iVBORw0KGgoAAAANSUhEUgA...    L         True  \n",
      "\n",
      "[408 rows x 12 columns]\n"
     ]
    }
   ],
   "source": [
    "dict2 = crawl_pages(all_color_paths[500:1000])\n",
    "df2 = pd.DataFrame.from_dict(dict2)\n",
    "\n",
    "print(df2)"
   ]
  },
  {
   "cell_type": "code",
   "execution_count": 33,
   "id": "7fd66fe1",
   "metadata": {},
   "outputs": [
    {
     "name": "stderr",
     "output_type": "stream",
     "text": [
      "WARNING:root:Can not find chromedriver for currently installed chrome version.\n"
     ]
    },
    {
     "name": "stdout",
     "output_type": "stream",
     "text": [
      "len:  12\n",
      "    baseCat                         baseName                      baseCode  \\\n",
      "0       top  널디 X 몬타나 우먼스 피케 폴로 크롭 반팔 티셔츠 크림  널디 X 몬타나 우먼스 피케 폴로 크롭 반팔 티셔츠   \n",
      "1       top             다이애그널 라인 스웻셔츠 멜란지그레이                 다이애그널 라인 스웻셔츠   \n",
      "2       top               베이직 빅 로고 반팔 티셔츠 블루               베이직 빅 로고 반팔 티셔츠   \n",
      "3    bottom                   엔와이 우븐 트랙 하프팬츠                엔와이 우븐 트랙 하프팬츠   \n",
      "4    bottom                   엔와이 우븐 트랙 하프팬츠                엔와이 우븐 트랙 하프팬츠   \n",
      "..      ...                              ...                           ...   \n",
      "103     top                  빅 로고 스웻셔츠 라이트퍼플                     빅 로고 스웻셔츠   \n",
      "104     top                빅 로고 풀오버 후디 라이트퍼플                   빅 로고 풀오버 후디   \n",
      "105  bottom                 NY 바이컬러 트랙 팬츠 블랙                 NY 바이컬러 트랙 팬츠   \n",
      "106     top               우먼스 부클 로고 스웻셔츠 네이비                우먼스 부클 로고 스웻셔츠   \n",
      "107     top                  체커보드 테잎 스웻셔츠 크림                  체커보드 테잎 스웻셔츠   \n",
      "\n",
      "                                               baseUrl colorName  baseGender  \\\n",
      "0    https://whoisnerdy.com/product/detail.html?pro...        크림           2   \n",
      "1    https://whoisnerdy.com/product/detail.html?pro...    멜란지그레이           0   \n",
      "2    https://whoisnerdy.com/product/detail.html?pro...        블루           0   \n",
      "3    https://whoisnerdy.com/product/detail.html?pro...        블랙           0   \n",
      "4    https://whoisnerdy.com/product/detail.html?pro...        크림           0   \n",
      "..                                                 ...       ...         ...   \n",
      "103  https://whoisnerdy.com/product/detail.html?pro...     라이트퍼플           0   \n",
      "104  https://whoisnerdy.com/product/detail.html?pro...     라이트퍼플           0   \n",
      "105  https://whoisnerdy.com/product/detail.html?pro...        블랙           0   \n",
      "106  https://whoisnerdy.com/product/detail.html?pro...       네이비           2   \n",
      "107  https://whoisnerdy.com/product/detail.html?pro...        크림           0   \n",
      "\n",
      "       price basePrice                                        colorFabric  \\\n",
      "0    55,200원   69,000원  소재겉감:  면 59%, 폴리에스터 41% 배색 1: 면 59%, 폴리에스터 41%...   \n",
      "1    53,400원   89,000원                 소재겉감: 면 100% / 배색: 면 93%, 폴리우레탄 7%   \n",
      "2    15,600원   39,000원                                      소재겉감 : 면 100%   \n",
      "3    41,400원   69,000원  소재[블랙] 겉감 : 나일론 100%[크림] 겉감 : 나일론 100%, 안감 : 폴...   \n",
      "4    41,400원   69,000원  소재[블랙] 겉감 : 나일론 100%[크림] 겉감 : 나일론 100%, 안감 : 폴...   \n",
      "..       ...       ...                                                ...   \n",
      "103  39,000원   75,000원                            소재겉감 : 면 65%, 폴리에스터 35%   \n",
      "104  45,000원   89,000원                            소재겉감 : 면 65%, 폴리에스터 35%   \n",
      "105  63,200원   79,000원                                   소재겉감: 폴리에스터 100%   \n",
      "106  75,000원   75,000원      소재겉감 1: 면62%, 폴리에스터 38% / 겉감 2: 면98%, 폴리우레탄2%   \n",
      "107  49,000원   85,000원                            소재겉감 : 면 65%, 폴리에스터 35%   \n",
      "\n",
      "                                              imageUrl size  isAvailable  \n",
      "0    [data:image/png;base64,iVBORw0KGgoAAAANSUhEUgA...    M         True  \n",
      "1    [data:image/png;base64,iVBORw0KGgoAAAANSUhEUgA...    L         True  \n",
      "2    [data:image/png;base64,iVBORw0KGgoAAAANSUhEUgA...    L        False  \n",
      "3    [data:image/png;base64,iVBORw0KGgoAAAANSUhEUgA...    L         True  \n",
      "4    [data:image/png;base64,iVBORw0KGgoAAAANSUhEUgA...    L         True  \n",
      "..                                                 ...  ...          ...  \n",
      "103  [data:image/png;base64,iVBORw0KGgoAAAANSUhEUgA...    L         True  \n",
      "104  [data:image/png;base64,iVBORw0KGgoAAAANSUhEUgA...    L         True  \n",
      "105  [data:image/png;base64,iVBORw0KGgoAAAANSUhEUgA...    L        False  \n",
      "106  [data:image/png;base64,iVBORw0KGgoAAAANSUhEUgA...    M         True  \n",
      "107  [data:image/png;base64,iVBORw0KGgoAAAANSUhEUgA...    L         True  \n",
      "\n",
      "[108 rows x 12 columns]\n"
     ]
    }
   ],
   "source": [
    "dict3 = crawl_pages(all_color_paths[1000:])\n",
    "df3 = pd.DataFrame.from_dict(dict3)\n",
    "\n",
    "print(df3)"
   ]
  },
  {
   "cell_type": "code",
   "execution_count": 34,
   "id": "f86a233e",
   "metadata": {},
   "outputs": [],
   "source": [
    "df_final = pd.concat([df1, df2, df3])"
   ]
  },
  {
   "cell_type": "code",
   "execution_count": 35,
   "id": "438688b7",
   "metadata": {},
   "outputs": [],
   "source": [
    "df_final.to_csv('result.csv',index=False)"
   ]
  },
  {
   "cell_type": "code",
   "execution_count": null,
   "id": "6e4b3c80",
   "metadata": {},
   "outputs": [],
   "source": []
  }
 ],
 "metadata": {
  "kernelspec": {
   "display_name": "Python 3 (ipykernel)",
   "language": "python",
   "name": "python3"
  },
  "language_info": {
   "codemirror_mode": {
    "name": "ipython",
    "version": 3
   },
   "file_extension": ".py",
   "mimetype": "text/x-python",
   "name": "python",
   "nbconvert_exporter": "python",
   "pygments_lexer": "ipython3",
   "version": "3.8.8"
  }
 },
 "nbformat": 4,
 "nbformat_minor": 5
}
